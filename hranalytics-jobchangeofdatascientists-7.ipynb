{
 "cells": [
  {
   "cell_type": "code",
   "execution_count": 1,
   "id": "c53e2804",
   "metadata": {
    "execution": {
     "iopub.execute_input": "2021-11-13T23:08:32.126960Z",
     "iopub.status.busy": "2021-11-13T23:08:32.125737Z",
     "iopub.status.idle": "2021-11-13T23:08:33.731174Z",
     "shell.execute_reply": "2021-11-13T23:08:33.731811Z",
     "shell.execute_reply.started": "2021-11-13T22:41:31.607532Z"
    },
    "papermill": {
     "duration": 1.699733,
     "end_time": "2021-11-13T23:08:33.732108",
     "exception": false,
     "start_time": "2021-11-13T23:08:32.032375",
     "status": "completed"
    },
    "tags": []
   },
   "outputs": [
    {
     "name": "stderr",
     "output_type": "stream",
     "text": [
      "/opt/conda/lib/python3.7/site-packages/sklearn/utils/deprecation.py:143: FutureWarning: The sklearn.metrics.scorer module is  deprecated in version 0.22 and will be removed in version 0.24. The corresponding classes / functions should instead be imported from sklearn.metrics. Anything that cannot be imported from sklearn.metrics is now part of the private API.\n",
      "  warnings.warn(message, FutureWarning)\n"
     ]
    }
   ],
   "source": [
    "import pandas as pd \n",
    "import numpy as np\n",
    "import seaborn as sns\n",
    "from matplotlib import pyplot as plt\n",
    "import matplotlib\n",
    "import matplotlib.pyplot as plt\n",
    "\n",
    "from sklearn import svm\n",
    "from sklearn.linear_model import LogisticRegression\n",
    "from sklearn.linear_model import ElasticNet\n",
    "from sklearn.ensemble import RandomForestRegressor\n",
    "from sklearn.ensemble import ExtraTreesRegressor\n",
    "from sklearn.tree import DecisionTreeClassifier\n",
    "from sklearn.ensemble import RandomForestClassifier\n",
    "from sklearn.ensemble import RandomForestClassifier,ExtraTreesClassifier\n",
    "from xgboost import XGBRegressor\n",
    "from sklearn.metrics import plot_confusion_matrix\n",
    "from sklearn.model_selection import train_test_split\n",
    "from sklearn.svm import SVC\n",
    "\n",
    "from sklearn.metrics import confusion_matrix,accuracy_score,classification_report,recall_score\n",
    "from sklearn.metrics import roc_auc_score,roc_curve,scorer,precision_score\n",
    "from sklearn.metrics import f1_score"
   ]
  },
  {
   "cell_type": "code",
   "execution_count": 2,
   "id": "54849e5c",
   "metadata": {
    "execution": {
     "iopub.execute_input": "2021-11-13T23:08:33.965012Z",
     "iopub.status.busy": "2021-11-13T23:08:33.962691Z",
     "iopub.status.idle": "2021-11-13T23:08:34.037968Z",
     "shell.execute_reply": "2021-11-13T23:08:34.037396Z",
     "shell.execute_reply.started": "2021-11-13T22:41:32.196199Z"
    },
    "papermill": {
     "duration": 0.162383,
     "end_time": "2021-11-13T23:08:34.038114",
     "exception": false,
     "start_time": "2021-11-13T23:08:33.875731",
     "status": "completed"
    },
    "tags": []
   },
   "outputs": [],
   "source": [
    "df = pd.read_csv(\"../input/hr-analytics-job-change-of-data-scientists/aug_train.csv\")"
   ]
  },
  {
   "cell_type": "code",
   "execution_count": 3,
   "id": "a4d4cae8",
   "metadata": {
    "execution": {
     "iopub.execute_input": "2021-11-13T23:08:34.212974Z",
     "iopub.status.busy": "2021-11-13T23:08:34.211941Z",
     "iopub.status.idle": "2021-11-13T23:08:34.217451Z",
     "shell.execute_reply": "2021-11-13T23:08:34.218149Z",
     "shell.execute_reply.started": "2021-11-13T22:41:32.254602Z"
    },
    "papermill": {
     "duration": 0.099219,
     "end_time": "2021-11-13T23:08:34.218338",
     "exception": false,
     "start_time": "2021-11-13T23:08:34.119119",
     "status": "completed"
    },
    "tags": []
   },
   "outputs": [],
   "source": [
    "dt = df.copy()"
   ]
  },
  {
   "cell_type": "code",
   "execution_count": 4,
   "id": "a8858f41",
   "metadata": {
    "execution": {
     "iopub.execute_input": "2021-11-13T23:08:34.398108Z",
     "iopub.status.busy": "2021-11-13T23:08:34.397112Z",
     "iopub.status.idle": "2021-11-13T23:08:34.424036Z",
     "shell.execute_reply": "2021-11-13T23:08:34.424563Z",
     "shell.execute_reply.started": "2021-11-13T22:41:32.264199Z"
    },
    "papermill": {
     "duration": 0.118344,
     "end_time": "2021-11-13T23:08:34.424771",
     "exception": false,
     "start_time": "2021-11-13T23:08:34.306427",
     "status": "completed"
    },
    "tags": []
   },
   "outputs": [
    {
     "data": {
      "text/html": [
       "<div>\n",
       "<style scoped>\n",
       "    .dataframe tbody tr th:only-of-type {\n",
       "        vertical-align: middle;\n",
       "    }\n",
       "\n",
       "    .dataframe tbody tr th {\n",
       "        vertical-align: top;\n",
       "    }\n",
       "\n",
       "    .dataframe thead th {\n",
       "        text-align: right;\n",
       "    }\n",
       "</style>\n",
       "<table border=\"1\" class=\"dataframe\">\n",
       "  <thead>\n",
       "    <tr style=\"text-align: right;\">\n",
       "      <th></th>\n",
       "      <th>enrollee_id</th>\n",
       "      <th>city</th>\n",
       "      <th>city_development_index</th>\n",
       "      <th>gender</th>\n",
       "      <th>relevent_experience</th>\n",
       "      <th>enrolled_university</th>\n",
       "      <th>education_level</th>\n",
       "      <th>major_discipline</th>\n",
       "      <th>experience</th>\n",
       "      <th>company_size</th>\n",
       "      <th>company_type</th>\n",
       "      <th>last_new_job</th>\n",
       "      <th>training_hours</th>\n",
       "      <th>target</th>\n",
       "    </tr>\n",
       "  </thead>\n",
       "  <tbody>\n",
       "    <tr>\n",
       "      <th>0</th>\n",
       "      <td>8949</td>\n",
       "      <td>city_103</td>\n",
       "      <td>0.920</td>\n",
       "      <td>Male</td>\n",
       "      <td>Has relevent experience</td>\n",
       "      <td>no_enrollment</td>\n",
       "      <td>Graduate</td>\n",
       "      <td>STEM</td>\n",
       "      <td>&gt;20</td>\n",
       "      <td>NaN</td>\n",
       "      <td>NaN</td>\n",
       "      <td>1</td>\n",
       "      <td>36</td>\n",
       "      <td>1.0</td>\n",
       "    </tr>\n",
       "    <tr>\n",
       "      <th>1</th>\n",
       "      <td>29725</td>\n",
       "      <td>city_40</td>\n",
       "      <td>0.776</td>\n",
       "      <td>Male</td>\n",
       "      <td>No relevent experience</td>\n",
       "      <td>no_enrollment</td>\n",
       "      <td>Graduate</td>\n",
       "      <td>STEM</td>\n",
       "      <td>15</td>\n",
       "      <td>50-99</td>\n",
       "      <td>Pvt Ltd</td>\n",
       "      <td>&gt;4</td>\n",
       "      <td>47</td>\n",
       "      <td>0.0</td>\n",
       "    </tr>\n",
       "    <tr>\n",
       "      <th>2</th>\n",
       "      <td>11561</td>\n",
       "      <td>city_21</td>\n",
       "      <td>0.624</td>\n",
       "      <td>NaN</td>\n",
       "      <td>No relevent experience</td>\n",
       "      <td>Full time course</td>\n",
       "      <td>Graduate</td>\n",
       "      <td>STEM</td>\n",
       "      <td>5</td>\n",
       "      <td>NaN</td>\n",
       "      <td>NaN</td>\n",
       "      <td>never</td>\n",
       "      <td>83</td>\n",
       "      <td>0.0</td>\n",
       "    </tr>\n",
       "    <tr>\n",
       "      <th>3</th>\n",
       "      <td>33241</td>\n",
       "      <td>city_115</td>\n",
       "      <td>0.789</td>\n",
       "      <td>NaN</td>\n",
       "      <td>No relevent experience</td>\n",
       "      <td>NaN</td>\n",
       "      <td>Graduate</td>\n",
       "      <td>Business Degree</td>\n",
       "      <td>&lt;1</td>\n",
       "      <td>NaN</td>\n",
       "      <td>Pvt Ltd</td>\n",
       "      <td>never</td>\n",
       "      <td>52</td>\n",
       "      <td>1.0</td>\n",
       "    </tr>\n",
       "    <tr>\n",
       "      <th>4</th>\n",
       "      <td>666</td>\n",
       "      <td>city_162</td>\n",
       "      <td>0.767</td>\n",
       "      <td>Male</td>\n",
       "      <td>Has relevent experience</td>\n",
       "      <td>no_enrollment</td>\n",
       "      <td>Masters</td>\n",
       "      <td>STEM</td>\n",
       "      <td>&gt;20</td>\n",
       "      <td>50-99</td>\n",
       "      <td>Funded Startup</td>\n",
       "      <td>4</td>\n",
       "      <td>8</td>\n",
       "      <td>0.0</td>\n",
       "    </tr>\n",
       "  </tbody>\n",
       "</table>\n",
       "</div>"
      ],
      "text/plain": [
       "   enrollee_id      city  city_development_index gender  \\\n",
       "0         8949  city_103                   0.920   Male   \n",
       "1        29725   city_40                   0.776   Male   \n",
       "2        11561   city_21                   0.624    NaN   \n",
       "3        33241  city_115                   0.789    NaN   \n",
       "4          666  city_162                   0.767   Male   \n",
       "\n",
       "       relevent_experience enrolled_university education_level  \\\n",
       "0  Has relevent experience       no_enrollment        Graduate   \n",
       "1   No relevent experience       no_enrollment        Graduate   \n",
       "2   No relevent experience    Full time course        Graduate   \n",
       "3   No relevent experience                 NaN        Graduate   \n",
       "4  Has relevent experience       no_enrollment         Masters   \n",
       "\n",
       "  major_discipline experience company_size    company_type last_new_job  \\\n",
       "0             STEM        >20          NaN             NaN            1   \n",
       "1             STEM         15        50-99         Pvt Ltd           >4   \n",
       "2             STEM          5          NaN             NaN        never   \n",
       "3  Business Degree         <1          NaN         Pvt Ltd        never   \n",
       "4             STEM        >20        50-99  Funded Startup            4   \n",
       "\n",
       "   training_hours  target  \n",
       "0              36     1.0  \n",
       "1              47     0.0  \n",
       "2              83     0.0  \n",
       "3              52     1.0  \n",
       "4               8     0.0  "
      ]
     },
     "execution_count": 4,
     "metadata": {},
     "output_type": "execute_result"
    }
   ],
   "source": [
    "df.head()"
   ]
  },
  {
   "cell_type": "code",
   "execution_count": 5,
   "id": "97f2f902",
   "metadata": {
    "execution": {
     "iopub.execute_input": "2021-11-13T23:08:34.602883Z",
     "iopub.status.busy": "2021-11-13T23:08:34.602130Z",
     "iopub.status.idle": "2021-11-13T23:08:34.607854Z",
     "shell.execute_reply": "2021-11-13T23:08:34.608453Z",
     "shell.execute_reply.started": "2021-11-13T22:41:32.292722Z"
    },
    "papermill": {
     "duration": 0.10327,
     "end_time": "2021-11-13T23:08:34.608650",
     "exception": false,
     "start_time": "2021-11-13T23:08:34.505380",
     "status": "completed"
    },
    "tags": []
   },
   "outputs": [
    {
     "data": {
      "text/plain": [
       "enrollee_id                  0\n",
       "city                         0\n",
       "city_development_index       0\n",
       "gender                    4508\n",
       "relevent_experience          0\n",
       "enrolled_university        386\n",
       "education_level            460\n",
       "major_discipline          2813\n",
       "experience                  65\n",
       "company_size              5938\n",
       "company_type              6140\n",
       "last_new_job               423\n",
       "training_hours               0\n",
       "target                       0\n",
       "dtype: int64"
      ]
     },
     "execution_count": 5,
     "metadata": {},
     "output_type": "execute_result"
    }
   ],
   "source": [
    "df.isnull().sum()"
   ]
  },
  {
   "cell_type": "markdown",
   "id": "2ffa9c51",
   "metadata": {
    "papermill": {
     "duration": 0.083671,
     "end_time": "2021-11-13T23:08:34.775830",
     "exception": false,
     "start_time": "2021-11-13T23:08:34.692159",
     "status": "completed"
    },
    "tags": []
   },
   "source": [
    "## enrollee_id"
   ]
  },
  {
   "cell_type": "code",
   "execution_count": 6,
   "id": "b8a3b680",
   "metadata": {
    "execution": {
     "iopub.execute_input": "2021-11-13T23:08:34.950852Z",
     "iopub.status.busy": "2021-11-13T23:08:34.950070Z",
     "iopub.status.idle": "2021-11-13T23:08:34.960860Z",
     "shell.execute_reply": "2021-11-13T23:08:34.961454Z",
     "shell.execute_reply.started": "2021-11-13T22:41:32.323592Z"
    },
    "papermill": {
     "duration": 0.100344,
     "end_time": "2021-11-13T23:08:34.961676",
     "exception": false,
     "start_time": "2021-11-13T23:08:34.861332",
     "status": "completed"
    },
    "tags": []
   },
   "outputs": [
    {
     "data": {
      "text/plain": [
       "0     8949\n",
       "1    29725\n",
       "2    11561\n",
       "3    33241\n",
       "4      666\n",
       "Name: enrollee_id, dtype: int64"
      ]
     },
     "execution_count": 6,
     "metadata": {},
     "output_type": "execute_result"
    }
   ],
   "source": [
    "df['enrollee_id'].head()"
   ]
  },
  {
   "cell_type": "code",
   "execution_count": 7,
   "id": "0d0fa6e2",
   "metadata": {
    "execution": {
     "iopub.execute_input": "2021-11-13T23:08:35.127465Z",
     "iopub.status.busy": "2021-11-13T23:08:35.126542Z",
     "iopub.status.idle": "2021-11-13T23:08:35.131374Z",
     "shell.execute_reply": "2021-11-13T23:08:35.131927Z",
     "shell.execute_reply.started": "2021-11-13T22:41:32.334776Z"
    },
    "papermill": {
     "duration": 0.088961,
     "end_time": "2021-11-13T23:08:35.132106",
     "exception": false,
     "start_time": "2021-11-13T23:08:35.043145",
     "status": "completed"
    },
    "tags": []
   },
   "outputs": [
    {
     "data": {
      "text/plain": [
       "0"
      ]
     },
     "execution_count": 7,
     "metadata": {},
     "output_type": "execute_result"
    }
   ],
   "source": [
    "df['enrollee_id'].isnull().sum()"
   ]
  },
  {
   "cell_type": "code",
   "execution_count": 8,
   "id": "0a7f726b",
   "metadata": {
    "execution": {
     "iopub.execute_input": "2021-11-13T23:08:35.296551Z",
     "iopub.status.busy": "2021-11-13T23:08:35.295919Z",
     "iopub.status.idle": "2021-11-13T23:08:35.772083Z",
     "shell.execute_reply": "2021-11-13T23:08:35.772513Z",
     "shell.execute_reply.started": "2021-11-13T22:41:32.350463Z"
    },
    "papermill": {
     "duration": 0.559716,
     "end_time": "2021-11-13T23:08:35.772721",
     "exception": false,
     "start_time": "2021-11-13T23:08:35.213005",
     "status": "completed"
    },
    "tags": []
   },
   "outputs": [
    {
     "name": "stderr",
     "output_type": "stream",
     "text": [
      "/opt/conda/lib/python3.7/site-packages/seaborn/distributions.py:2619: FutureWarning: `distplot` is a deprecated function and will be removed in a future version. Please adapt your code to use either `displot` (a figure-level function with similar flexibility) or `histplot` (an axes-level function for histograms).\n",
      "  warnings.warn(msg, FutureWarning)\n"
     ]
    },
    {
     "data": {
      "text/plain": [
       "Text(0.5, 1.0, 'Enrollee ID')"
      ]
     },
     "execution_count": 8,
     "metadata": {},
     "output_type": "execute_result"
    },
    {
     "data": {
      "image/png": "[encoded data removed]",
      "text/plain": [
       "<Figure size 432x288 with 1 Axes>"
      ]
     },
     "metadata": {
      "needs_background": "light"
     },
     "output_type": "display_data"
    }
   ],
   "source": [
    "sns.distplot(df['enrollee_id'], color = 'blue')\n",
    "plt.title('Enrollee ID')"
   ]
  },
  {
   "cell_type": "code",
   "execution_count": 9,
   "id": "42c1893a",
   "metadata": {
    "execution": {
     "iopub.execute_input": "2021-11-13T23:08:35.939345Z",
     "iopub.status.busy": "2021-11-13T23:08:35.938360Z",
     "iopub.status.idle": "2021-11-13T23:08:35.945540Z",
     "shell.execute_reply": "2021-11-13T23:08:35.946120Z",
     "shell.execute_reply.started": "2021-11-13T22:41:32.847559Z"
    },
    "papermill": {
     "duration": 0.091125,
     "end_time": "2021-11-13T23:08:35.946298",
     "exception": false,
     "start_time": "2021-11-13T23:08:35.855173",
     "status": "completed"
    },
    "tags": []
   },
   "outputs": [],
   "source": [
    "df.drop(['enrollee_id'] ,axis= 1 , inplace = True)"
   ]
  },
  {
   "cell_type": "markdown",
   "id": "e724fe21",
   "metadata": {
    "papermill": {
     "duration": 0.081179,
     "end_time": "2021-11-13T23:08:36.108311",
     "exception": false,
     "start_time": "2021-11-13T23:08:36.027132",
     "status": "completed"
    },
    "tags": []
   },
   "source": [
    "## city"
   ]
  },
  {
   "cell_type": "code",
   "execution_count": 10,
   "id": "d4e8e094",
   "metadata": {
    "execution": {
     "iopub.execute_input": "2021-11-13T23:08:36.281730Z",
     "iopub.status.busy": "2021-11-13T23:08:36.280789Z",
     "iopub.status.idle": "2021-11-13T23:08:36.283916Z",
     "shell.execute_reply": "2021-11-13T23:08:36.284479Z",
     "shell.execute_reply.started": "2021-11-13T22:41:32.860066Z"
    },
    "papermill": {
     "duration": 0.094695,
     "end_time": "2021-11-13T23:08:36.284662",
     "exception": false,
     "start_time": "2021-11-13T23:08:36.189967",
     "status": "completed"
    },
    "tags": []
   },
   "outputs": [
    {
     "data": {
      "text/plain": [
       "0    city_103\n",
       "1     city_40\n",
       "2     city_21\n",
       "3    city_115\n",
       "4    city_162\n",
       "Name: city, dtype: object"
      ]
     },
     "execution_count": 10,
     "metadata": {},
     "output_type": "execute_result"
    }
   ],
   "source": [
    "df['city'].head()"
   ]
  },
  {
   "cell_type": "code",
   "execution_count": 11,
   "id": "bec87d33",
   "metadata": {
    "execution": {
     "iopub.execute_input": "2021-11-13T23:08:36.449993Z",
     "iopub.status.busy": "2021-11-13T23:08:36.449030Z",
     "iopub.status.idle": "2021-11-13T23:08:36.458405Z",
     "shell.execute_reply": "2021-11-13T23:08:36.457870Z",
     "shell.execute_reply.started": "2021-11-13T22:41:32.872463Z"
    },
    "papermill": {
     "duration": 0.09324,
     "end_time": "2021-11-13T23:08:36.458551",
     "exception": false,
     "start_time": "2021-11-13T23:08:36.365311",
     "status": "completed"
    },
    "tags": []
   },
   "outputs": [
    {
     "data": {
      "text/plain": [
       "city_103    4355\n",
       "city_21     2702\n",
       "city_16     1533\n",
       "city_114    1336\n",
       "city_160     845\n",
       "            ... \n",
       "city_129       3\n",
       "city_111       3\n",
       "city_121       3\n",
       "city_140       1\n",
       "city_171       1\n",
       "Name: city, Length: 123, dtype: int64"
      ]
     },
     "execution_count": 11,
     "metadata": {},
     "output_type": "execute_result"
    }
   ],
   "source": [
    "df['city'].value_counts()"
   ]
  },
  {
   "cell_type": "code",
   "execution_count": 12,
   "id": "704aae7a",
   "metadata": {
    "execution": {
     "iopub.execute_input": "2021-11-13T23:08:36.629412Z",
     "iopub.status.busy": "2021-11-13T23:08:36.628337Z",
     "iopub.status.idle": "2021-11-13T23:08:36.635462Z",
     "shell.execute_reply": "2021-11-13T23:08:36.634835Z",
     "shell.execute_reply.started": "2021-11-13T22:41:32.887737Z"
    },
    "papermill": {
     "duration": 0.095552,
     "end_time": "2021-11-13T23:08:36.635637",
     "exception": false,
     "start_time": "2021-11-13T23:08:36.540085",
     "status": "completed"
    },
    "tags": []
   },
   "outputs": [],
   "source": [
    "df['city'] = df['city'].astype('category')"
   ]
  },
  {
   "cell_type": "code",
   "execution_count": 13,
   "id": "d9caf335",
   "metadata": {
    "execution": {
     "iopub.execute_input": "2021-11-13T23:08:36.813897Z",
     "iopub.status.busy": "2021-11-13T23:08:36.812987Z",
     "iopub.status.idle": "2021-11-13T23:08:36.817097Z",
     "shell.execute_reply": "2021-11-13T23:08:36.817510Z",
     "shell.execute_reply.started": "2021-11-13T22:41:32.905856Z"
    },
    "papermill": {
     "duration": 0.099814,
     "end_time": "2021-11-13T23:08:36.817717",
     "exception": false,
     "start_time": "2021-11-13T23:08:36.717903",
     "status": "completed"
    },
    "tags": []
   },
   "outputs": [
    {
     "data": {
      "text/html": [
       "<div>\n",
       "<style scoped>\n",
       "    .dataframe tbody tr th:only-of-type {\n",
       "        vertical-align: middle;\n",
       "    }\n",
       "\n",
       "    .dataframe tbody tr th {\n",
       "        vertical-align: top;\n",
       "    }\n",
       "\n",
       "    .dataframe thead th {\n",
       "        text-align: right;\n",
       "    }\n",
       "</style>\n",
       "<table border=\"1\" class=\"dataframe\">\n",
       "  <thead>\n",
       "    <tr style=\"text-align: right;\">\n",
       "      <th></th>\n",
       "      <th>city</th>\n",
       "      <th>city_development_index</th>\n",
       "      <th>relevent_experience</th>\n",
       "      <th>education_level</th>\n",
       "      <th>major_discipline</th>\n",
       "      <th>experience</th>\n",
       "      <th>training_hours</th>\n",
       "    </tr>\n",
       "  </thead>\n",
       "  <tbody>\n",
       "    <tr>\n",
       "      <th>0</th>\n",
       "      <td>city_103</td>\n",
       "      <td>0.920</td>\n",
       "      <td>Has relevent experience</td>\n",
       "      <td>Graduate</td>\n",
       "      <td>STEM</td>\n",
       "      <td>&gt;20</td>\n",
       "      <td>36</td>\n",
       "    </tr>\n",
       "    <tr>\n",
       "      <th>1</th>\n",
       "      <td>city_40</td>\n",
       "      <td>0.776</td>\n",
       "      <td>No relevent experience</td>\n",
       "      <td>Graduate</td>\n",
       "      <td>STEM</td>\n",
       "      <td>15</td>\n",
       "      <td>47</td>\n",
       "    </tr>\n",
       "    <tr>\n",
       "      <th>2</th>\n",
       "      <td>city_21</td>\n",
       "      <td>0.624</td>\n",
       "      <td>No relevent experience</td>\n",
       "      <td>Graduate</td>\n",
       "      <td>STEM</td>\n",
       "      <td>5</td>\n",
       "      <td>83</td>\n",
       "    </tr>\n",
       "    <tr>\n",
       "      <th>3</th>\n",
       "      <td>city_115</td>\n",
       "      <td>0.789</td>\n",
       "      <td>No relevent experience</td>\n",
       "      <td>Graduate</td>\n",
       "      <td>Business Degree</td>\n",
       "      <td>&lt;1</td>\n",
       "      <td>52</td>\n",
       "    </tr>\n",
       "    <tr>\n",
       "      <th>4</th>\n",
       "      <td>city_162</td>\n",
       "      <td>0.767</td>\n",
       "      <td>Has relevent experience</td>\n",
       "      <td>Masters</td>\n",
       "      <td>STEM</td>\n",
       "      <td>&gt;20</td>\n",
       "      <td>8</td>\n",
       "    </tr>\n",
       "  </tbody>\n",
       "</table>\n",
       "</div>"
      ],
      "text/plain": [
       "       city  city_development_index      relevent_experience education_level  \\\n",
       "0  city_103                   0.920  Has relevent experience        Graduate   \n",
       "1   city_40                   0.776   No relevent experience        Graduate   \n",
       "2   city_21                   0.624   No relevent experience        Graduate   \n",
       "3  city_115                   0.789   No relevent experience        Graduate   \n",
       "4  city_162                   0.767  Has relevent experience         Masters   \n",
       "\n",
       "  major_discipline experience  training_hours  \n",
       "0             STEM        >20              36  \n",
       "1             STEM         15              47  \n",
       "2             STEM          5              83  \n",
       "3  Business Degree         <1              52  \n",
       "4             STEM        >20               8  "
      ]
     },
     "execution_count": 13,
     "metadata": {},
     "output_type": "execute_result"
    }
   ],
   "source": [
    "df[['city' , 'city_development_index' , 'relevent_experience' , 'education_level' ,\n",
    "'major_discipline' ,'experience' ,'training_hours']].head()"
   ]
  },
  {
   "cell_type": "code",
   "execution_count": 14,
   "id": "e0bfac95",
   "metadata": {
    "execution": {
     "iopub.execute_input": "2021-11-13T23:08:36.986769Z",
     "iopub.status.busy": "2021-11-13T23:08:36.986071Z",
     "iopub.status.idle": "2021-11-13T23:08:37.282672Z",
     "shell.execute_reply": "2021-11-13T23:08:37.282143Z",
     "shell.execute_reply.started": "2021-11-13T22:41:32.924137Z"
    },
    "papermill": {
     "duration": 0.38362,
     "end_time": "2021-11-13T23:08:37.282813",
     "exception": false,
     "start_time": "2021-11-13T23:08:36.899193",
     "status": "completed"
    },
    "tags": []
   },
   "outputs": [
    {
     "data": {
      "text/plain": [
       "<AxesSubplot:>"
      ]
     },
     "execution_count": 14,
     "metadata": {},
     "output_type": "execute_result"
    },
    {
     "data": {
      "image/png": "[encoded data removed]",
      "text/plain": [
       "<Figure size 432x288 with 1 Axes>"
      ]
     },
     "metadata": {
      "needs_background": "light"
     },
     "output_type": "display_data"
    }
   ],
   "source": [
    "#the first 20 different values in cuty column\n",
    "df['city'].value_counts()[:20].plot(kind='barh')"
   ]
  },
  {
   "cell_type": "markdown",
   "id": "68bcc864",
   "metadata": {
    "papermill": {
     "duration": 0.082765,
     "end_time": "2021-11-13T23:08:37.449140",
     "exception": false,
     "start_time": "2021-11-13T23:08:37.366375",
     "status": "completed"
    },
    "tags": []
   },
   "source": [
    "## city_development_index"
   ]
  },
  {
   "cell_type": "code",
   "execution_count": 15,
   "id": "f8d62ce6",
   "metadata": {
    "execution": {
     "iopub.execute_input": "2021-11-13T23:08:37.622652Z",
     "iopub.status.busy": "2021-11-13T23:08:37.621966Z",
     "iopub.status.idle": "2021-11-13T23:08:37.624470Z",
     "shell.execute_reply": "2021-11-13T23:08:37.624943Z",
     "shell.execute_reply.started": "2021-11-13T22:41:33.253669Z"
    },
    "papermill": {
     "duration": 0.092327,
     "end_time": "2021-11-13T23:08:37.625113",
     "exception": false,
     "start_time": "2021-11-13T23:08:37.532786",
     "status": "completed"
    },
    "tags": []
   },
   "outputs": [
    {
     "data": {
      "text/plain": [
       "0    0.920\n",
       "1    0.776\n",
       "2    0.624\n",
       "3    0.789\n",
       "4    0.767\n",
       "Name: city_development_index, dtype: float64"
      ]
     },
     "execution_count": 15,
     "metadata": {},
     "output_type": "execute_result"
    }
   ],
   "source": [
    "df['city_development_index'].head()"
   ]
  },
  {
   "cell_type": "code",
   "execution_count": 16,
   "id": "ed1550fc",
   "metadata": {
    "execution": {
     "iopub.execute_input": "2021-11-13T23:08:37.800544Z",
     "iopub.status.busy": "2021-11-13T23:08:37.799816Z",
     "iopub.status.idle": "2021-11-13T23:08:37.802804Z",
     "shell.execute_reply": "2021-11-13T23:08:37.803248Z",
     "shell.execute_reply.started": "2021-11-13T22:41:33.262645Z"
    },
    "papermill": {
     "duration": 0.093511,
     "end_time": "2021-11-13T23:08:37.803413",
     "exception": false,
     "start_time": "2021-11-13T23:08:37.709902",
     "status": "completed"
    },
    "tags": []
   },
   "outputs": [
    {
     "data": {
      "text/plain": [
       "0"
      ]
     },
     "execution_count": 16,
     "metadata": {},
     "output_type": "execute_result"
    }
   ],
   "source": [
    "df['city_development_index'].isnull().sum()"
   ]
  },
  {
   "cell_type": "code",
   "execution_count": 17,
   "id": "d2c36219",
   "metadata": {
    "execution": {
     "iopub.execute_input": "2021-11-13T23:08:37.976264Z",
     "iopub.status.busy": "2021-11-13T23:08:37.974348Z",
     "iopub.status.idle": "2021-11-13T23:08:38.428416Z",
     "shell.execute_reply": "2021-11-13T23:08:38.428931Z",
     "shell.execute_reply.started": "2021-11-13T22:41:33.276911Z"
    },
    "papermill": {
     "duration": 0.540776,
     "end_time": "2021-11-13T23:08:38.429105",
     "exception": false,
     "start_time": "2021-11-13T23:08:37.888329",
     "status": "completed"
    },
    "tags": []
   },
   "outputs": [
    {
     "name": "stderr",
     "output_type": "stream",
     "text": [
      "/opt/conda/lib/python3.7/site-packages/seaborn/distributions.py:2619: FutureWarning: `distplot` is a deprecated function and will be removed in a future version. Please adapt your code to use either `displot` (a figure-level function with similar flexibility) or `histplot` (an axes-level function for histograms).\n",
      "  warnings.warn(msg, FutureWarning)\n"
     ]
    },
    {
     "data": {
      "text/plain": [
       "Text(0.5, 1.0, 'City Development Index')"
      ]
     },
     "execution_count": 17,
     "metadata": {},
     "output_type": "execute_result"
    },
    {
     "data": {
      "image/png": "[encoded data removed]",
      "text/plain": [
       "<Figure size 432x288 with 1 Axes>"
      ]
     },
     "metadata": {
      "needs_background": "light"
     },
     "output_type": "display_data"
    }
   ],
   "source": [
    "sns.distplot(df['city_development_index'], color = 'RED')\n",
    "plt.title('City Development Index')"
   ]
  },
  {
   "cell_type": "code",
   "execution_count": 18,
   "id": "15e24dfc",
   "metadata": {
    "execution": {
     "iopub.execute_input": "2021-11-13T23:08:38.618438Z",
     "iopub.status.busy": "2021-11-13T23:08:38.610270Z",
     "iopub.status.idle": "2021-11-13T23:08:38.779812Z",
     "shell.execute_reply": "2021-11-13T23:08:38.779201Z",
     "shell.execute_reply.started": "2021-11-13T22:41:33.757977Z"
    },
    "papermill": {
     "duration": 0.263869,
     "end_time": "2021-11-13T23:08:38.779965",
     "exception": false,
     "start_time": "2021-11-13T23:08:38.516096",
     "status": "completed"
    },
    "tags": []
   },
   "outputs": [
    {
     "data": {
      "text/plain": [
       "Text(0.5, 0, 'city_development_index')"
      ]
     },
     "execution_count": 18,
     "metadata": {},
     "output_type": "execute_result"
    },
    {
     "data": {
      "image/png": "[encoded data removed]",
      "text/plain": [
       "<Figure size 432x288 with 1 Axes>"
      ]
     },
     "metadata": {
      "needs_background": "light"
     },
     "output_type": "display_data"
    }
   ],
   "source": [
    "import matplotlib.pyplot as plt\n",
    "plt.boxplot(df['city_development_index'], vert=False)\n",
    "plt.title(\"Detecting outliers using Boxplot\")\n",
    "plt.xlabel('city_development_index')"
   ]
  },
  {
   "cell_type": "code",
   "execution_count": 19,
   "id": "b551b9bb",
   "metadata": {
    "execution": {
     "iopub.execute_input": "2021-11-13T23:08:38.957837Z",
     "iopub.status.busy": "2021-11-13T23:08:38.956815Z",
     "iopub.status.idle": "2021-11-13T23:08:38.964631Z",
     "shell.execute_reply": "2021-11-13T23:08:38.965042Z",
     "shell.execute_reply.started": "2021-11-13T22:41:33.947791Z"
    },
    "papermill": {
     "duration": 0.098593,
     "end_time": "2021-11-13T23:08:38.965224",
     "exception": false,
     "start_time": "2021-11-13T23:08:38.866631",
     "status": "completed"
    },
    "tags": []
   },
   "outputs": [
    {
     "data": {
      "text/plain": [
       "count    19158.000000\n",
       "mean         0.828848\n",
       "std          0.123362\n",
       "min          0.448000\n",
       "25%          0.740000\n",
       "50%          0.903000\n",
       "75%          0.920000\n",
       "max          0.949000\n",
       "Name: city_development_index, dtype: float64"
      ]
     },
     "execution_count": 19,
     "metadata": {},
     "output_type": "execute_result"
    }
   ],
   "source": [
    "df['city_development_index'].describe()"
   ]
  },
  {
   "cell_type": "markdown",
   "id": "a22decb0",
   "metadata": {
    "papermill": {
     "duration": 0.086364,
     "end_time": "2021-11-13T23:08:39.138803",
     "exception": false,
     "start_time": "2021-11-13T23:08:39.052439",
     "status": "completed"
    },
    "tags": []
   },
   "source": [
    "## gender"
   ]
  },
  {
   "cell_type": "code",
   "execution_count": 20,
   "id": "b21d8c1d",
   "metadata": {
    "execution": {
     "iopub.execute_input": "2021-11-13T23:08:39.318923Z",
     "iopub.status.busy": "2021-11-13T23:08:39.318240Z",
     "iopub.status.idle": "2021-11-13T23:08:39.321019Z",
     "shell.execute_reply": "2021-11-13T23:08:39.321554Z",
     "shell.execute_reply.started": "2021-11-13T22:41:33.959801Z"
    },
    "papermill": {
     "duration": 0.097604,
     "end_time": "2021-11-13T23:08:39.321741",
     "exception": false,
     "start_time": "2021-11-13T23:08:39.224137",
     "status": "completed"
    },
    "tags": []
   },
   "outputs": [
    {
     "data": {
      "text/plain": [
       "0    Male\n",
       "1    Male\n",
       "2     NaN\n",
       "3     NaN\n",
       "4    Male\n",
       "Name: gender, dtype: object"
      ]
     },
     "execution_count": 20,
     "metadata": {},
     "output_type": "execute_result"
    }
   ],
   "source": [
    "df['gender'].head()"
   ]
  },
  {
   "cell_type": "code",
   "execution_count": 21,
   "id": "883831f7",
   "metadata": {
    "execution": {
     "iopub.execute_input": "2021-11-13T23:08:39.496740Z",
     "iopub.status.busy": "2021-11-13T23:08:39.495813Z",
     "iopub.status.idle": "2021-11-13T23:08:39.503397Z",
     "shell.execute_reply": "2021-11-13T23:08:39.503836Z",
     "shell.execute_reply.started": "2021-11-13T22:41:33.969691Z"
    },
    "papermill": {
     "duration": 0.09658,
     "end_time": "2021-11-13T23:08:39.504014",
     "exception": false,
     "start_time": "2021-11-13T23:08:39.407434",
     "status": "completed"
    },
    "tags": []
   },
   "outputs": [
    {
     "data": {
      "text/plain": [
       "Male      13221\n",
       "Female     1238\n",
       "Other       191\n",
       "Name: gender, dtype: int64"
      ]
     },
     "execution_count": 21,
     "metadata": {},
     "output_type": "execute_result"
    }
   ],
   "source": [
    "df['gender'].value_counts()"
   ]
  },
  {
   "cell_type": "code",
   "execution_count": 22,
   "id": "d7ea5287",
   "metadata": {
    "execution": {
     "iopub.execute_input": "2021-11-13T23:08:39.678106Z",
     "iopub.status.busy": "2021-11-13T23:08:39.677174Z",
     "iopub.status.idle": "2021-11-13T23:08:39.683658Z",
     "shell.execute_reply": "2021-11-13T23:08:39.684113Z",
     "shell.execute_reply.started": "2021-11-13T22:41:33.988632Z"
    },
    "papermill": {
     "duration": 0.094968,
     "end_time": "2021-11-13T23:08:39.684286",
     "exception": false,
     "start_time": "2021-11-13T23:08:39.589318",
     "status": "completed"
    },
    "tags": []
   },
   "outputs": [
    {
     "data": {
      "text/plain": [
       "4508"
      ]
     },
     "execution_count": 22,
     "metadata": {},
     "output_type": "execute_result"
    }
   ],
   "source": [
    "df['gender'].isnull().sum()"
   ]
  },
  {
   "cell_type": "code",
   "execution_count": 23,
   "id": "825cee30",
   "metadata": {
    "execution": {
     "iopub.execute_input": "2021-11-13T23:08:39.877469Z",
     "iopub.status.busy": "2021-11-13T23:08:39.875920Z",
     "iopub.status.idle": "2021-11-13T23:08:40.053203Z",
     "shell.execute_reply": "2021-11-13T23:08:40.053671Z",
     "shell.execute_reply.started": "2021-11-13T22:41:34.003500Z"
    },
    "papermill": {
     "duration": 0.283032,
     "end_time": "2021-11-13T23:08:40.053860",
     "exception": false,
     "start_time": "2021-11-13T23:08:39.770828",
     "status": "completed"
    },
    "tags": []
   },
   "outputs": [
    {
     "data": {
      "image/png": "[encoded data removed]",
      "text/plain": [
       "<Figure size 720x504 with 1 Axes>"
      ]
     },
     "metadata": {
      "needs_background": "light"
     },
     "output_type": "display_data"
    }
   ],
   "source": [
    "countplt, ax = plt.subplots(figsize = (10,7))\n",
    "ax =sns.countplot(x='gender',data=df.head(500),  palette='pastel')"
   ]
  },
  {
   "cell_type": "code",
   "execution_count": 24,
   "id": "c7126f00",
   "metadata": {
    "execution": {
     "iopub.execute_input": "2021-11-13T23:08:40.231364Z",
     "iopub.status.busy": "2021-11-13T23:08:40.230718Z",
     "iopub.status.idle": "2021-11-13T23:08:40.236280Z",
     "shell.execute_reply": "2021-11-13T23:08:40.236799Z",
     "shell.execute_reply.started": "2021-11-13T22:41:34.216309Z"
    },
    "papermill": {
     "duration": 0.096101,
     "end_time": "2021-11-13T23:08:40.236973",
     "exception": false,
     "start_time": "2021-11-13T23:08:40.140872",
     "status": "completed"
    },
    "tags": []
   },
   "outputs": [],
   "source": [
    "df['gender'] = df['gender'].fillna('Male')"
   ]
  },
  {
   "cell_type": "code",
   "execution_count": 25,
   "id": "2133f1f0",
   "metadata": {
    "execution": {
     "iopub.execute_input": "2021-11-13T23:08:40.415410Z",
     "iopub.status.busy": "2021-11-13T23:08:40.414740Z",
     "iopub.status.idle": "2021-11-13T23:08:40.421749Z",
     "shell.execute_reply": "2021-11-13T23:08:40.422277Z",
     "shell.execute_reply.started": "2021-11-13T22:41:34.225294Z"
    },
    "papermill": {
     "duration": 0.097759,
     "end_time": "2021-11-13T23:08:40.422452",
     "exception": false,
     "start_time": "2021-11-13T23:08:40.324693",
     "status": "completed"
    },
    "tags": []
   },
   "outputs": [
    {
     "data": {
      "text/plain": [
       "0"
      ]
     },
     "execution_count": 25,
     "metadata": {},
     "output_type": "execute_result"
    }
   ],
   "source": [
    "df['gender'].isnull().sum()"
   ]
  },
  {
   "cell_type": "code",
   "execution_count": 26,
   "id": "ac6b1ac5",
   "metadata": {
    "execution": {
     "iopub.execute_input": "2021-11-13T23:08:40.606161Z",
     "iopub.status.busy": "2021-11-13T23:08:40.605460Z",
     "iopub.status.idle": "2021-11-13T23:08:40.610108Z",
     "shell.execute_reply": "2021-11-13T23:08:40.610622Z",
     "shell.execute_reply.started": "2021-11-13T22:41:34.244668Z"
    },
    "papermill": {
     "duration": 0.099055,
     "end_time": "2021-11-13T23:08:40.610808",
     "exception": false,
     "start_time": "2021-11-13T23:08:40.511753",
     "status": "completed"
    },
    "tags": []
   },
   "outputs": [],
   "source": [
    "df['gender'] = df['gender'].astype('category')"
   ]
  },
  {
   "cell_type": "markdown",
   "id": "8e5b1a22",
   "metadata": {
    "papermill": {
     "duration": 0.085924,
     "end_time": "2021-11-13T23:08:40.783824",
     "exception": false,
     "start_time": "2021-11-13T23:08:40.697900",
     "status": "completed"
    },
    "tags": []
   },
   "source": [
    "## relevent_experience"
   ]
  },
  {
   "cell_type": "code",
   "execution_count": 27,
   "id": "9cc83e2b",
   "metadata": {
    "execution": {
     "iopub.execute_input": "2021-11-13T23:08:40.961497Z",
     "iopub.status.busy": "2021-11-13T23:08:40.960800Z",
     "iopub.status.idle": "2021-11-13T23:08:40.966528Z",
     "shell.execute_reply": "2021-11-13T23:08:40.967089Z",
     "shell.execute_reply.started": "2021-11-13T22:41:34.260645Z"
    },
    "papermill": {
     "duration": 0.095838,
     "end_time": "2021-11-13T23:08:40.967275",
     "exception": false,
     "start_time": "2021-11-13T23:08:40.871437",
     "status": "completed"
    },
    "tags": []
   },
   "outputs": [
    {
     "data": {
      "text/plain": [
       "0    Has relevent experience\n",
       "1     No relevent experience\n",
       "2     No relevent experience\n",
       "3     No relevent experience\n",
       "4    Has relevent experience\n",
       "Name: relevent_experience, dtype: object"
      ]
     },
     "execution_count": 27,
     "metadata": {},
     "output_type": "execute_result"
    }
   ],
   "source": [
    "df['relevent_experience'].head()"
   ]
  },
  {
   "cell_type": "code",
   "execution_count": 28,
   "id": "02dc44ff",
   "metadata": {
    "execution": {
     "iopub.execute_input": "2021-11-13T23:08:41.144484Z",
     "iopub.status.busy": "2021-11-13T23:08:41.143870Z",
     "iopub.status.idle": "2021-11-13T23:08:41.150856Z",
     "shell.execute_reply": "2021-11-13T23:08:41.151431Z",
     "shell.execute_reply.started": "2021-11-13T22:41:34.277816Z"
    },
    "papermill": {
     "duration": 0.097196,
     "end_time": "2021-11-13T23:08:41.151620",
     "exception": false,
     "start_time": "2021-11-13T23:08:41.054424",
     "status": "completed"
    },
    "tags": []
   },
   "outputs": [
    {
     "data": {
      "text/plain": [
       "Has relevent experience    13792\n",
       "No relevent experience      5366\n",
       "Name: relevent_experience, dtype: int64"
      ]
     },
     "execution_count": 28,
     "metadata": {},
     "output_type": "execute_result"
    }
   ],
   "source": [
    "df['relevent_experience'].value_counts()"
   ]
  },
  {
   "cell_type": "code",
   "execution_count": 29,
   "id": "f13ca085",
   "metadata": {
    "execution": {
     "iopub.execute_input": "2021-11-13T23:08:41.335519Z",
     "iopub.status.busy": "2021-11-13T23:08:41.334842Z",
     "iopub.status.idle": "2021-11-13T23:08:41.341130Z",
     "shell.execute_reply": "2021-11-13T23:08:41.341684Z",
     "shell.execute_reply.started": "2021-11-13T22:41:34.289220Z"
    },
    "papermill": {
     "duration": 0.0977,
     "end_time": "2021-11-13T23:08:41.341857",
     "exception": false,
     "start_time": "2021-11-13T23:08:41.244157",
     "status": "completed"
    },
    "tags": []
   },
   "outputs": [
    {
     "data": {
      "text/plain": [
       "0"
      ]
     },
     "execution_count": 29,
     "metadata": {},
     "output_type": "execute_result"
    }
   ],
   "source": [
    "df['relevent_experience'].isnull().sum()"
   ]
  },
  {
   "cell_type": "code",
   "execution_count": 30,
   "id": "cb1f436e",
   "metadata": {
    "execution": {
     "iopub.execute_input": "2021-11-13T23:08:41.521198Z",
     "iopub.status.busy": "2021-11-13T23:08:41.520479Z",
     "iopub.status.idle": "2021-11-13T23:08:41.689406Z",
     "shell.execute_reply": "2021-11-13T23:08:41.689914Z",
     "shell.execute_reply.started": "2021-11-13T22:41:34.307078Z"
    },
    "papermill": {
     "duration": 0.260279,
     "end_time": "2021-11-13T23:08:41.690086",
     "exception": false,
     "start_time": "2021-11-13T23:08:41.429807",
     "status": "completed"
    },
    "tags": []
   },
   "outputs": [
    {
     "data": {
      "image/png": "[encoded data removed]",
      "text/plain": [
       "<Figure size 720x504 with 1 Axes>"
      ]
     },
     "metadata": {
      "needs_background": "light"
     },
     "output_type": "display_data"
    }
   ],
   "source": [
    "countplt, ax = plt.subplots(figsize = (10,7))\n",
    "ax =sns.countplot(x='relevent_experience',data=df.head(500),  palette='pastel')"
   ]
  },
  {
   "cell_type": "markdown",
   "id": "745ce49b",
   "metadata": {
    "papermill": {
     "duration": 0.08799,
     "end_time": "2021-11-13T23:08:41.867396",
     "exception": false,
     "start_time": "2021-11-13T23:08:41.779406",
     "status": "completed"
    },
    "tags": []
   },
   "source": [
    "## enrolled_university"
   ]
  },
  {
   "cell_type": "code",
   "execution_count": 31,
   "id": "64bf7dbe",
   "metadata": {
    "execution": {
     "iopub.execute_input": "2021-11-13T23:08:42.050967Z",
     "iopub.status.busy": "2021-11-13T23:08:42.050283Z",
     "iopub.status.idle": "2021-11-13T23:08:42.056628Z",
     "shell.execute_reply": "2021-11-13T23:08:42.057193Z",
     "shell.execute_reply.started": "2021-11-13T22:41:34.518782Z"
    },
    "papermill": {
     "duration": 0.100608,
     "end_time": "2021-11-13T23:08:42.057376",
     "exception": false,
     "start_time": "2021-11-13T23:08:41.956768",
     "status": "completed"
    },
    "tags": []
   },
   "outputs": [
    {
     "data": {
      "text/plain": [
       "0       no_enrollment\n",
       "1       no_enrollment\n",
       "2    Full time course\n",
       "3                 NaN\n",
       "4       no_enrollment\n",
       "Name: enrolled_university, dtype: object"
      ]
     },
     "execution_count": 31,
     "metadata": {},
     "output_type": "execute_result"
    }
   ],
   "source": [
    "df['enrolled_university'].head()"
   ]
  },
  {
   "cell_type": "code",
   "execution_count": 32,
   "id": "0103061b",
   "metadata": {
    "execution": {
     "iopub.execute_input": "2021-11-13T23:08:42.238814Z",
     "iopub.status.busy": "2021-11-13T23:08:42.238221Z",
     "iopub.status.idle": "2021-11-13T23:08:42.245302Z",
     "shell.execute_reply": "2021-11-13T23:08:42.245882Z",
     "shell.execute_reply.started": "2021-11-13T22:41:34.526239Z"
    },
    "papermill": {
     "duration": 0.099058,
     "end_time": "2021-11-13T23:08:42.246054",
     "exception": false,
     "start_time": "2021-11-13T23:08:42.146996",
     "status": "completed"
    },
    "tags": []
   },
   "outputs": [
    {
     "data": {
      "text/plain": [
       "no_enrollment       13817\n",
       "Full time course     3757\n",
       "Part time course     1198\n",
       "Name: enrolled_university, dtype: int64"
      ]
     },
     "execution_count": 32,
     "metadata": {},
     "output_type": "execute_result"
    }
   ],
   "source": [
    "df['enrolled_university'].value_counts()"
   ]
  },
  {
   "cell_type": "code",
   "execution_count": 33,
   "id": "302d8241",
   "metadata": {
    "execution": {
     "iopub.execute_input": "2021-11-13T23:08:42.430116Z",
     "iopub.status.busy": "2021-11-13T23:08:42.429421Z",
     "iopub.status.idle": "2021-11-13T23:08:42.436324Z",
     "shell.execute_reply": "2021-11-13T23:08:42.436975Z",
     "shell.execute_reply.started": "2021-11-13T22:41:34.542038Z"
    },
    "papermill": {
     "duration": 0.101523,
     "end_time": "2021-11-13T23:08:42.437337",
     "exception": false,
     "start_time": "2021-11-13T23:08:42.335814",
     "status": "completed"
    },
    "tags": []
   },
   "outputs": [
    {
     "data": {
      "text/plain": [
       "386"
      ]
     },
     "execution_count": 33,
     "metadata": {},
     "output_type": "execute_result"
    }
   ],
   "source": [
    "df['enrolled_university'].isnull().sum()"
   ]
  },
  {
   "cell_type": "code",
   "execution_count": 34,
   "id": "49a5a739",
   "metadata": {
    "execution": {
     "iopub.execute_input": "2021-11-13T23:08:42.623792Z",
     "iopub.status.busy": "2021-11-13T23:08:42.623097Z",
     "iopub.status.idle": "2021-11-13T23:08:42.630085Z",
     "shell.execute_reply": "2021-11-13T23:08:42.630544Z",
     "shell.execute_reply.started": "2021-11-13T22:41:34.553954Z"
    },
    "papermill": {
     "duration": 0.10144,
     "end_time": "2021-11-13T23:08:42.630744",
     "exception": false,
     "start_time": "2021-11-13T23:08:42.529304",
     "status": "completed"
    },
    "tags": []
   },
   "outputs": [
    {
     "data": {
      "text/plain": [
       "0    no_enrollment\n",
       "dtype: object"
      ]
     },
     "execution_count": 34,
     "metadata": {},
     "output_type": "execute_result"
    }
   ],
   "source": [
    "df['enrolled_university'].mode()"
   ]
  },
  {
   "cell_type": "code",
   "execution_count": 35,
   "id": "5d89afe1",
   "metadata": {
    "execution": {
     "iopub.execute_input": "2021-11-13T23:08:42.812715Z",
     "iopub.status.busy": "2021-11-13T23:08:42.812025Z",
     "iopub.status.idle": "2021-11-13T23:08:42.816926Z",
     "shell.execute_reply": "2021-11-13T23:08:42.817489Z",
     "shell.execute_reply.started": "2021-11-13T22:41:34.568786Z"
    },
    "papermill": {
     "duration": 0.097688,
     "end_time": "2021-11-13T23:08:42.817695",
     "exception": false,
     "start_time": "2021-11-13T23:08:42.720007",
     "status": "completed"
    },
    "tags": []
   },
   "outputs": [],
   "source": [
    "df['enrolled_university'] = df['enrolled_university'].fillna('no_enrollment')"
   ]
  },
  {
   "cell_type": "code",
   "execution_count": 36,
   "id": "d04e45bc",
   "metadata": {
    "execution": {
     "iopub.execute_input": "2021-11-13T23:08:43.002643Z",
     "iopub.status.busy": "2021-11-13T23:08:43.001958Z",
     "iopub.status.idle": "2021-11-13T23:08:43.146785Z",
     "shell.execute_reply": "2021-11-13T23:08:43.147737Z",
     "shell.execute_reply.started": "2021-11-13T22:41:34.585014Z"
    },
    "papermill": {
     "duration": 0.238447,
     "end_time": "2021-11-13T23:08:43.148045",
     "exception": false,
     "start_time": "2021-11-13T23:08:42.909598",
     "status": "completed"
    },
    "tags": []
   },
   "outputs": [
    {
     "data": {
      "image/png": "[encoded data removed]",
      "text/plain": [
       "<Figure size 720x504 with 1 Axes>"
      ]
     },
     "metadata": {
      "needs_background": "light"
     },
     "output_type": "display_data"
    }
   ],
   "source": [
    "countplt, ax = plt.subplots(figsize = (10,7))\n",
    "ax =sns.countplot(x='enrolled_university',data=df.head(500),  palette='pastel')"
   ]
  },
  {
   "cell_type": "markdown",
   "id": "4051539c",
   "metadata": {
    "papermill": {
     "duration": 0.089661,
     "end_time": "2021-11-13T23:08:43.335498",
     "exception": false,
     "start_time": "2021-11-13T23:08:43.245837",
     "status": "completed"
    },
    "tags": []
   },
   "source": [
    "## education_level"
   ]
  },
  {
   "cell_type": "code",
   "execution_count": 37,
   "id": "adbb7a87",
   "metadata": {
    "execution": {
     "iopub.execute_input": "2021-11-13T23:08:43.517284Z",
     "iopub.status.busy": "2021-11-13T23:08:43.516643Z",
     "iopub.status.idle": "2021-11-13T23:08:43.522541Z",
     "shell.execute_reply": "2021-11-13T23:08:43.523192Z",
     "shell.execute_reply.started": "2021-11-13T22:41:34.802195Z"
    },
    "papermill": {
     "duration": 0.098479,
     "end_time": "2021-11-13T23:08:43.523377",
     "exception": false,
     "start_time": "2021-11-13T23:08:43.424898",
     "status": "completed"
    },
    "tags": []
   },
   "outputs": [
    {
     "data": {
      "text/plain": [
       "0    Graduate\n",
       "1    Graduate\n",
       "2    Graduate\n",
       "3    Graduate\n",
       "4     Masters\n",
       "Name: education_level, dtype: object"
      ]
     },
     "execution_count": 37,
     "metadata": {},
     "output_type": "execute_result"
    }
   ],
   "source": [
    "df['education_level'].head()"
   ]
  },
  {
   "cell_type": "code",
   "execution_count": 38,
   "id": "b504c21a",
   "metadata": {
    "execution": {
     "iopub.execute_input": "2021-11-13T23:08:43.728486Z",
     "iopub.status.busy": "2021-11-13T23:08:43.727811Z",
     "iopub.status.idle": "2021-11-13T23:08:43.737805Z",
     "shell.execute_reply": "2021-11-13T23:08:43.738380Z",
     "shell.execute_reply.started": "2021-11-13T22:41:34.811476Z"
    },
    "papermill": {
     "duration": 0.120494,
     "end_time": "2021-11-13T23:08:43.738552",
     "exception": false,
     "start_time": "2021-11-13T23:08:43.618058",
     "status": "completed"
    },
    "tags": []
   },
   "outputs": [
    {
     "data": {
      "text/plain": [
       "Graduate          11598\n",
       "Masters            4361\n",
       "High School        2017\n",
       "Phd                 414\n",
       "Primary School      308\n",
       "Name: education_level, dtype: int64"
      ]
     },
     "execution_count": 38,
     "metadata": {},
     "output_type": "execute_result"
    }
   ],
   "source": [
    "df['education_level'].value_counts()"
   ]
  },
  {
   "cell_type": "code",
   "execution_count": 39,
   "id": "887064cf",
   "metadata": {
    "execution": {
     "iopub.execute_input": "2021-11-13T23:08:43.940294Z",
     "iopub.status.busy": "2021-11-13T23:08:43.939655Z",
     "iopub.status.idle": "2021-11-13T23:08:43.946227Z",
     "shell.execute_reply": "2021-11-13T23:08:43.946794Z",
     "shell.execute_reply.started": "2021-11-13T22:41:34.829594Z"
    },
    "papermill": {
     "duration": 0.107781,
     "end_time": "2021-11-13T23:08:43.946975",
     "exception": false,
     "start_time": "2021-11-13T23:08:43.839194",
     "status": "completed"
    },
    "tags": []
   },
   "outputs": [
    {
     "data": {
      "text/plain": [
       "460"
      ]
     },
     "execution_count": 39,
     "metadata": {},
     "output_type": "execute_result"
    }
   ],
   "source": [
    "df['education_level'].isnull().sum()"
   ]
  },
  {
   "cell_type": "code",
   "execution_count": 40,
   "id": "f44f85a5",
   "metadata": {
    "execution": {
     "iopub.execute_input": "2021-11-13T23:08:44.154507Z",
     "iopub.status.busy": "2021-11-13T23:08:44.153852Z",
     "iopub.status.idle": "2021-11-13T23:08:44.158240Z",
     "shell.execute_reply": "2021-11-13T23:08:44.158850Z",
     "shell.execute_reply.started": "2021-11-13T22:41:34.849771Z"
    },
    "papermill": {
     "duration": 0.106125,
     "end_time": "2021-11-13T23:08:44.159022",
     "exception": false,
     "start_time": "2021-11-13T23:08:44.052897",
     "status": "completed"
    },
    "tags": []
   },
   "outputs": [
    {
     "data": {
      "text/plain": [
       "0    Graduate\n",
       "dtype: object"
      ]
     },
     "execution_count": 40,
     "metadata": {},
     "output_type": "execute_result"
    }
   ],
   "source": [
    "df['education_level'].mode()"
   ]
  },
  {
   "cell_type": "code",
   "execution_count": 41,
   "id": "9ff9e461",
   "metadata": {
    "execution": {
     "iopub.execute_input": "2021-11-13T23:08:44.349164Z",
     "iopub.status.busy": "2021-11-13T23:08:44.348504Z",
     "iopub.status.idle": "2021-11-13T23:08:44.356141Z",
     "shell.execute_reply": "2021-11-13T23:08:44.356833Z",
     "shell.execute_reply.started": "2021-11-13T22:41:34.864714Z"
    },
    "papermill": {
     "duration": 0.103759,
     "end_time": "2021-11-13T23:08:44.357036",
     "exception": false,
     "start_time": "2021-11-13T23:08:44.253277",
     "status": "completed"
    },
    "tags": []
   },
   "outputs": [],
   "source": [
    "df['education_level'] = df['education_level'].fillna('Graduate')"
   ]
  },
  {
   "cell_type": "code",
   "execution_count": 42,
   "id": "9b68e7eb",
   "metadata": {
    "execution": {
     "iopub.execute_input": "2021-11-13T23:08:44.542922Z",
     "iopub.status.busy": "2021-11-13T23:08:44.542278Z",
     "iopub.status.idle": "2021-11-13T23:08:44.753881Z",
     "shell.execute_reply": "2021-11-13T23:08:44.754363Z",
     "shell.execute_reply.started": "2021-11-13T22:41:34.876393Z"
    },
    "papermill": {
     "duration": 0.305075,
     "end_time": "2021-11-13T23:08:44.754566",
     "exception": false,
     "start_time": "2021-11-13T23:08:44.449491",
     "status": "completed"
    },
    "tags": []
   },
   "outputs": [
    {
     "data": {
      "image/png": "[encoded data removed]",
      "text/plain": [
       "<Figure size 720x504 with 1 Axes>"
      ]
     },
     "metadata": {
      "needs_background": "light"
     },
     "output_type": "display_data"
    }
   ],
   "source": [
    "countplt, ax = plt.subplots(figsize = (10,7))\n",
    "ax =sns.countplot(x='education_level',data=df.head(500),  palette='pastel')"
   ]
  },
  {
   "cell_type": "markdown",
   "id": "ee5c9550",
   "metadata": {
    "papermill": {
     "duration": 0.090525,
     "end_time": "2021-11-13T23:08:44.939990",
     "exception": false,
     "start_time": "2021-11-13T23:08:44.849465",
     "status": "completed"
    },
    "tags": []
   },
   "source": [
    "## major_discipline"
   ]
  },
  {
   "cell_type": "code",
   "execution_count": 43,
   "id": "48ec0f1a",
   "metadata": {
    "execution": {
     "iopub.execute_input": "2021-11-13T23:08:45.128595Z",
     "iopub.status.busy": "2021-11-13T23:08:45.127922Z",
     "iopub.status.idle": "2021-11-13T23:08:45.133553Z",
     "shell.execute_reply": "2021-11-13T23:08:45.134047Z",
     "shell.execute_reply.started": "2021-11-13T22:41:35.111111Z"
    },
    "papermill": {
     "duration": 0.102301,
     "end_time": "2021-11-13T23:08:45.134219",
     "exception": false,
     "start_time": "2021-11-13T23:08:45.031918",
     "status": "completed"
    },
    "tags": []
   },
   "outputs": [
    {
     "data": {
      "text/plain": [
       "0               STEM\n",
       "1               STEM\n",
       "2               STEM\n",
       "3    Business Degree\n",
       "4               STEM\n",
       "Name: major_discipline, dtype: object"
      ]
     },
     "execution_count": 43,
     "metadata": {},
     "output_type": "execute_result"
    }
   ],
   "source": [
    "df['major_discipline'].head()"
   ]
  },
  {
   "cell_type": "code",
   "execution_count": 44,
   "id": "54990dbc",
   "metadata": {
    "execution": {
     "iopub.execute_input": "2021-11-13T23:08:45.324864Z",
     "iopub.status.busy": "2021-11-13T23:08:45.324009Z",
     "iopub.status.idle": "2021-11-13T23:08:45.328063Z",
     "shell.execute_reply": "2021-11-13T23:08:45.327403Z",
     "shell.execute_reply.started": "2021-11-13T22:41:35.121516Z"
    },
    "papermill": {
     "duration": 0.10277,
     "end_time": "2021-11-13T23:08:45.328211",
     "exception": false,
     "start_time": "2021-11-13T23:08:45.225441",
     "status": "completed"
    },
    "tags": []
   },
   "outputs": [
    {
     "data": {
      "text/plain": [
       "STEM               14492\n",
       "Humanities           669\n",
       "Other                381\n",
       "Business Degree      327\n",
       "Arts                 253\n",
       "No Major             223\n",
       "Name: major_discipline, dtype: int64"
      ]
     },
     "execution_count": 44,
     "metadata": {},
     "output_type": "execute_result"
    }
   ],
   "source": [
    "df['major_discipline'].value_counts()"
   ]
  },
  {
   "cell_type": "code",
   "execution_count": 45,
   "id": "2e67037a",
   "metadata": {
    "execution": {
     "iopub.execute_input": "2021-11-13T23:08:45.520998Z",
     "iopub.status.busy": "2021-11-13T23:08:45.516990Z",
     "iopub.status.idle": "2021-11-13T23:08:45.524506Z",
     "shell.execute_reply": "2021-11-13T23:08:45.523888Z",
     "shell.execute_reply.started": "2021-11-13T22:41:35.137641Z"
    },
    "papermill": {
     "duration": 0.102717,
     "end_time": "2021-11-13T23:08:45.524668",
     "exception": false,
     "start_time": "2021-11-13T23:08:45.421951",
     "status": "completed"
    },
    "tags": []
   },
   "outputs": [
    {
     "data": {
      "text/plain": [
       "2813"
      ]
     },
     "execution_count": 45,
     "metadata": {},
     "output_type": "execute_result"
    }
   ],
   "source": [
    "df['major_discipline'].isnull().sum()"
   ]
  },
  {
   "cell_type": "code",
   "execution_count": 46,
   "id": "680b07c9",
   "metadata": {
    "execution": {
     "iopub.execute_input": "2021-11-13T23:08:45.714920Z",
     "iopub.status.busy": "2021-11-13T23:08:45.714294Z",
     "iopub.status.idle": "2021-11-13T23:08:45.721064Z",
     "shell.execute_reply": "2021-11-13T23:08:45.721676Z",
     "shell.execute_reply.started": "2021-11-13T22:41:35.155645Z"
    },
    "papermill": {
     "duration": 0.103624,
     "end_time": "2021-11-13T23:08:45.721907",
     "exception": false,
     "start_time": "2021-11-13T23:08:45.618283",
     "status": "completed"
    },
    "tags": []
   },
   "outputs": [
    {
     "data": {
      "text/plain": [
       "0    STEM\n",
       "dtype: object"
      ]
     },
     "execution_count": 46,
     "metadata": {},
     "output_type": "execute_result"
    }
   ],
   "source": [
    "df['major_discipline'].mode()"
   ]
  },
  {
   "cell_type": "code",
   "execution_count": 47,
   "id": "7c9147fd",
   "metadata": {
    "execution": {
     "iopub.execute_input": "2021-11-13T23:08:45.914053Z",
     "iopub.status.busy": "2021-11-13T23:08:45.910563Z",
     "iopub.status.idle": "2021-11-13T23:08:45.916667Z",
     "shell.execute_reply": "2021-11-13T23:08:45.917176Z",
     "shell.execute_reply.started": "2021-11-13T22:41:35.172668Z"
    },
    "papermill": {
     "duration": 0.10139,
     "end_time": "2021-11-13T23:08:45.917352",
     "exception": false,
     "start_time": "2021-11-13T23:08:45.815962",
     "status": "completed"
    },
    "tags": []
   },
   "outputs": [],
   "source": [
    "df['major_discipline'] = df['major_discipline'].fillna('STEM')"
   ]
  },
  {
   "cell_type": "code",
   "execution_count": 48,
   "id": "8957fa99",
   "metadata": {
    "execution": {
     "iopub.execute_input": "2021-11-13T23:08:46.122977Z",
     "iopub.status.busy": "2021-11-13T23:08:46.121844Z",
     "iopub.status.idle": "2021-11-13T23:08:46.317855Z",
     "shell.execute_reply": "2021-11-13T23:08:46.317292Z",
     "shell.execute_reply.started": "2021-11-13T22:41:35.188185Z"
    },
    "papermill": {
     "duration": 0.304731,
     "end_time": "2021-11-13T23:08:46.318004",
     "exception": false,
     "start_time": "2021-11-13T23:08:46.013273",
     "status": "completed"
    },
    "tags": []
   },
   "outputs": [
    {
     "data": {
      "image/png": "[encoded data removed]",
      "text/plain": [
       "<Figure size 720x504 with 1 Axes>"
      ]
     },
     "metadata": {
      "needs_background": "light"
     },
     "output_type": "display_data"
    }
   ],
   "source": [
    "countplt, ax = plt.subplots(figsize = (10,7))\n",
    "ax =sns.countplot(x='major_discipline',data=df.head(500),  palette='pastel')"
   ]
  },
  {
   "cell_type": "markdown",
   "id": "c8c62e74",
   "metadata": {
    "papermill": {
     "duration": 0.092846,
     "end_time": "2021-11-13T23:08:46.505214",
     "exception": false,
     "start_time": "2021-11-13T23:08:46.412368",
     "status": "completed"
    },
    "tags": []
   },
   "source": [
    "## experience"
   ]
  },
  {
   "cell_type": "code",
   "execution_count": 49,
   "id": "af50cff1",
   "metadata": {
    "execution": {
     "iopub.execute_input": "2021-11-13T23:08:46.698966Z",
     "iopub.status.busy": "2021-11-13T23:08:46.698055Z",
     "iopub.status.idle": "2021-11-13T23:08:46.702015Z",
     "shell.execute_reply": "2021-11-13T23:08:46.701485Z",
     "shell.execute_reply.started": "2021-11-13T22:41:35.421957Z"
    },
    "papermill": {
     "duration": 0.103727,
     "end_time": "2021-11-13T23:08:46.702152",
     "exception": false,
     "start_time": "2021-11-13T23:08:46.598425",
     "status": "completed"
    },
    "tags": []
   },
   "outputs": [
    {
     "data": {
      "text/plain": [
       "0    >20\n",
       "1     15\n",
       "2      5\n",
       "3     <1\n",
       "4    >20\n",
       "Name: experience, dtype: object"
      ]
     },
     "execution_count": 49,
     "metadata": {},
     "output_type": "execute_result"
    }
   ],
   "source": [
    "df['experience'].head()"
   ]
  },
  {
   "cell_type": "code",
   "execution_count": 50,
   "id": "6d72b0f7",
   "metadata": {
    "execution": {
     "iopub.execute_input": "2021-11-13T23:08:46.890983Z",
     "iopub.status.busy": "2021-11-13T23:08:46.890336Z",
     "iopub.status.idle": "2021-11-13T23:08:46.897286Z",
     "shell.execute_reply": "2021-11-13T23:08:46.897760Z",
     "shell.execute_reply.started": "2021-11-13T22:41:35.432274Z"
    },
    "papermill": {
     "duration": 0.102582,
     "end_time": "2021-11-13T23:08:46.897928",
     "exception": false,
     "start_time": "2021-11-13T23:08:46.795346",
     "status": "completed"
    },
    "tags": []
   },
   "outputs": [
    {
     "data": {
      "text/plain": [
       ">20    3286\n",
       "5      1430\n",
       "4      1403\n",
       "3      1354\n",
       "6      1216\n",
       "2      1127\n",
       "7      1028\n",
       "10      985\n",
       "9       980\n",
       "8       802\n",
       "15      686\n",
       "11      664\n",
       "14      586\n",
       "1       549\n",
       "<1      522\n",
       "16      508\n",
       "12      494\n",
       "13      399\n",
       "17      342\n",
       "19      304\n",
       "18      280\n",
       "20      148\n",
       "Name: experience, dtype: int64"
      ]
     },
     "execution_count": 50,
     "metadata": {},
     "output_type": "execute_result"
    }
   ],
   "source": [
    "df['experience'].value_counts()"
   ]
  },
  {
   "cell_type": "code",
   "execution_count": 51,
   "id": "49a7671a",
   "metadata": {
    "execution": {
     "iopub.execute_input": "2021-11-13T23:08:47.094214Z",
     "iopub.status.busy": "2021-11-13T23:08:47.091508Z",
     "iopub.status.idle": "2021-11-13T23:08:47.097521Z",
     "shell.execute_reply": "2021-11-13T23:08:47.097948Z",
     "shell.execute_reply.started": "2021-11-13T22:41:35.451636Z"
    },
    "papermill": {
     "duration": 0.105722,
     "end_time": "2021-11-13T23:08:47.098115",
     "exception": false,
     "start_time": "2021-11-13T23:08:46.992393",
     "status": "completed"
    },
    "tags": []
   },
   "outputs": [
    {
     "data": {
      "text/plain": [
       "65"
      ]
     },
     "execution_count": 51,
     "metadata": {},
     "output_type": "execute_result"
    }
   ],
   "source": [
    "df['experience'].isnull().sum()"
   ]
  },
  {
   "cell_type": "code",
   "execution_count": 52,
   "id": "4c36b251",
   "metadata": {
    "execution": {
     "iopub.execute_input": "2021-11-13T23:08:47.291291Z",
     "iopub.status.busy": "2021-11-13T23:08:47.290678Z",
     "iopub.status.idle": "2021-11-13T23:08:47.297733Z",
     "shell.execute_reply": "2021-11-13T23:08:47.298255Z",
     "shell.execute_reply.started": "2021-11-13T22:41:35.464057Z"
    },
    "papermill": {
     "duration": 0.104724,
     "end_time": "2021-11-13T23:08:47.298432",
     "exception": false,
     "start_time": "2021-11-13T23:08:47.193708",
     "status": "completed"
    },
    "tags": []
   },
   "outputs": [
    {
     "data": {
      "text/plain": [
       "0    >20\n",
       "dtype: object"
      ]
     },
     "execution_count": 52,
     "metadata": {},
     "output_type": "execute_result"
    }
   ],
   "source": [
    "df['experience'].mode()"
   ]
  },
  {
   "cell_type": "code",
   "execution_count": 53,
   "id": "096873ac",
   "metadata": {
    "execution": {
     "iopub.execute_input": "2021-11-13T23:08:47.492952Z",
     "iopub.status.busy": "2021-11-13T23:08:47.492244Z",
     "iopub.status.idle": "2021-11-13T23:08:47.497711Z",
     "shell.execute_reply": "2021-11-13T23:08:47.498168Z",
     "shell.execute_reply.started": "2021-11-13T22:41:35.479764Z"
    },
    "papermill": {
     "duration": 0.104492,
     "end_time": "2021-11-13T23:08:47.498357",
     "exception": false,
     "start_time": "2021-11-13T23:08:47.393865",
     "status": "completed"
    },
    "tags": []
   },
   "outputs": [],
   "source": [
    "df['experience'] = df['experience'].fillna('>20')"
   ]
  },
  {
   "cell_type": "code",
   "execution_count": 54,
   "id": "a5437ab8",
   "metadata": {
    "execution": {
     "iopub.execute_input": "2021-11-13T23:08:47.689776Z",
     "iopub.status.busy": "2021-11-13T23:08:47.688768Z",
     "iopub.status.idle": "2021-11-13T23:08:47.993853Z",
     "shell.execute_reply": "2021-11-13T23:08:47.994386Z",
     "shell.execute_reply.started": "2021-11-13T22:41:35.490452Z"
    },
    "papermill": {
     "duration": 0.402388,
     "end_time": "2021-11-13T23:08:47.994558",
     "exception": false,
     "start_time": "2021-11-13T23:08:47.592170",
     "status": "completed"
    },
    "tags": []
   },
   "outputs": [
    {
     "data": {
      "image/png": "[encoded data removed]",
      "text/plain": [
       "<Figure size 720x504 with 1 Axes>"
      ]
     },
     "metadata": {
      "needs_background": "light"
     },
     "output_type": "display_data"
    }
   ],
   "source": [
    "countplt, ax = plt.subplots(figsize = (10,7))\n",
    "ax =sns.countplot(x='experience',data=df.head(500),  palette='pastel')"
   ]
  },
  {
   "cell_type": "markdown",
   "id": "6752ea1f",
   "metadata": {
    "papermill": {
     "duration": 0.095007,
     "end_time": "2021-11-13T23:08:48.183732",
     "exception": false,
     "start_time": "2021-11-13T23:08:48.088725",
     "status": "completed"
    },
    "tags": []
   },
   "source": [
    "## company_size"
   ]
  },
  {
   "cell_type": "code",
   "execution_count": 55,
   "id": "242831db",
   "metadata": {
    "execution": {
     "iopub.execute_input": "2021-11-13T23:08:48.376147Z",
     "iopub.status.busy": "2021-11-13T23:08:48.375142Z",
     "iopub.status.idle": "2021-11-13T23:08:48.381620Z",
     "shell.execute_reply": "2021-11-13T23:08:48.382153Z",
     "shell.execute_reply.started": "2021-11-13T22:41:35.837199Z"
    },
    "papermill": {
     "duration": 0.104409,
     "end_time": "2021-11-13T23:08:48.382331",
     "exception": false,
     "start_time": "2021-11-13T23:08:48.277922",
     "status": "completed"
    },
    "tags": []
   },
   "outputs": [
    {
     "data": {
      "text/plain": [
       "0      NaN\n",
       "1    50-99\n",
       "2      NaN\n",
       "3      NaN\n",
       "4    50-99\n",
       "Name: company_size, dtype: object"
      ]
     },
     "execution_count": 55,
     "metadata": {},
     "output_type": "execute_result"
    }
   ],
   "source": [
    "df['company_size'].head()"
   ]
  },
  {
   "cell_type": "code",
   "execution_count": 56,
   "id": "bc010d6d",
   "metadata": {
    "execution": {
     "iopub.execute_input": "2021-11-13T23:08:48.579512Z",
     "iopub.status.busy": "2021-11-13T23:08:48.578552Z",
     "iopub.status.idle": "2021-11-13T23:08:48.585312Z",
     "shell.execute_reply": "2021-11-13T23:08:48.585820Z",
     "shell.execute_reply.started": "2021-11-13T22:41:35.849320Z"
    },
    "papermill": {
     "duration": 0.107195,
     "end_time": "2021-11-13T23:08:48.585987",
     "exception": false,
     "start_time": "2021-11-13T23:08:48.478792",
     "status": "completed"
    },
    "tags": []
   },
   "outputs": [
    {
     "data": {
      "text/plain": [
       "5938"
      ]
     },
     "execution_count": 56,
     "metadata": {},
     "output_type": "execute_result"
    }
   ],
   "source": [
    "df['company_size'].isnull().sum()"
   ]
  },
  {
   "cell_type": "code",
   "execution_count": 57,
   "id": "eb154c4e",
   "metadata": {
    "execution": {
     "iopub.execute_input": "2021-11-13T23:08:48.785374Z",
     "iopub.status.busy": "2021-11-13T23:08:48.784485Z",
     "iopub.status.idle": "2021-11-13T23:08:48.787599Z",
     "shell.execute_reply": "2021-11-13T23:08:48.788171Z",
     "shell.execute_reply.started": "2021-11-13T22:41:35.865162Z"
    },
    "papermill": {
     "duration": 0.107121,
     "end_time": "2021-11-13T23:08:48.788349",
     "exception": false,
     "start_time": "2021-11-13T23:08:48.681228",
     "status": "completed"
    },
    "tags": []
   },
   "outputs": [
    {
     "data": {
      "text/plain": [
       "50-99        3083\n",
       "100-500      2571\n",
       "10000+       2019\n",
       "10/49        1471\n",
       "1000-4999    1328\n",
       "<10          1308\n",
       "500-999       877\n",
       "5000-9999     563\n",
       "Name: company_size, dtype: int64"
      ]
     },
     "execution_count": 57,
     "metadata": {},
     "output_type": "execute_result"
    }
   ],
   "source": [
    "df['company_size'].value_counts()"
   ]
  },
  {
   "cell_type": "code",
   "execution_count": 58,
   "id": "e66b3e0c",
   "metadata": {
    "execution": {
     "iopub.execute_input": "2021-11-13T23:08:48.985139Z",
     "iopub.status.busy": "2021-11-13T23:08:48.984147Z",
     "iopub.status.idle": "2021-11-13T23:08:48.991337Z",
     "shell.execute_reply": "2021-11-13T23:08:48.991894Z",
     "shell.execute_reply.started": "2021-11-13T22:41:35.885375Z"
    },
    "papermill": {
     "duration": 0.106859,
     "end_time": "2021-11-13T23:08:48.992062",
     "exception": false,
     "start_time": "2021-11-13T23:08:48.885203",
     "status": "completed"
    },
    "tags": []
   },
   "outputs": [
    {
     "data": {
      "text/plain": [
       "0    50-99\n",
       "dtype: object"
      ]
     },
     "execution_count": 58,
     "metadata": {},
     "output_type": "execute_result"
    }
   ],
   "source": [
    "df['company_size'].mode()"
   ]
  },
  {
   "cell_type": "code",
   "execution_count": 59,
   "id": "fa89c012",
   "metadata": {
    "execution": {
     "iopub.execute_input": "2021-11-13T23:08:49.189466Z",
     "iopub.status.busy": "2021-11-13T23:08:49.188493Z",
     "iopub.status.idle": "2021-11-13T23:08:49.194172Z",
     "shell.execute_reply": "2021-11-13T23:08:49.194602Z",
     "shell.execute_reply.started": "2021-11-13T22:41:35.896056Z"
    },
    "papermill": {
     "duration": 0.106472,
     "end_time": "2021-11-13T23:08:49.194788",
     "exception": false,
     "start_time": "2021-11-13T23:08:49.088316",
     "status": "completed"
    },
    "tags": []
   },
   "outputs": [],
   "source": [
    "df['company_size'] = df['company_size'].fillna('50-99')"
   ]
  },
  {
   "cell_type": "code",
   "execution_count": 60,
   "id": "a214a994",
   "metadata": {
    "execution": {
     "iopub.execute_input": "2021-11-13T23:08:49.391928Z",
     "iopub.status.busy": "2021-11-13T23:08:49.390935Z",
     "iopub.status.idle": "2021-11-13T23:08:49.606926Z",
     "shell.execute_reply": "2021-11-13T23:08:49.607485Z",
     "shell.execute_reply.started": "2021-11-13T22:41:35.909701Z"
    },
    "papermill": {
     "duration": 0.315528,
     "end_time": "2021-11-13T23:08:49.607677",
     "exception": false,
     "start_time": "2021-11-13T23:08:49.292149",
     "status": "completed"
    },
    "tags": []
   },
   "outputs": [
    {
     "data": {
      "image/png": "[encoded data removed]",
      "text/plain": [
       "<Figure size 720x504 with 1 Axes>"
      ]
     },
     "metadata": {
      "needs_background": "light"
     },
     "output_type": "display_data"
    }
   ],
   "source": [
    "countplt, ax = plt.subplots(figsize = (10,7))\n",
    "ax =sns.countplot(x='company_size',data=df.head(500),  palette='pastel')"
   ]
  },
  {
   "cell_type": "markdown",
   "id": "d022fe8c",
   "metadata": {
    "papermill": {
     "duration": 0.096011,
     "end_time": "2021-11-13T23:08:49.799278",
     "exception": false,
     "start_time": "2021-11-13T23:08:49.703267",
     "status": "completed"
    },
    "tags": []
   },
   "source": [
    "## company_type"
   ]
  },
  {
   "cell_type": "code",
   "execution_count": 61,
   "id": "cf414f70",
   "metadata": {
    "execution": {
     "iopub.execute_input": "2021-11-13T23:08:50.002638Z",
     "iopub.status.busy": "2021-11-13T23:08:50.001453Z",
     "iopub.status.idle": "2021-11-13T23:08:50.005047Z",
     "shell.execute_reply": "2021-11-13T23:08:50.005509Z",
     "shell.execute_reply.started": "2021-11-13T22:41:36.152227Z"
    },
    "papermill": {
     "duration": 0.108746,
     "end_time": "2021-11-13T23:08:50.005697",
     "exception": false,
     "start_time": "2021-11-13T23:08:49.896951",
     "status": "completed"
    },
    "tags": []
   },
   "outputs": [
    {
     "data": {
      "text/plain": [
       "0               NaN\n",
       "1           Pvt Ltd\n",
       "2               NaN\n",
       "3           Pvt Ltd\n",
       "4    Funded Startup\n",
       "Name: company_type, dtype: object"
      ]
     },
     "execution_count": 61,
     "metadata": {},
     "output_type": "execute_result"
    }
   ],
   "source": [
    "df['company_type'].head()"
   ]
  },
  {
   "cell_type": "code",
   "execution_count": 62,
   "id": "5d25fdda",
   "metadata": {
    "execution": {
     "iopub.execute_input": "2021-11-13T23:08:50.213509Z",
     "iopub.status.busy": "2021-11-13T23:08:50.212424Z",
     "iopub.status.idle": "2021-11-13T23:08:50.221177Z",
     "shell.execute_reply": "2021-11-13T23:08:50.221802Z",
     "shell.execute_reply.started": "2021-11-13T22:41:36.161774Z"
    },
    "papermill": {
     "duration": 0.115511,
     "end_time": "2021-11-13T23:08:50.221985",
     "exception": false,
     "start_time": "2021-11-13T23:08:50.106474",
     "status": "completed"
    },
    "tags": []
   },
   "outputs": [
    {
     "data": {
      "text/plain": [
       "Pvt Ltd                9817\n",
       "Funded Startup         1001\n",
       "Public Sector           955\n",
       "Early Stage Startup     603\n",
       "NGO                     521\n",
       "Other                   121\n",
       "Name: company_type, dtype: int64"
      ]
     },
     "execution_count": 62,
     "metadata": {},
     "output_type": "execute_result"
    }
   ],
   "source": [
    "df['company_type'].value_counts()"
   ]
  },
  {
   "cell_type": "code",
   "execution_count": 63,
   "id": "c2cf4315",
   "metadata": {
    "execution": {
     "iopub.execute_input": "2021-11-13T23:08:50.423212Z",
     "iopub.status.busy": "2021-11-13T23:08:50.422149Z",
     "iopub.status.idle": "2021-11-13T23:08:50.431030Z",
     "shell.execute_reply": "2021-11-13T23:08:50.430376Z",
     "shell.execute_reply.started": "2021-11-13T22:41:36.178288Z"
    },
    "papermill": {
     "duration": 0.110645,
     "end_time": "2021-11-13T23:08:50.431175",
     "exception": false,
     "start_time": "2021-11-13T23:08:50.320530",
     "status": "completed"
    },
    "tags": []
   },
   "outputs": [
    {
     "data": {
      "text/plain": [
       "0    Pvt Ltd\n",
       "dtype: object"
      ]
     },
     "execution_count": 63,
     "metadata": {},
     "output_type": "execute_result"
    }
   ],
   "source": [
    "df['company_type'].mode()"
   ]
  },
  {
   "cell_type": "code",
   "execution_count": 64,
   "id": "bdaf4bea",
   "metadata": {
    "execution": {
     "iopub.execute_input": "2021-11-13T23:08:50.634288Z",
     "iopub.status.busy": "2021-11-13T23:08:50.633597Z",
     "iopub.status.idle": "2021-11-13T23:08:50.636552Z",
     "shell.execute_reply": "2021-11-13T23:08:50.637053Z",
     "shell.execute_reply.started": "2021-11-13T22:41:36.193579Z"
    },
    "papermill": {
     "duration": 0.107808,
     "end_time": "2021-11-13T23:08:50.637231",
     "exception": false,
     "start_time": "2021-11-13T23:08:50.529423",
     "status": "completed"
    },
    "tags": []
   },
   "outputs": [
    {
     "data": {
      "text/plain": [
       "6140"
      ]
     },
     "execution_count": 64,
     "metadata": {},
     "output_type": "execute_result"
    }
   ],
   "source": [
    "df['company_type'].isnull().sum()"
   ]
  },
  {
   "cell_type": "code",
   "execution_count": 65,
   "id": "78e0207d",
   "metadata": {
    "execution": {
     "iopub.execute_input": "2021-11-13T23:08:50.840893Z",
     "iopub.status.busy": "2021-11-13T23:08:50.840282Z",
     "iopub.status.idle": "2021-11-13T23:08:50.845765Z",
     "shell.execute_reply": "2021-11-13T23:08:50.846256Z",
     "shell.execute_reply.started": "2021-11-13T22:41:36.203455Z"
    },
    "papermill": {
     "duration": 0.107023,
     "end_time": "2021-11-13T23:08:50.846429",
     "exception": false,
     "start_time": "2021-11-13T23:08:50.739406",
     "status": "completed"
    },
    "tags": []
   },
   "outputs": [],
   "source": [
    "df['company_type'] = df['company_type'].fillna('Pvt Ltd')"
   ]
  },
  {
   "cell_type": "code",
   "execution_count": 66,
   "id": "7d5f017a",
   "metadata": {
    "execution": {
     "iopub.execute_input": "2021-11-13T23:08:51.050663Z",
     "iopub.status.busy": "2021-11-13T23:08:51.050004Z",
     "iopub.status.idle": "2021-11-13T23:08:51.276912Z",
     "shell.execute_reply": "2021-11-13T23:08:51.276361Z",
     "shell.execute_reply.started": "2021-11-13T22:41:36.216675Z"
    },
    "papermill": {
     "duration": 0.330329,
     "end_time": "2021-11-13T23:08:51.277065",
     "exception": false,
     "start_time": "2021-11-13T23:08:50.946736",
     "status": "completed"
    },
    "tags": []
   },
   "outputs": [
    {
     "data": {
      "image/png": "[encoded data removed]",
      "text/plain": [
       "<Figure size 720x504 with 1 Axes>"
      ]
     },
     "metadata": {
      "needs_background": "light"
     },
     "output_type": "display_data"
    }
   ],
   "source": [
    "countplt, ax = plt.subplots(figsize = (10,7))\n",
    "ax =sns.countplot(x='company_type',data=df.head(500),  palette='pastel')"
   ]
  },
  {
   "cell_type": "markdown",
   "id": "f236a07d",
   "metadata": {
    "papermill": {
     "duration": 0.098595,
     "end_time": "2021-11-13T23:08:51.475755",
     "exception": false,
     "start_time": "2021-11-13T23:08:51.377160",
     "status": "completed"
    },
    "tags": []
   },
   "source": [
    "## last_new_job"
   ]
  },
  {
   "cell_type": "code",
   "execution_count": 67,
   "id": "1ec608e4",
   "metadata": {
    "execution": {
     "iopub.execute_input": "2021-11-13T23:08:51.679025Z",
     "iopub.status.busy": "2021-11-13T23:08:51.678381Z",
     "iopub.status.idle": "2021-11-13T23:08:51.683999Z",
     "shell.execute_reply": "2021-11-13T23:08:51.684538Z",
     "shell.execute_reply.started": "2021-11-13T22:41:36.472310Z"
    },
    "papermill": {
     "duration": 0.109866,
     "end_time": "2021-11-13T23:08:51.684728",
     "exception": false,
     "start_time": "2021-11-13T23:08:51.574862",
     "status": "completed"
    },
    "tags": []
   },
   "outputs": [
    {
     "data": {
      "text/plain": [
       "0        1\n",
       "1       >4\n",
       "2    never\n",
       "3    never\n",
       "4        4\n",
       "Name: last_new_job, dtype: object"
      ]
     },
     "execution_count": 67,
     "metadata": {},
     "output_type": "execute_result"
    }
   ],
   "source": [
    "df['last_new_job'].head()"
   ]
  },
  {
   "cell_type": "code",
   "execution_count": 68,
   "id": "67da0553",
   "metadata": {
    "execution": {
     "iopub.execute_input": "2021-11-13T23:08:51.887613Z",
     "iopub.status.busy": "2021-11-13T23:08:51.886989Z",
     "iopub.status.idle": "2021-11-13T23:08:51.895559Z",
     "shell.execute_reply": "2021-11-13T23:08:51.894921Z",
     "shell.execute_reply.started": "2021-11-13T22:41:36.482284Z"
    },
    "papermill": {
     "duration": 0.112672,
     "end_time": "2021-11-13T23:08:51.895731",
     "exception": false,
     "start_time": "2021-11-13T23:08:51.783059",
     "status": "completed"
    },
    "tags": []
   },
   "outputs": [
    {
     "data": {
      "text/plain": [
       "1        8040\n",
       ">4       3290\n",
       "2        2900\n",
       "never    2452\n",
       "4        1029\n",
       "3        1024\n",
       "Name: last_new_job, dtype: int64"
      ]
     },
     "execution_count": 68,
     "metadata": {},
     "output_type": "execute_result"
    }
   ],
   "source": [
    "df['last_new_job'].value_counts()"
   ]
  },
  {
   "cell_type": "code",
   "execution_count": 69,
   "id": "36bd8398",
   "metadata": {
    "execution": {
     "iopub.execute_input": "2021-11-13T23:08:52.101892Z",
     "iopub.status.busy": "2021-11-13T23:08:52.101240Z",
     "iopub.status.idle": "2021-11-13T23:08:52.109430Z",
     "shell.execute_reply": "2021-11-13T23:08:52.109960Z",
     "shell.execute_reply.started": "2021-11-13T22:41:36.499988Z"
    },
    "papermill": {
     "duration": 0.113093,
     "end_time": "2021-11-13T23:08:52.110131",
     "exception": false,
     "start_time": "2021-11-13T23:08:51.997038",
     "status": "completed"
    },
    "tags": []
   },
   "outputs": [
    {
     "data": {
      "text/plain": [
       "0    1\n",
       "dtype: object"
      ]
     },
     "execution_count": 69,
     "metadata": {},
     "output_type": "execute_result"
    }
   ],
   "source": [
    "df['last_new_job'].mode()"
   ]
  },
  {
   "cell_type": "code",
   "execution_count": 70,
   "id": "a1f9a8e2",
   "metadata": {
    "execution": {
     "iopub.execute_input": "2021-11-13T23:08:52.372759Z",
     "iopub.status.busy": "2021-11-13T23:08:52.372031Z",
     "iopub.status.idle": "2021-11-13T23:08:52.375381Z",
     "shell.execute_reply": "2021-11-13T23:08:52.375936Z",
     "shell.execute_reply.started": "2021-11-13T22:41:36.516279Z"
    },
    "papermill": {
     "duration": 0.163471,
     "end_time": "2021-11-13T23:08:52.376116",
     "exception": false,
     "start_time": "2021-11-13T23:08:52.212645",
     "status": "completed"
    },
    "tags": []
   },
   "outputs": [
    {
     "data": {
      "text/plain": [
       "423"
      ]
     },
     "execution_count": 70,
     "metadata": {},
     "output_type": "execute_result"
    }
   ],
   "source": [
    "df['last_new_job'].isnull().sum()"
   ]
  },
  {
   "cell_type": "code",
   "execution_count": 71,
   "id": "74eeaa59",
   "metadata": {
    "execution": {
     "iopub.execute_input": "2021-11-13T23:08:52.584479Z",
     "iopub.status.busy": "2021-11-13T23:08:52.583508Z",
     "iopub.status.idle": "2021-11-13T23:08:52.590038Z",
     "shell.execute_reply": "2021-11-13T23:08:52.590643Z",
     "shell.execute_reply.started": "2021-11-13T22:41:36.527496Z"
    },
    "papermill": {
     "duration": 0.114198,
     "end_time": "2021-11-13T23:08:52.590854",
     "exception": false,
     "start_time": "2021-11-13T23:08:52.476656",
     "status": "completed"
    },
    "tags": []
   },
   "outputs": [],
   "source": [
    "df['last_new_job'] = df['last_new_job'].fillna(1)"
   ]
  },
  {
   "cell_type": "code",
   "execution_count": 72,
   "id": "2681099b",
   "metadata": {
    "execution": {
     "iopub.execute_input": "2021-11-13T23:08:52.796235Z",
     "iopub.status.busy": "2021-11-13T23:08:52.795524Z",
     "iopub.status.idle": "2021-11-13T23:08:53.028049Z",
     "shell.execute_reply": "2021-11-13T23:08:53.027379Z",
     "shell.execute_reply.started": "2021-11-13T22:41:36.541113Z"
    },
    "papermill": {
     "duration": 0.33584,
     "end_time": "2021-11-13T23:08:53.028204",
     "exception": false,
     "start_time": "2021-11-13T23:08:52.692364",
     "status": "completed"
    },
    "tags": []
   },
   "outputs": [
    {
     "data": {
      "image/png": "[encoded data removed]",
      "text/plain": [
       "<Figure size 720x504 with 1 Axes>"
      ]
     },
     "metadata": {
      "needs_background": "light"
     },
     "output_type": "display_data"
    }
   ],
   "source": [
    "countplt, ax = plt.subplots(figsize = (10,7))\n",
    "ax =sns.countplot(x='last_new_job',data=df.head(500),  palette='pastel')"
   ]
  },
  {
   "cell_type": "markdown",
   "id": "1b284a45",
   "metadata": {
    "papermill": {
     "duration": 0.100604,
     "end_time": "2021-11-13T23:08:53.230563",
     "exception": false,
     "start_time": "2021-11-13T23:08:53.129959",
     "status": "completed"
    },
    "tags": []
   },
   "source": [
    "## training_hours"
   ]
  },
  {
   "cell_type": "code",
   "execution_count": 73,
   "id": "91a0dd17",
   "metadata": {
    "execution": {
     "iopub.execute_input": "2021-11-13T23:08:53.437667Z",
     "iopub.status.busy": "2021-11-13T23:08:53.436965Z",
     "iopub.status.idle": "2021-11-13T23:08:53.439655Z",
     "shell.execute_reply": "2021-11-13T23:08:53.440079Z",
     "shell.execute_reply.started": "2021-11-13T22:41:36.783328Z"
    },
    "papermill": {
     "duration": 0.108836,
     "end_time": "2021-11-13T23:08:53.440252",
     "exception": false,
     "start_time": "2021-11-13T23:08:53.331416",
     "status": "completed"
    },
    "tags": []
   },
   "outputs": [
    {
     "data": {
      "text/plain": [
       "0    36\n",
       "1    47\n",
       "2    83\n",
       "3    52\n",
       "4     8\n",
       "Name: training_hours, dtype: int64"
      ]
     },
     "execution_count": 73,
     "metadata": {},
     "output_type": "execute_result"
    }
   ],
   "source": [
    "df['training_hours'].head()"
   ]
  },
  {
   "cell_type": "code",
   "execution_count": 74,
   "id": "7453d6bc",
   "metadata": {
    "execution": {
     "iopub.execute_input": "2021-11-13T23:08:53.645681Z",
     "iopub.status.busy": "2021-11-13T23:08:53.645052Z",
     "iopub.status.idle": "2021-11-13T23:08:53.651888Z",
     "shell.execute_reply": "2021-11-13T23:08:53.652386Z",
     "shell.execute_reply.started": "2021-11-13T22:41:36.792067Z"
    },
    "papermill": {
     "duration": 0.112118,
     "end_time": "2021-11-13T23:08:53.652549",
     "exception": false,
     "start_time": "2021-11-13T23:08:53.540431",
     "status": "completed"
    },
    "tags": []
   },
   "outputs": [
    {
     "data": {
      "text/plain": [
       "28     329\n",
       "12     292\n",
       "18     291\n",
       "22     282\n",
       "50     279\n",
       "      ... \n",
       "266      6\n",
       "234      5\n",
       "272      5\n",
       "286      5\n",
       "238      4\n",
       "Name: training_hours, Length: 241, dtype: int64"
      ]
     },
     "execution_count": 74,
     "metadata": {},
     "output_type": "execute_result"
    }
   ],
   "source": [
    "df['training_hours'].value_counts()"
   ]
  },
  {
   "cell_type": "code",
   "execution_count": 75,
   "id": "6c45c43c",
   "metadata": {
    "execution": {
     "iopub.execute_input": "2021-11-13T23:08:53.858430Z",
     "iopub.status.busy": "2021-11-13T23:08:53.857420Z",
     "iopub.status.idle": "2021-11-13T23:08:53.863910Z",
     "shell.execute_reply": "2021-11-13T23:08:53.864445Z",
     "shell.execute_reply.started": "2021-11-13T22:41:36.807550Z"
    },
    "papermill": {
     "duration": 0.111591,
     "end_time": "2021-11-13T23:08:53.864631",
     "exception": false,
     "start_time": "2021-11-13T23:08:53.753040",
     "status": "completed"
    },
    "tags": []
   },
   "outputs": [
    {
     "data": {
      "text/plain": [
       "0    28\n",
       "dtype: int64"
      ]
     },
     "execution_count": 75,
     "metadata": {},
     "output_type": "execute_result"
    }
   ],
   "source": [
    "df['training_hours'].mode()"
   ]
  },
  {
   "cell_type": "code",
   "execution_count": 76,
   "id": "13268b56",
   "metadata": {
    "execution": {
     "iopub.execute_input": "2021-11-13T23:08:54.069922Z",
     "iopub.status.busy": "2021-11-13T23:08:54.068863Z",
     "iopub.status.idle": "2021-11-13T23:08:54.074997Z",
     "shell.execute_reply": "2021-11-13T23:08:54.075550Z",
     "shell.execute_reply.started": "2021-11-13T22:41:36.818503Z"
    },
    "papermill": {
     "duration": 0.110261,
     "end_time": "2021-11-13T23:08:54.075756",
     "exception": false,
     "start_time": "2021-11-13T23:08:53.965495",
     "status": "completed"
    },
    "tags": []
   },
   "outputs": [
    {
     "data": {
      "text/plain": [
       "0"
      ]
     },
     "execution_count": 76,
     "metadata": {},
     "output_type": "execute_result"
    }
   ],
   "source": [
    "df['training_hours'].isnull().sum()"
   ]
  },
  {
   "cell_type": "code",
   "execution_count": 77,
   "id": "a54e2d3e",
   "metadata": {
    "execution": {
     "iopub.execute_input": "2021-11-13T23:08:54.286821Z",
     "iopub.status.busy": "2021-11-13T23:08:54.285889Z",
     "iopub.status.idle": "2021-11-13T23:08:54.764335Z",
     "shell.execute_reply": "2021-11-13T23:08:54.763803Z",
     "shell.execute_reply.started": "2021-11-13T22:41:36.832760Z"
    },
    "papermill": {
     "duration": 0.583064,
     "end_time": "2021-11-13T23:08:54.764476",
     "exception": false,
     "start_time": "2021-11-13T23:08:54.181412",
     "status": "completed"
    },
    "tags": []
   },
   "outputs": [
    {
     "name": "stderr",
     "output_type": "stream",
     "text": [
      "/opt/conda/lib/python3.7/site-packages/seaborn/distributions.py:2619: FutureWarning: `distplot` is a deprecated function and will be removed in a future version. Please adapt your code to use either `displot` (a figure-level function with similar flexibility) or `histplot` (an axes-level function for histograms).\n",
      "  warnings.warn(msg, FutureWarning)\n"
     ]
    },
    {
     "data": {
      "text/plain": [
       "Text(0.5, 1.0, 'Training Hours')"
      ]
     },
     "execution_count": 77,
     "metadata": {},
     "output_type": "execute_result"
    },
    {
     "data": {
      "image/png": "[encoded data removed]",
      "text/plain": [
       "<Figure size 432x288 with 1 Axes>"
      ]
     },
     "metadata": {
      "needs_background": "light"
     },
     "output_type": "display_data"
    }
   ],
   "source": [
    "sns.distplot(df['training_hours'], color = 'BLACK')\n",
    "plt.title('Training Hours')"
   ]
  },
  {
   "cell_type": "code",
   "execution_count": 78,
   "id": "839e19b2",
   "metadata": {
    "execution": {
     "iopub.execute_input": "2021-11-13T23:08:54.980310Z",
     "iopub.status.busy": "2021-11-13T23:08:54.979382Z",
     "iopub.status.idle": "2021-11-13T23:08:55.336918Z",
     "shell.execute_reply": "2021-11-13T23:08:55.337470Z",
     "shell.execute_reply.started": "2021-11-13T22:41:37.506785Z"
    },
    "papermill": {
     "duration": 0.470376,
     "end_time": "2021-11-13T23:08:55.337684",
     "exception": false,
     "start_time": "2021-11-13T23:08:54.867308",
     "status": "completed"
    },
    "tags": []
   },
   "outputs": [
    {
     "data": {
      "text/plain": [
       "<AxesSubplot:title={'center':'training_hours'}, xlabel='target'>"
      ]
     },
     "execution_count": 78,
     "metadata": {},
     "output_type": "execute_result"
    },
    {
     "data": {
      "image/png": "[encoded data removed]",
      "text/plain": [
       "<Figure size 432x288 with 1 Axes>"
      ]
     },
     "metadata": {
      "needs_background": "light"
     },
     "output_type": "display_data"
    }
   ],
   "source": [
    "plt.show()\n",
    "df.boxplot(column='training_hours', by='target')"
   ]
  },
  {
   "cell_type": "markdown",
   "id": "11a6c3ee",
   "metadata": {
    "papermill": {
     "duration": 0.102912,
     "end_time": "2021-11-13T23:08:55.545093",
     "exception": false,
     "start_time": "2021-11-13T23:08:55.442181",
     "status": "completed"
    },
    "tags": []
   },
   "source": [
    "## target"
   ]
  },
  {
   "cell_type": "code",
   "execution_count": 79,
   "id": "c6498599",
   "metadata": {
    "execution": {
     "iopub.execute_input": "2021-11-13T23:08:55.783554Z",
     "iopub.status.busy": "2021-11-13T23:08:55.782934Z",
     "iopub.status.idle": "2021-11-13T23:08:55.788784Z",
     "shell.execute_reply": "2021-11-13T23:08:55.789328Z",
     "shell.execute_reply.started": "2021-11-13T22:41:37.767339Z"
    },
    "papermill": {
     "duration": 0.123751,
     "end_time": "2021-11-13T23:08:55.789494",
     "exception": false,
     "start_time": "2021-11-13T23:08:55.665743",
     "status": "completed"
    },
    "tags": []
   },
   "outputs": [
    {
     "data": {
      "text/plain": [
       "0    1.0\n",
       "1    0.0\n",
       "2    0.0\n",
       "3    1.0\n",
       "4    0.0\n",
       "Name: target, dtype: float64"
      ]
     },
     "execution_count": 79,
     "metadata": {},
     "output_type": "execute_result"
    }
   ],
   "source": [
    "df['target'].head()"
   ]
  },
  {
   "cell_type": "code",
   "execution_count": 80,
   "id": "545e1400",
   "metadata": {
    "execution": {
     "iopub.execute_input": "2021-11-13T23:08:56.001974Z",
     "iopub.status.busy": "2021-11-13T23:08:55.998194Z",
     "iopub.status.idle": "2021-11-13T23:08:56.007298Z",
     "shell.execute_reply": "2021-11-13T23:08:56.007862Z",
     "shell.execute_reply.started": "2021-11-13T22:41:37.777632Z"
    },
    "papermill": {
     "duration": 0.115506,
     "end_time": "2021-11-13T23:08:56.008054",
     "exception": false,
     "start_time": "2021-11-13T23:08:55.892548",
     "status": "completed"
    },
    "tags": []
   },
   "outputs": [
    {
     "data": {
      "text/plain": [
       "0.0    14381\n",
       "1.0     4777\n",
       "Name: target, dtype: int64"
      ]
     },
     "execution_count": 80,
     "metadata": {},
     "output_type": "execute_result"
    }
   ],
   "source": [
    "df['target'].value_counts()"
   ]
  },
  {
   "cell_type": "code",
   "execution_count": 81,
   "id": "1a4f6645",
   "metadata": {
    "execution": {
     "iopub.execute_input": "2021-11-13T23:08:56.220241Z",
     "iopub.status.busy": "2021-11-13T23:08:56.219622Z",
     "iopub.status.idle": "2021-11-13T23:08:56.225605Z",
     "shell.execute_reply": "2021-11-13T23:08:56.226142Z",
     "shell.execute_reply.started": "2021-11-13T22:41:37.791901Z"
    },
    "papermill": {
     "duration": 0.113407,
     "end_time": "2021-11-13T23:08:56.226319",
     "exception": false,
     "start_time": "2021-11-13T23:08:56.112912",
     "status": "completed"
    },
    "tags": []
   },
   "outputs": [
    {
     "data": {
      "text/plain": [
       "0    0.0\n",
       "dtype: float64"
      ]
     },
     "execution_count": 81,
     "metadata": {},
     "output_type": "execute_result"
    }
   ],
   "source": [
    "df['target'].mode()"
   ]
  },
  {
   "cell_type": "code",
   "execution_count": 82,
   "id": "9fcd6fac",
   "metadata": {
    "execution": {
     "iopub.execute_input": "2021-11-13T23:08:56.438054Z",
     "iopub.status.busy": "2021-11-13T23:08:56.437390Z",
     "iopub.status.idle": "2021-11-13T23:08:56.442544Z",
     "shell.execute_reply": "2021-11-13T23:08:56.443097Z",
     "shell.execute_reply.started": "2021-11-13T22:41:37.812081Z"
    },
    "papermill": {
     "duration": 0.11232,
     "end_time": "2021-11-13T23:08:56.443268",
     "exception": false,
     "start_time": "2021-11-13T23:08:56.330948",
     "status": "completed"
    },
    "tags": []
   },
   "outputs": [
    {
     "data": {
      "text/plain": [
       "0"
      ]
     },
     "execution_count": 82,
     "metadata": {},
     "output_type": "execute_result"
    }
   ],
   "source": [
    "df['target'].isnull().sum()"
   ]
  },
  {
   "cell_type": "code",
   "execution_count": 83,
   "id": "b7e6d49d",
   "metadata": {
    "execution": {
     "iopub.execute_input": "2021-11-13T23:08:56.654323Z",
     "iopub.status.busy": "2021-11-13T23:08:56.653683Z",
     "iopub.status.idle": "2021-11-13T23:08:56.658059Z",
     "shell.execute_reply": "2021-11-13T23:08:56.658558Z",
     "shell.execute_reply.started": "2021-11-13T22:41:37.820506Z"
    },
    "papermill": {
     "duration": 0.111461,
     "end_time": "2021-11-13T23:08:56.658766",
     "exception": false,
     "start_time": "2021-11-13T23:08:56.547305",
     "status": "completed"
    },
    "tags": []
   },
   "outputs": [],
   "source": [
    "df['target'] = df['target'].astype(int)"
   ]
  },
  {
   "cell_type": "code",
   "execution_count": 84,
   "id": "bc1ea55d",
   "metadata": {
    "execution": {
     "iopub.execute_input": "2021-11-13T23:08:56.870858Z",
     "iopub.status.busy": "2021-11-13T23:08:56.868855Z",
     "iopub.status.idle": "2021-11-13T23:08:56.874954Z",
     "shell.execute_reply": "2021-11-13T23:08:56.874228Z",
     "shell.execute_reply.started": "2021-11-13T22:41:37.831380Z"
    },
    "papermill": {
     "duration": 0.112797,
     "end_time": "2021-11-13T23:08:56.875107",
     "exception": false,
     "start_time": "2021-11-13T23:08:56.762310",
     "status": "completed"
    },
    "tags": []
   },
   "outputs": [],
   "source": [
    "df['target'] = df['target'].astype('category')"
   ]
  },
  {
   "cell_type": "code",
   "execution_count": 85,
   "id": "5c930f09",
   "metadata": {
    "execution": {
     "iopub.execute_input": "2021-11-13T23:08:57.123008Z",
     "iopub.status.busy": "2021-11-13T23:08:57.119330Z",
     "iopub.status.idle": "2021-11-13T23:08:57.280549Z",
     "shell.execute_reply": "2021-11-13T23:08:57.280031Z",
     "shell.execute_reply.started": "2021-11-13T22:41:37.847226Z"
    },
    "papermill": {
     "duration": 0.297966,
     "end_time": "2021-11-13T23:08:57.280723",
     "exception": false,
     "start_time": "2021-11-13T23:08:56.982757",
     "status": "completed"
    },
    "tags": []
   },
   "outputs": [
    {
     "data": {
      "image/png": "[encoded data removed]",
      "text/plain": [
       "<Figure size 720x504 with 1 Axes>"
      ]
     },
     "metadata": {
      "needs_background": "light"
     },
     "output_type": "display_data"
    }
   ],
   "source": [
    "countplt, ax = plt.subplots(figsize = (10,7))\n",
    "ax =sns.countplot(x='target',data=df.head(500),  palette='pastel')"
   ]
  },
  {
   "cell_type": "code",
   "execution_count": 86,
   "id": "d6cec57c",
   "metadata": {
    "execution": {
     "iopub.execute_input": "2021-11-13T23:08:57.496790Z",
     "iopub.status.busy": "2021-11-13T23:08:57.496095Z",
     "iopub.status.idle": "2021-11-13T23:08:59.587381Z",
     "shell.execute_reply": "2021-11-13T23:08:59.586880Z",
     "shell.execute_reply.started": "2021-11-13T22:41:38.051365Z"
    },
    "papermill": {
     "duration": 2.201784,
     "end_time": "2021-11-13T23:08:59.587515",
     "exception": false,
     "start_time": "2021-11-13T23:08:57.385731",
     "status": "completed"
    },
    "tags": []
   },
   "outputs": [
    {
     "data": {
      "text/html": [
       "        <script type=\"text/javascript\">\n",
       "        window.PlotlyConfig = {MathJaxConfig: 'local'};\n",
       "        if (window.MathJax) {MathJax.Hub.Config({SVG: {font: \"STIX-Web\"}});}\n",
       "        if (typeof require !== 'undefined') {\n",
       "        require.undef(\"plotly\");\n",
       "        requirejs.config({\n",
       "            paths: {\n",
       "                'plotly': ['https://cdn.plot.ly/plotly-2.4.2.min']\n",
       "            }\n",
       "        });\n",
       "        require(['plotly'], function(Plotly) {\n",
       "            window._Plotly = Plotly;\n",
       "        });\n",
       "        }\n",
       "        </script>\n",
       "        "
      ]
     },
     "metadata": {},
     "output_type": "display_data"
    },
    {
     "data": {
      "text/html": [
       "<div>                            <div id=\"c865b651-9c06-463a-9d39-b029a15124e0\" class=\"plotly-graph-div\" style=\"height:525px; width:100%;\"></div>            <script type=\"text/javascript\">                require([\"plotly\"], function(Plotly) {                    window.PLOTLYENV=window.PLOTLYENV || {};                                    if (document.getElementById(\"c865b651-9c06-463a-9d39-b029a15124e0\")) {                    Plotly.newPlot(                        \"c865b651-9c06-463a-9d39-b029a15124e0\",                        [{\"branchvalues\":\"total\",\"customdata\":[[0,\"Graduate\"],[null,null],[0,\"(?)\"],[null,null],[\"(?)\",\"(?)\"],[null,null],[1,\"Graduate\"],[null,null],[\"(?)\",\"(?)\"],[null,null],[null,null],[null,null],[null,null],[0,\"Graduate\"],[null,null],[null,null],[null,null],[\"(?)\",\"(?)\"],[\"(?)\",\"(?)\"],[null,null],[\"(?)\",\"(?)\"],[0,\"Masters\"],[null,null],[null,null],[null,null],[\"(?)\",\"(?)\"],[null,null],[null,null],[\"(?)\",\"(?)\"],[null,null],[null,null],[0,\"Masters\"],[null,null],[null,null],[null,null],[null,null],[\"(?)\",\"(?)\"],[0,\"Graduate\"],[null,null],[0,\"(?)\"],[null,null],[0,\"(?)\"],[null,null],[0,\"(?)\"],[null,null],[null,null],[0,\"Graduate\"],[null,null],[\"(?)\",\"(?)\"],[\"(?)\",\"Graduate\"],[null,null],[null,null],[0,\"(?)\"],[null,null],[0,\"Primary School\"],[\"(?)\",\"(?)\"],[0,\"Graduate\"],[\"(?)\",\"(?)\"],[\"(?)\",\"(?)\"],[null,null],[\"(?)\",\"(?)\"],[null,null],[null,null],[null,null],[0,\"Masters\"],[null,null]],\"domain\":{\"x\":[0.0,1.0],\"y\":[0.0,1.0]},\"hovertemplate\":\"labels=%{label}<br>count=%{value}<br>parent=%{parent}<br>id=%{id}<br>target=%{customdata[0]}<br>education_level=%{customdata[1]}<extra></extra>\",\"ids\":[\"Female/1\",\"Female/19\",\"Male/19\",\"Other/19\",\"Male\",\"Female/20\",\"Male/20\",\"Other/20\",\"Male/3\",\"Female/4\",\"Other/4\",\"Female/5\",\"Other/6\",\"Male/7\",\"Other/7\",\"Female/8\",\"Other/8\",\"Male/9\",\"Male/<1\",\"Female/>20\",\"Male/>20\",\"Other/>20\",\"Other/18\",\"Female/18\",\"Other/2\",\"Male/14\",\"Other/17\",\"Other/10\",\"Male/10\",\"Other/14\",\"Female/15\",\"Male/15\",\"Female/14\",\"Female/12\",\"Other/1\",\"Other/11\",\"Male/11\",\"Other/16\",\"Female/17\",\"Male/17\",\"Female/16\",\"Male/12\",\"Other/5\",\"Other\",\"Other/12\",\"Other/3\",\"Female/10\",\"Other/15\",\"Male/1\",\"Male/5\",\"Other/<1\",\"Other/9\",\"Female\",\"Female/9\",\"Male/18\",\"Male/8\",\"Female/7\",\"Male/6\",\"Male/4\",\"Female/3\",\"Male/2\",\"Female/2\",\"Male/16\",\"Female/11\",\"Female/6\",\"Female/<1\"],\"labels\":[\"1\",\"19\",\"19\",\"19\",\"Male\",\"20\",\"20\",\"20\",\"3\",\"4\",\"4\",\"5\",\"6\",\"7\",\"7\",\"8\",\"8\",\"9\",\"<1\",\">20\",\">20\",\">20\",\"18\",\"18\",\"2\",\"14\",\"17\",\"10\",\"10\",\"14\",\"15\",\"15\",\"14\",\"12\",\"1\",\"11\",\"11\",\"16\",\"17\",\"17\",\"16\",\"12\",\"5\",\"Other\",\"12\",\"3\",\"10\",\"15\",\"1\",\"5\",\"<1\",\"9\",\"Female\",\"9\",\"18\",\"8\",\"7\",\"6\",\"4\",\"3\",\"2\",\"2\",\"16\",\"11\",\"6\",\"<1\"],\"marker\":{\"colors\":[\"#636efa\",\"#EF553B\",\"#00cc96\",\"#EF553B\",\"#00cc96\",\"#EF553B\",\"#636efa\",\"#EF553B\",\"#00cc96\",\"#EF553B\",\"#EF553B\",\"#EF553B\",\"#EF553B\",\"#636efa\",\"#EF553B\",\"#EF553B\",\"#EF553B\",\"#00cc96\",\"#00cc96\",\"#EF553B\",\"#00cc96\",\"#ab63fa\",\"#EF553B\",\"#EF553B\",\"#EF553B\",\"#00cc96\",\"#EF553B\",\"#EF553B\",\"#00cc96\",\"#EF553B\",\"#EF553B\",\"#ab63fa\",\"#EF553B\",\"#EF553B\",\"#EF553B\",\"#EF553B\",\"#00cc96\",\"#636efa\",\"#EF553B\",\"#00cc96\",\"#EF553B\",\"#00cc96\",\"#EF553B\",\"#00cc96\",\"#EF553B\",\"#EF553B\",\"#636efa\",\"#EF553B\",\"#00cc96\",\"#636efa\",\"#EF553B\",\"#EF553B\",\"#00cc96\",\"#EF553B\",\"#FFA15A\",\"#00cc96\",\"#636efa\",\"#00cc96\",\"#00cc96\",\"#EF553B\",\"#00cc96\",\"#EF553B\",\"#EF553B\",\"#EF553B\",\"#ab63fa\",\"#EF553B\"]},\"name\":\"\",\"parents\":[\"Female\",\"Female\",\"Male\",\"Other\",\"\",\"Female\",\"Male\",\"Other\",\"Male\",\"Female\",\"Other\",\"Female\",\"Other\",\"Male\",\"Other\",\"Female\",\"Other\",\"Male\",\"Male\",\"Female\",\"Male\",\"Other\",\"Other\",\"Female\",\"Other\",\"Male\",\"Other\",\"Other\",\"Male\",\"Other\",\"Female\",\"Male\",\"Female\",\"Female\",\"Other\",\"Other\",\"Male\",\"Other\",\"Female\",\"Male\",\"Female\",\"Male\",\"Other\",\"\",\"Other\",\"Other\",\"Female\",\"Other\",\"Male\",\"Male\",\"Other\",\"Other\",\"\",\"Female\",\"Male\",\"Male\",\"Female\",\"Male\",\"Male\",\"Female\",\"Male\",\"Female\",\"Male\",\"Female\",\"Female\",\"Female\"],\"type\":\"sunburst\",\"values\":[1,0,2,0,94,0,1,0,7,0,0,0,0,1,0,0,0,4,4,0,17,1,0,0,0,4,0,0,5,0,0,1,0,0,0,0,3,1,0,3,0,4,0,2,0,0,1,0,4,6,0,0,4,0,1,6,1,8,7,0,6,0,0,0,1,0]}],                        {\"legend\":{\"tracegroupgap\":0},\"margin\":{\"t\":60},\"template\":{\"data\":{\"bar\":[{\"error_x\":{\"color\":\"#2a3f5f\"},\"error_y\":{\"color\":\"#2a3f5f\"},\"marker\":{\"line\":{\"color\":\"#E5ECF6\",\"width\":0.5},\"pattern\":{\"fillmode\":\"overlay\",\"size\":10,\"solidity\":0.2}},\"type\":\"bar\"}],\"barpolar\":[{\"marker\":{\"line\":{\"color\":\"#E5ECF6\",\"width\":0.5},\"pattern\":{\"fillmode\":\"overlay\",\"size\":10,\"solidity\":0.2}},\"type\":\"barpolar\"}],\"carpet\":[{\"aaxis\":{\"endlinecolor\":\"#2a3f5f\",\"gridcolor\":\"white\",\"linecolor\":\"white\",\"minorgridcolor\":\"white\",\"startlinecolor\":\"#2a3f5f\"},\"baxis\":{\"endlinecolor\":\"#2a3f5f\",\"gridcolor\":\"white\",\"linecolor\":\"white\",\"minorgridcolor\":\"white\",\"startlinecolor\":\"#2a3f5f\"},\"type\":\"carpet\"}],\"choropleth\":[{\"colorbar\":{\"outlinewidth\":0,\"ticks\":\"\"},\"type\":\"choropleth\"}],\"contour\":[{\"colorbar\":{\"outlinewidth\":0,\"ticks\":\"\"},\"colorscale\":[[0.0,\"#0d0887\"],[0.1111111111111111,\"#46039f\"],[0.2222222222222222,\"#7201a8\"],[0.3333333333333333,\"#9c179e\"],[0.4444444444444444,\"#bd3786\"],[0.5555555555555556,\"#d8576b\"],[0.6666666666666666,\"#ed7953\"],[0.7777777777777778,\"#fb9f3a\"],[0.8888888888888888,\"#fdca26\"],[1.0,\"#f0f921\"]],\"type\":\"contour\"}],\"contourcarpet\":[{\"colorbar\":{\"outlinewidth\":0,\"ticks\":\"\"},\"type\":\"contourcarpet\"}],\"heatmap\":[{\"colorbar\":{\"outlinewidth\":0,\"ticks\":\"\"},\"colorscale\":[[0.0,\"#0d0887\"],[0.1111111111111111,\"#46039f\"],[0.2222222222222222,\"#7201a8\"],[0.3333333333333333,\"#9c179e\"],[0.4444444444444444,\"#bd3786\"],[0.5555555555555556,\"#d8576b\"],[0.6666666666666666,\"#ed7953\"],[0.7777777777777778,\"#fb9f3a\"],[0.8888888888888888,\"#fdca26\"],[1.0,\"#f0f921\"]],\"type\":\"heatmap\"}],\"heatmapgl\":[{\"colorbar\":{\"outlinewidth\":0,\"ticks\":\"\"},\"colorscale\":[[0.0,\"#0d0887\"],[0.1111111111111111,\"#46039f\"],[0.2222222222222222,\"#7201a8\"],[0.3333333333333333,\"#9c179e\"],[0.4444444444444444,\"#bd3786\"],[0.5555555555555556,\"#d8576b\"],[0.6666666666666666,\"#ed7953\"],[0.7777777777777778,\"#fb9f3a\"],[0.8888888888888888,\"#fdca26\"],[1.0,\"#f0f921\"]],\"type\":\"heatmapgl\"}],\"histogram\":[{\"marker\":{\"pattern\":{\"fillmode\":\"overlay\",\"size\":10,\"solidity\":0.2}},\"type\":\"histogram\"}],\"histogram2d\":[{\"colorbar\":{\"outlinewidth\":0,\"ticks\":\"\"},\"colorscale\":[[0.0,\"#0d0887\"],[0.1111111111111111,\"#46039f\"],[0.2222222222222222,\"#7201a8\"],[0.3333333333333333,\"#9c179e\"],[0.4444444444444444,\"#bd3786\"],[0.5555555555555556,\"#d8576b\"],[0.6666666666666666,\"#ed7953\"],[0.7777777777777778,\"#fb9f3a\"],[0.8888888888888888,\"#fdca26\"],[1.0,\"#f0f921\"]],\"type\":\"histogram2d\"}],\"histogram2dcontour\":[{\"colorbar\":{\"outlinewidth\":0,\"ticks\":\"\"},\"colorscale\":[[0.0,\"#0d0887\"],[0.1111111111111111,\"#46039f\"],[0.2222222222222222,\"#7201a8\"],[0.3333333333333333,\"#9c179e\"],[0.4444444444444444,\"#bd3786\"],[0.5555555555555556,\"#d8576b\"],[0.6666666666666666,\"#ed7953\"],[0.7777777777777778,\"#fb9f3a\"],[0.8888888888888888,\"#fdca26\"],[1.0,\"#f0f921\"]],\"type\":\"histogram2dcontour\"}],\"mesh3d\":[{\"colorbar\":{\"outlinewidth\":0,\"ticks\":\"\"},\"type\":\"mesh3d\"}],\"parcoords\":[{\"line\":{\"colorbar\":{\"outlinewidth\":0,\"ticks\":\"\"}},\"type\":\"parcoords\"}],\"pie\":[{\"automargin\":true,\"type\":\"pie\"}],\"scatter\":[{\"marker\":{\"colorbar\":{\"outlinewidth\":0,\"ticks\":\"\"}},\"type\":\"scatter\"}],\"scatter3d\":[{\"line\":{\"colorbar\":{\"outlinewidth\":0,\"ticks\":\"\"}},\"marker\":{\"colorbar\":{\"outlinewidth\":0,\"ticks\":\"\"}},\"type\":\"scatter3d\"}],\"scattercarpet\":[{\"marker\":{\"colorbar\":{\"outlinewidth\":0,\"ticks\":\"\"}},\"type\":\"scattercarpet\"}],\"scattergeo\":[{\"marker\":{\"colorbar\":{\"outlinewidth\":0,\"ticks\":\"\"}},\"type\":\"scattergeo\"}],\"scattergl\":[{\"marker\":{\"colorbar\":{\"outlinewidth\":0,\"ticks\":\"\"}},\"type\":\"scattergl\"}],\"scattermapbox\":[{\"marker\":{\"colorbar\":{\"outlinewidth\":0,\"ticks\":\"\"}},\"type\":\"scattermapbox\"}],\"scatterpolar\":[{\"marker\":{\"colorbar\":{\"outlinewidth\":0,\"ticks\":\"\"}},\"type\":\"scatterpolar\"}],\"scatterpolargl\":[{\"marker\":{\"colorbar\":{\"outlinewidth\":0,\"ticks\":\"\"}},\"type\":\"scatterpolargl\"}],\"scatterternary\":[{\"marker\":{\"colorbar\":{\"outlinewidth\":0,\"ticks\":\"\"}},\"type\":\"scatterternary\"}],\"surface\":[{\"colorbar\":{\"outlinewidth\":0,\"ticks\":\"\"},\"colorscale\":[[0.0,\"#0d0887\"],[0.1111111111111111,\"#46039f\"],[0.2222222222222222,\"#7201a8\"],[0.3333333333333333,\"#9c179e\"],[0.4444444444444444,\"#bd3786\"],[0.5555555555555556,\"#d8576b\"],[0.6666666666666666,\"#ed7953\"],[0.7777777777777778,\"#fb9f3a\"],[0.8888888888888888,\"#fdca26\"],[1.0,\"#f0f921\"]],\"type\":\"surface\"}],\"table\":[{\"cells\":{\"fill\":{\"color\":\"#EBF0F8\"},\"line\":{\"color\":\"white\"}},\"header\":{\"fill\":{\"color\":\"#C8D4E3\"},\"line\":{\"color\":\"white\"}},\"type\":\"table\"}]},\"layout\":{\"annotationdefaults\":{\"arrowcolor\":\"#2a3f5f\",\"arrowhead\":0,\"arrowwidth\":1},\"autotypenumbers\":\"strict\",\"coloraxis\":{\"colorbar\":{\"outlinewidth\":0,\"ticks\":\"\"}},\"colorscale\":{\"diverging\":[[0,\"#8e0152\"],[0.1,\"#c51b7d\"],[0.2,\"#de77ae\"],[0.3,\"#f1b6da\"],[0.4,\"#fde0ef\"],[0.5,\"#f7f7f7\"],[0.6,\"#e6f5d0\"],[0.7,\"#b8e186\"],[0.8,\"#7fbc41\"],[0.9,\"#4d9221\"],[1,\"#276419\"]],\"sequential\":[[0.0,\"#0d0887\"],[0.1111111111111111,\"#46039f\"],[0.2222222222222222,\"#7201a8\"],[0.3333333333333333,\"#9c179e\"],[0.4444444444444444,\"#bd3786\"],[0.5555555555555556,\"#d8576b\"],[0.6666666666666666,\"#ed7953\"],[0.7777777777777778,\"#fb9f3a\"],[0.8888888888888888,\"#fdca26\"],[1.0,\"#f0f921\"]],\"sequentialminus\":[[0.0,\"#0d0887\"],[0.1111111111111111,\"#46039f\"],[0.2222222222222222,\"#7201a8\"],[0.3333333333333333,\"#9c179e\"],[0.4444444444444444,\"#bd3786\"],[0.5555555555555556,\"#d8576b\"],[0.6666666666666666,\"#ed7953\"],[0.7777777777777778,\"#fb9f3a\"],[0.8888888888888888,\"#fdca26\"],[1.0,\"#f0f921\"]]},\"colorway\":[\"#636efa\",\"#EF553B\",\"#00cc96\",\"#ab63fa\",\"#FFA15A\",\"#19d3f3\",\"#FF6692\",\"#B6E880\",\"#FF97FF\",\"#FECB52\"],\"font\":{\"color\":\"#2a3f5f\"},\"geo\":{\"bgcolor\":\"white\",\"lakecolor\":\"white\",\"landcolor\":\"#E5ECF6\",\"showlakes\":true,\"showland\":true,\"subunitcolor\":\"white\"},\"hoverlabel\":{\"align\":\"left\"},\"hovermode\":\"closest\",\"mapbox\":{\"style\":\"light\"},\"paper_bgcolor\":\"white\",\"plot_bgcolor\":\"#E5ECF6\",\"polar\":{\"angularaxis\":{\"gridcolor\":\"white\",\"linecolor\":\"white\",\"ticks\":\"\"},\"bgcolor\":\"#E5ECF6\",\"radialaxis\":{\"gridcolor\":\"white\",\"linecolor\":\"white\",\"ticks\":\"\"}},\"scene\":{\"xaxis\":{\"backgroundcolor\":\"#E5ECF6\",\"gridcolor\":\"white\",\"gridwidth\":2,\"linecolor\":\"white\",\"showbackground\":true,\"ticks\":\"\",\"zerolinecolor\":\"white\"},\"yaxis\":{\"backgroundcolor\":\"#E5ECF6\",\"gridcolor\":\"white\",\"gridwidth\":2,\"linecolor\":\"white\",\"showbackground\":true,\"ticks\":\"\",\"zerolinecolor\":\"white\"},\"zaxis\":{\"backgroundcolor\":\"#E5ECF6\",\"gridcolor\":\"white\",\"gridwidth\":2,\"linecolor\":\"white\",\"showbackground\":true,\"ticks\":\"\",\"zerolinecolor\":\"white\"}},\"shapedefaults\":{\"line\":{\"color\":\"#2a3f5f\"}},\"ternary\":{\"aaxis\":{\"gridcolor\":\"white\",\"linecolor\":\"white\",\"ticks\":\"\"},\"baxis\":{\"gridcolor\":\"white\",\"linecolor\":\"white\",\"ticks\":\"\"},\"bgcolor\":\"#E5ECF6\",\"caxis\":{\"gridcolor\":\"white\",\"linecolor\":\"white\",\"ticks\":\"\"}},\"title\":{\"x\":0.05},\"xaxis\":{\"automargin\":true,\"gridcolor\":\"white\",\"linecolor\":\"white\",\"ticks\":\"\",\"title\":{\"standoff\":15},\"zerolinecolor\":\"white\",\"zerolinewidth\":2},\"yaxis\":{\"automargin\":true,\"gridcolor\":\"white\",\"linecolor\":\"white\",\"ticks\":\"\",\"title\":{\"standoff\":15},\"zerolinecolor\":\"white\",\"zerolinewidth\":2}}}},                        {\"responsive\": true}                    ).then(function(){\n",
       "                            \n",
       "var gd = document.getElementById('c865b651-9c06-463a-9d39-b029a15124e0');\n",
       "var x = new MutationObserver(function (mutations, observer) {{\n",
       "        var display = window.getComputedStyle(gd).display;\n",
       "        if (!display || display === 'none') {{\n",
       "            console.log([gd, 'removed!']);\n",
       "            Plotly.purge(gd);\n",
       "            observer.disconnect();\n",
       "        }}\n",
       "}});\n",
       "\n",
       "// Listen for the removal of the full notebook cells\n",
       "var notebookContainer = gd.closest('#notebook-container');\n",
       "if (notebookContainer) {{\n",
       "    x.observe(notebookContainer, {childList: true});\n",
       "}}\n",
       "\n",
       "// Listen for the clearing of the current output cell\n",
       "var outputEl = gd.closest('.output');\n",
       "if (outputEl) {{\n",
       "    x.observe(outputEl, {childList: true});\n",
       "}}\n",
       "\n",
       "                        })                };                });            </script>        </div>"
      ]
     },
     "metadata": {},
     "output_type": "display_data"
    }
   ],
   "source": [
    "import plotly.express as px\n",
    "df1 = df.tail(100)\n",
    "fig = px.sunburst(df1, path=[\"gender\",'experience'],\n",
    "                  color='education_level', hover_data=['target'],\n",
    "                  color_continuous_scale='RdBu')\n",
    "fig.show()"
   ]
  },
  {
   "cell_type": "markdown",
   "id": "8d92973d",
   "metadata": {
    "papermill": {
     "duration": 0.104489,
     "end_time": "2021-11-13T23:08:59.798535",
     "exception": false,
     "start_time": "2021-11-13T23:08:59.694046",
     "status": "completed"
    },
    "tags": []
   },
   "source": [
    "# Outliers"
   ]
  },
  {
   "cell_type": "code",
   "execution_count": 87,
   "id": "0640e032",
   "metadata": {
    "execution": {
     "iopub.execute_input": "2021-11-13T23:09:00.026194Z",
     "iopub.status.busy": "2021-11-13T23:09:00.025230Z",
     "iopub.status.idle": "2021-11-13T23:09:00.029200Z",
     "shell.execute_reply": "2021-11-13T23:09:00.028621Z",
     "shell.execute_reply.started": "2021-11-13T22:41:39.036414Z"
    },
    "papermill": {
     "duration": 0.124667,
     "end_time": "2021-11-13T23:09:00.029337",
     "exception": false,
     "start_time": "2021-11-13T23:08:59.904670",
     "status": "completed"
    },
    "tags": []
   },
   "outputs": [
    {
     "data": {
      "text/html": [
       "<div>\n",
       "<style scoped>\n",
       "    .dataframe tbody tr th:only-of-type {\n",
       "        vertical-align: middle;\n",
       "    }\n",
       "\n",
       "    .dataframe tbody tr th {\n",
       "        vertical-align: top;\n",
       "    }\n",
       "\n",
       "    .dataframe thead th {\n",
       "        text-align: right;\n",
       "    }\n",
       "</style>\n",
       "<table border=\"1\" class=\"dataframe\">\n",
       "  <thead>\n",
       "    <tr style=\"text-align: right;\">\n",
       "      <th></th>\n",
       "      <th>city</th>\n",
       "      <th>city_development_index</th>\n",
       "      <th>relevent_experience</th>\n",
       "      <th>education_level</th>\n",
       "      <th>major_discipline</th>\n",
       "      <th>experience</th>\n",
       "      <th>training_hours</th>\n",
       "    </tr>\n",
       "  </thead>\n",
       "  <tbody>\n",
       "    <tr>\n",
       "      <th>0</th>\n",
       "      <td>city_103</td>\n",
       "      <td>0.920</td>\n",
       "      <td>Has relevent experience</td>\n",
       "      <td>Graduate</td>\n",
       "      <td>STEM</td>\n",
       "      <td>&gt;20</td>\n",
       "      <td>36</td>\n",
       "    </tr>\n",
       "    <tr>\n",
       "      <th>1</th>\n",
       "      <td>city_40</td>\n",
       "      <td>0.776</td>\n",
       "      <td>No relevent experience</td>\n",
       "      <td>Graduate</td>\n",
       "      <td>STEM</td>\n",
       "      <td>15</td>\n",
       "      <td>47</td>\n",
       "    </tr>\n",
       "    <tr>\n",
       "      <th>2</th>\n",
       "      <td>city_21</td>\n",
       "      <td>0.624</td>\n",
       "      <td>No relevent experience</td>\n",
       "      <td>Graduate</td>\n",
       "      <td>STEM</td>\n",
       "      <td>5</td>\n",
       "      <td>83</td>\n",
       "    </tr>\n",
       "    <tr>\n",
       "      <th>3</th>\n",
       "      <td>city_115</td>\n",
       "      <td>0.789</td>\n",
       "      <td>No relevent experience</td>\n",
       "      <td>Graduate</td>\n",
       "      <td>Business Degree</td>\n",
       "      <td>&lt;1</td>\n",
       "      <td>52</td>\n",
       "    </tr>\n",
       "    <tr>\n",
       "      <th>4</th>\n",
       "      <td>city_162</td>\n",
       "      <td>0.767</td>\n",
       "      <td>Has relevent experience</td>\n",
       "      <td>Masters</td>\n",
       "      <td>STEM</td>\n",
       "      <td>&gt;20</td>\n",
       "      <td>8</td>\n",
       "    </tr>\n",
       "  </tbody>\n",
       "</table>\n",
       "</div>"
      ],
      "text/plain": [
       "       city  city_development_index      relevent_experience education_level  \\\n",
       "0  city_103                   0.920  Has relevent experience        Graduate   \n",
       "1   city_40                   0.776   No relevent experience        Graduate   \n",
       "2   city_21                   0.624   No relevent experience        Graduate   \n",
       "3  city_115                   0.789   No relevent experience        Graduate   \n",
       "4  city_162                   0.767  Has relevent experience         Masters   \n",
       "\n",
       "  major_discipline experience  training_hours  \n",
       "0             STEM        >20              36  \n",
       "1             STEM         15              47  \n",
       "2             STEM          5              83  \n",
       "3  Business Degree         <1              52  \n",
       "4             STEM        >20               8  "
      ]
     },
     "execution_count": 87,
     "metadata": {},
     "output_type": "execute_result"
    }
   ],
   "source": [
    "dt[['city' , 'city_development_index' , 'relevent_experience' , 'education_level' ,\n",
    "'major_discipline' ,'experience' ,'training_hours']].head()"
   ]
  },
  {
   "cell_type": "code",
   "execution_count": 88,
   "id": "3bc360eb",
   "metadata": {
    "execution": {
     "iopub.execute_input": "2021-11-13T23:09:00.250269Z",
     "iopub.status.busy": "2021-11-13T23:09:00.249327Z",
     "iopub.status.idle": "2021-11-13T23:09:00.251543Z",
     "shell.execute_reply": "2021-11-13T23:09:00.252107Z",
     "shell.execute_reply.started": "2021-11-13T22:41:39.055214Z"
    },
    "papermill": {
     "duration": 0.115537,
     "end_time": "2021-11-13T23:09:00.252269",
     "exception": false,
     "start_time": "2021-11-13T23:09:00.136732",
     "status": "completed"
    },
    "tags": []
   },
   "outputs": [],
   "source": [
    "df[[ 'city_development_index' , 'training_hours' ]] = df[[ 'city_development_index' , 'training_hours' ]].astype(float)"
   ]
  },
  {
   "cell_type": "code",
   "execution_count": 89,
   "id": "b32e6db3",
   "metadata": {
    "execution": {
     "iopub.execute_input": "2021-11-13T23:09:00.468189Z",
     "iopub.status.busy": "2021-11-13T23:09:00.467166Z",
     "iopub.status.idle": "2021-11-13T23:09:00.472906Z",
     "shell.execute_reply": "2021-11-13T23:09:00.473473Z",
     "shell.execute_reply.started": "2021-11-13T22:41:39.069484Z"
    },
    "papermill": {
     "duration": 0.115582,
     "end_time": "2021-11-13T23:09:00.473674",
     "exception": false,
     "start_time": "2021-11-13T23:09:00.358092",
     "status": "completed"
    },
    "tags": []
   },
   "outputs": [],
   "source": [
    "features = df[[ 'city_development_index' , 'training_hours' ]]"
   ]
  },
  {
   "cell_type": "markdown",
   "id": "84ff5058",
   "metadata": {
    "papermill": {
     "duration": 0.106479,
     "end_time": "2021-11-13T23:09:00.687972",
     "exception": false,
     "start_time": "2021-11-13T23:09:00.581493",
     "status": "completed"
    },
    "tags": []
   },
   "source": [
    "#### Before Handel Outliers"
   ]
  },
  {
   "cell_type": "code",
   "execution_count": 90,
   "id": "45a7a1fd",
   "metadata": {
    "execution": {
     "iopub.execute_input": "2021-11-13T23:09:00.905223Z",
     "iopub.status.busy": "2021-11-13T23:09:00.904236Z",
     "iopub.status.idle": "2021-11-13T23:09:02.575753Z",
     "shell.execute_reply": "2021-11-13T23:09:02.576252Z",
     "shell.execute_reply.started": "2021-11-13T22:41:39.085641Z"
    },
    "papermill": {
     "duration": 1.78217,
     "end_time": "2021-11-13T23:09:02.576442",
     "exception": false,
     "start_time": "2021-11-13T23:09:00.794272",
     "status": "completed"
    },
    "tags": []
   },
   "outputs": [
    {
     "name": "stderr",
     "output_type": "stream",
     "text": [
      "/opt/conda/lib/python3.7/site-packages/seaborn/distributions.py:2619: FutureWarning:\n",
      "\n",
      "`distplot` is a deprecated function and will be removed in a future version. Please adapt your code to use either `displot` (a figure-level function with similar flexibility) or `histplot` (an axes-level function for histograms).\n",
      "\n",
      "/opt/conda/lib/python3.7/site-packages/seaborn/_decorators.py:43: FutureWarning:\n",
      "\n",
      "Pass the following variable as a keyword arg: x. From version 0.12, the only valid positional argument will be `data`, and passing other arguments without an explicit keyword will result in an error or misinterpretation.\n",
      "\n"
     ]
    },
    {
     "data": {
      "image/png": "[encoded data removed]",
      "text/plain": [
       "<Figure size 1080x288 with 3 Axes>"
      ]
     },
     "metadata": {
      "needs_background": "light"
     },
     "output_type": "display_data"
    },
    {
     "name": "stderr",
     "output_type": "stream",
     "text": [
      "/opt/conda/lib/python3.7/site-packages/seaborn/distributions.py:2619: FutureWarning:\n",
      "\n",
      "`distplot` is a deprecated function and will be removed in a future version. Please adapt your code to use either `displot` (a figure-level function with similar flexibility) or `histplot` (an axes-level function for histograms).\n",
      "\n",
      "/opt/conda/lib/python3.7/site-packages/seaborn/_decorators.py:43: FutureWarning:\n",
      "\n",
      "Pass the following variable as a keyword arg: x. From version 0.12, the only valid positional argument will be `data`, and passing other arguments without an explicit keyword will result in an error or misinterpretation.\n",
      "\n"
     ]
    },
    {
     "data": {
      "image/png": "[encoded data removed]",
      "text/plain": [
       "<Figure size 1080x288 with 3 Axes>"
      ]
     },
     "metadata": {
      "needs_background": "light"
     },
     "output_type": "display_data"
    }
   ],
   "source": [
    "from scipy import stats\n",
    "for col in features:\n",
    "    plt.figure(figsize=(15,4))\n",
    "    plt.subplot(131)\n",
    "    sns.distplot(df[col], label=\"skew: \" + str(np.round(df[col].skew(),2)))\n",
    "    plt.legend()\n",
    "    plt.subplot(132)\n",
    "    sns.boxplot(df[col])\n",
    "    plt.subplot(133)\n",
    "    stats.probplot(df[col], plot=plt)\n",
    "    plt.tight_layout()\n",
    "    plt.show()"
   ]
  },
  {
   "cell_type": "code",
   "execution_count": 91,
   "id": "3561c16a",
   "metadata": {
    "execution": {
     "iopub.execute_input": "2021-11-13T23:09:02.800486Z",
     "iopub.status.busy": "2021-11-13T23:09:02.799872Z",
     "iopub.status.idle": "2021-11-13T23:09:02.807854Z",
     "shell.execute_reply": "2021-11-13T23:09:02.808701Z",
     "shell.execute_reply.started": "2021-11-13T22:41:41.017262Z"
    },
    "papermill": {
     "duration": 0.121625,
     "end_time": "2021-11-13T23:09:02.808924",
     "exception": false,
     "start_time": "2021-11-13T23:09:02.687299",
     "status": "completed"
    },
    "tags": []
   },
   "outputs": [
    {
     "name": "stdout",
     "output_type": "stream",
     "text": [
      "mean of the dataset is city_development_index     0.828848\n",
      "training_hours            65.366896\n",
      "dtype: float64\n",
      "std. deviation is city_development_index     0.123359\n",
      "training_hours            60.056894\n",
      "dtype: float64\n"
     ]
    }
   ],
   "source": [
    "mean = np.mean(features)\n",
    "std = np.std(features)\n",
    "print('mean of the dataset is', mean)\n",
    "print('std. deviation is', std)"
   ]
  },
  {
   "cell_type": "code",
   "execution_count": 92,
   "id": "b6cfd612",
   "metadata": {
    "execution": {
     "iopub.execute_input": "2021-11-13T23:09:03.034196Z",
     "iopub.status.busy": "2021-11-13T23:09:03.033514Z",
     "iopub.status.idle": "2021-11-13T23:09:03.042566Z",
     "shell.execute_reply": "2021-11-13T23:09:03.043043Z",
     "shell.execute_reply.started": "2021-11-13T22:41:41.028460Z"
    },
    "papermill": {
     "duration": 0.123162,
     "end_time": "2021-11-13T23:09:03.043230",
     "exception": false,
     "start_time": "2021-11-13T23:09:02.920068",
     "status": "completed"
    },
    "tags": []
   },
   "outputs": [],
   "source": [
    "df = df.loc[df.city_development_index > 0.5]\n",
    "df = df.loc[df.training_hours < 157]"
   ]
  },
  {
   "cell_type": "markdown",
   "id": "d95e2c4b",
   "metadata": {
    "papermill": {
     "duration": 0.109531,
     "end_time": "2021-11-13T23:09:03.263188",
     "exception": false,
     "start_time": "2021-11-13T23:09:03.153657",
     "status": "completed"
    },
    "tags": []
   },
   "source": [
    "#### After Handel Outliers"
   ]
  },
  {
   "cell_type": "code",
   "execution_count": 93,
   "id": "7c680dfd",
   "metadata": {
    "execution": {
     "iopub.execute_input": "2021-11-13T23:09:03.487526Z",
     "iopub.status.busy": "2021-11-13T23:09:03.486786Z",
     "iopub.status.idle": "2021-11-13T23:09:05.069360Z",
     "shell.execute_reply": "2021-11-13T23:09:05.069900Z",
     "shell.execute_reply.started": "2021-11-13T22:41:41.043395Z"
    },
    "papermill": {
     "duration": 1.697848,
     "end_time": "2021-11-13T23:09:05.070081",
     "exception": false,
     "start_time": "2021-11-13T23:09:03.372233",
     "status": "completed"
    },
    "tags": []
   },
   "outputs": [
    {
     "name": "stderr",
     "output_type": "stream",
     "text": [
      "/opt/conda/lib/python3.7/site-packages/seaborn/distributions.py:2619: FutureWarning:\n",
      "\n",
      "`distplot` is a deprecated function and will be removed in a future version. Please adapt your code to use either `displot` (a figure-level function with similar flexibility) or `histplot` (an axes-level function for histograms).\n",
      "\n",
      "/opt/conda/lib/python3.7/site-packages/seaborn/_decorators.py:43: FutureWarning:\n",
      "\n",
      "Pass the following variable as a keyword arg: x. From version 0.12, the only valid positional argument will be `data`, and passing other arguments without an explicit keyword will result in an error or misinterpretation.\n",
      "\n"
     ]
    },
    {
     "data": {
      "image/png": "[encoded data removed]",
      "text/plain": [
       "<Figure size 1080x288 with 3 Axes>"
      ]
     },
     "metadata": {
      "needs_background": "light"
     },
     "output_type": "display_data"
    },
    {
     "name": "stderr",
     "output_type": "stream",
     "text": [
      "/opt/conda/lib/python3.7/site-packages/seaborn/distributions.py:2619: FutureWarning:\n",
      "\n",
      "`distplot` is a deprecated function and will be removed in a future version. Please adapt your code to use either `displot` (a figure-level function with similar flexibility) or `histplot` (an axes-level function for histograms).\n",
      "\n",
      "/opt/conda/lib/python3.7/site-packages/seaborn/_decorators.py:43: FutureWarning:\n",
      "\n",
      "Pass the following variable as a keyword arg: x. From version 0.12, the only valid positional argument will be `data`, and passing other arguments without an explicit keyword will result in an error or misinterpretation.\n",
      "\n"
     ]
    },
    {
     "data": {
      "image/png": "[encoded data removed]",
      "text/plain": [
       "<Figure size 1080x288 with 3 Axes>"
      ]
     },
     "metadata": {
      "needs_background": "light"
     },
     "output_type": "display_data"
    }
   ],
   "source": [
    "from scipy import stats\n",
    "for col in features:\n",
    "    plt.figure(figsize=(15,4))\n",
    "    plt.subplot(131)\n",
    "    sns.distplot(df[col], label=\"skew: \" + str(np.round(df[col].skew(),2)))\n",
    "    plt.legend()\n",
    "    plt.subplot(132)\n",
    "    sns.boxplot(df[col])\n",
    "    plt.subplot(133)\n",
    "    stats.probplot(df[col], plot=plt)\n",
    "    plt.tight_layout()\n",
    "    plt.show()"
   ]
  },
  {
   "cell_type": "markdown",
   "id": "0a78fc2b",
   "metadata": {
    "papermill": {
     "duration": 0.114308,
     "end_time": "2021-11-13T23:09:05.302589",
     "exception": false,
     "start_time": "2021-11-13T23:09:05.188281",
     "status": "completed"
    },
    "tags": []
   },
   "source": [
    "# Label Encoding"
   ]
  },
  {
   "cell_type": "code",
   "execution_count": 94,
   "id": "0377fbd1",
   "metadata": {
    "execution": {
     "iopub.execute_input": "2021-11-13T23:09:05.531211Z",
     "iopub.status.busy": "2021-11-13T23:09:05.530625Z",
     "iopub.status.idle": "2021-11-13T23:09:05.534203Z",
     "shell.execute_reply": "2021-11-13T23:09:05.534662Z",
     "shell.execute_reply.started": "2021-11-13T22:42:39.844245Z"
    },
    "papermill": {
     "duration": 0.120173,
     "end_time": "2021-11-13T23:09:05.534823",
     "exception": false,
     "start_time": "2021-11-13T23:09:05.414650",
     "status": "completed"
    },
    "tags": []
   },
   "outputs": [],
   "source": [
    "from sklearn.preprocessing import LabelEncoder\n",
    "le = LabelEncoder()"
   ]
  },
  {
   "cell_type": "code",
   "execution_count": 95,
   "id": "212272f8",
   "metadata": {
    "execution": {
     "iopub.execute_input": "2021-11-13T23:09:05.764648Z",
     "iopub.status.busy": "2021-11-13T23:09:05.764067Z",
     "iopub.status.idle": "2021-11-13T23:09:05.769982Z",
     "shell.execute_reply": "2021-11-13T23:09:05.770506Z",
     "shell.execute_reply.started": "2021-11-13T22:42:40.430083Z"
    },
    "papermill": {
     "duration": 0.121578,
     "end_time": "2021-11-13T23:09:05.770682",
     "exception": false,
     "start_time": "2021-11-13T23:09:05.649104",
     "status": "completed"
    },
    "tags": []
   },
   "outputs": [
    {
     "data": {
      "text/plain": [
       "city                      category\n",
       "city_development_index     float64\n",
       "gender                    category\n",
       "relevent_experience         object\n",
       "enrolled_university         object\n",
       "education_level             object\n",
       "major_discipline            object\n",
       "experience                  object\n",
       "company_size                object\n",
       "company_type                object\n",
       "last_new_job                object\n",
       "training_hours             float64\n",
       "target                    category\n",
       "dtype: object"
      ]
     },
     "execution_count": 95,
     "metadata": {},
     "output_type": "execute_result"
    }
   ],
   "source": [
    "df.dtypes"
   ]
  },
  {
   "cell_type": "code",
   "execution_count": 96,
   "id": "382e2045",
   "metadata": {
    "execution": {
     "iopub.execute_input": "2021-11-13T23:09:06.006485Z",
     "iopub.status.busy": "2021-11-13T23:09:06.005859Z",
     "iopub.status.idle": "2021-11-13T23:09:06.021704Z",
     "shell.execute_reply": "2021-11-13T23:09:06.022261Z",
     "shell.execute_reply.started": "2021-11-13T22:42:41.121195Z"
    },
    "papermill": {
     "duration": 0.136208,
     "end_time": "2021-11-13T23:09:06.022437",
     "exception": false,
     "start_time": "2021-11-13T23:09:05.886229",
     "status": "completed"
    },
    "tags": []
   },
   "outputs": [
    {
     "data": {
      "text/html": [
       "<div>\n",
       "<style scoped>\n",
       "    .dataframe tbody tr th:only-of-type {\n",
       "        vertical-align: middle;\n",
       "    }\n",
       "\n",
       "    .dataframe tbody tr th {\n",
       "        vertical-align: top;\n",
       "    }\n",
       "\n",
       "    .dataframe thead th {\n",
       "        text-align: right;\n",
       "    }\n",
       "</style>\n",
       "<table border=\"1\" class=\"dataframe\">\n",
       "  <thead>\n",
       "    <tr style=\"text-align: right;\">\n",
       "      <th></th>\n",
       "      <th>city</th>\n",
       "      <th>gender</th>\n",
       "      <th>relevent_experience</th>\n",
       "      <th>enrolled_university</th>\n",
       "      <th>education_level</th>\n",
       "      <th>major_discipline</th>\n",
       "      <th>experience</th>\n",
       "      <th>company_size</th>\n",
       "      <th>company_type</th>\n",
       "      <th>last_new_job</th>\n",
       "    </tr>\n",
       "  </thead>\n",
       "  <tbody>\n",
       "    <tr>\n",
       "      <th>0</th>\n",
       "      <td>city_103</td>\n",
       "      <td>Male</td>\n",
       "      <td>Has relevent experience</td>\n",
       "      <td>no_enrollment</td>\n",
       "      <td>Graduate</td>\n",
       "      <td>STEM</td>\n",
       "      <td>&gt;20</td>\n",
       "      <td>50-99</td>\n",
       "      <td>Pvt Ltd</td>\n",
       "      <td>1</td>\n",
       "    </tr>\n",
       "    <tr>\n",
       "      <th>1</th>\n",
       "      <td>city_40</td>\n",
       "      <td>Male</td>\n",
       "      <td>No relevent experience</td>\n",
       "      <td>no_enrollment</td>\n",
       "      <td>Graduate</td>\n",
       "      <td>STEM</td>\n",
       "      <td>15</td>\n",
       "      <td>50-99</td>\n",
       "      <td>Pvt Ltd</td>\n",
       "      <td>&gt;4</td>\n",
       "    </tr>\n",
       "    <tr>\n",
       "      <th>2</th>\n",
       "      <td>city_21</td>\n",
       "      <td>Male</td>\n",
       "      <td>No relevent experience</td>\n",
       "      <td>Full time course</td>\n",
       "      <td>Graduate</td>\n",
       "      <td>STEM</td>\n",
       "      <td>5</td>\n",
       "      <td>50-99</td>\n",
       "      <td>Pvt Ltd</td>\n",
       "      <td>never</td>\n",
       "    </tr>\n",
       "    <tr>\n",
       "      <th>3</th>\n",
       "      <td>city_115</td>\n",
       "      <td>Male</td>\n",
       "      <td>No relevent experience</td>\n",
       "      <td>no_enrollment</td>\n",
       "      <td>Graduate</td>\n",
       "      <td>Business Degree</td>\n",
       "      <td>&lt;1</td>\n",
       "      <td>50-99</td>\n",
       "      <td>Pvt Ltd</td>\n",
       "      <td>never</td>\n",
       "    </tr>\n",
       "    <tr>\n",
       "      <th>4</th>\n",
       "      <td>city_162</td>\n",
       "      <td>Male</td>\n",
       "      <td>Has relevent experience</td>\n",
       "      <td>no_enrollment</td>\n",
       "      <td>Masters</td>\n",
       "      <td>STEM</td>\n",
       "      <td>&gt;20</td>\n",
       "      <td>50-99</td>\n",
       "      <td>Funded Startup</td>\n",
       "      <td>4</td>\n",
       "    </tr>\n",
       "  </tbody>\n",
       "</table>\n",
       "</div>"
      ],
      "text/plain": [
       "       city gender      relevent_experience enrolled_university  \\\n",
       "0  city_103   Male  Has relevent experience       no_enrollment   \n",
       "1   city_40   Male   No relevent experience       no_enrollment   \n",
       "2   city_21   Male   No relevent experience    Full time course   \n",
       "3  city_115   Male   No relevent experience       no_enrollment   \n",
       "4  city_162   Male  Has relevent experience       no_enrollment   \n",
       "\n",
       "  education_level major_discipline experience company_size    company_type  \\\n",
       "0        Graduate             STEM        >20        50-99         Pvt Ltd   \n",
       "1        Graduate             STEM         15        50-99         Pvt Ltd   \n",
       "2        Graduate             STEM          5        50-99         Pvt Ltd   \n",
       "3        Graduate  Business Degree         <1        50-99         Pvt Ltd   \n",
       "4         Masters             STEM        >20        50-99  Funded Startup   \n",
       "\n",
       "  last_new_job  \n",
       "0            1  \n",
       "1           >4  \n",
       "2        never  \n",
       "3        never  \n",
       "4            4  "
      ]
     },
     "execution_count": 96,
     "metadata": {},
     "output_type": "execute_result"
    }
   ],
   "source": [
    "df[['city' , 'gender' , 'relevent_experience' ,'enrolled_university' , 'education_level' , 'major_discipline' , 'experience' , 'company_size' ,'company_type' , 'last_new_job']].head()"
   ]
  },
  {
   "cell_type": "code",
   "execution_count": 97,
   "id": "920cd3cd",
   "metadata": {
    "execution": {
     "iopub.execute_input": "2021-11-13T23:09:06.251612Z",
     "iopub.status.busy": "2021-11-13T23:09:06.250961Z",
     "iopub.status.idle": "2021-11-13T23:09:06.273129Z",
     "shell.execute_reply": "2021-11-13T23:09:06.273662Z",
     "shell.execute_reply.started": "2021-11-13T22:42:41.551464Z"
    },
    "papermill": {
     "duration": 0.138529,
     "end_time": "2021-11-13T23:09:06.273839",
     "exception": false,
     "start_time": "2021-11-13T23:09:06.135310",
     "status": "completed"
    },
    "tags": []
   },
   "outputs": [],
   "source": [
    "df['city'] = df['city'].astype('str')\n",
    "df['target'] = df['target'].astype(int)\n",
    "df['target'] = df['target'].astype('str')"
   ]
  },
  {
   "cell_type": "code",
   "execution_count": 98,
   "id": "9bedee1d",
   "metadata": {
    "execution": {
     "iopub.execute_input": "2021-11-13T23:09:06.504705Z",
     "iopub.status.busy": "2021-11-13T23:09:06.503999Z",
     "iopub.status.idle": "2021-11-13T23:09:06.509899Z",
     "shell.execute_reply": "2021-11-13T23:09:06.510416Z",
     "shell.execute_reply.started": "2021-11-13T22:42:41.900104Z"
    },
    "papermill": {
     "duration": 0.123431,
     "end_time": "2021-11-13T23:09:06.510605",
     "exception": false,
     "start_time": "2021-11-13T23:09:06.387174",
     "status": "completed"
    },
    "tags": []
   },
   "outputs": [
    {
     "data": {
      "text/plain": [
       "city                        object\n",
       "city_development_index     float64\n",
       "gender                    category\n",
       "relevent_experience         object\n",
       "enrolled_university         object\n",
       "education_level             object\n",
       "major_discipline            object\n",
       "experience                  object\n",
       "company_size                object\n",
       "company_type                object\n",
       "last_new_job                object\n",
       "training_hours             float64\n",
       "target                      object\n",
       "dtype: object"
      ]
     },
     "execution_count": 98,
     "metadata": {},
     "output_type": "execute_result"
    }
   ],
   "source": [
    "df.dtypes"
   ]
  },
  {
   "cell_type": "code",
   "execution_count": 99,
   "id": "c145729e",
   "metadata": {
    "execution": {
     "iopub.execute_input": "2021-11-13T23:09:06.771264Z",
     "iopub.status.busy": "2021-11-13T23:09:06.770677Z",
     "iopub.status.idle": "2021-11-13T23:09:06.794073Z",
     "shell.execute_reply": "2021-11-13T23:09:06.794607Z",
     "shell.execute_reply.started": "2021-11-13T22:42:42.143506Z"
    },
    "papermill": {
     "duration": 0.165543,
     "end_time": "2021-11-13T23:09:06.794790",
     "exception": false,
     "start_time": "2021-11-13T23:09:06.629247",
     "status": "completed"
    },
    "tags": []
   },
   "outputs": [],
   "source": [
    "df[['city' , 'gender' , 'relevent_experience']] = df[['city' , 'gender' , 'relevent_experience']].apply(LabelEncoder().fit_transform)"
   ]
  },
  {
   "cell_type": "code",
   "execution_count": 100,
   "id": "da5001eb",
   "metadata": {
    "execution": {
     "iopub.execute_input": "2021-11-13T23:09:07.028293Z",
     "iopub.status.busy": "2021-11-13T23:09:07.027691Z",
     "iopub.status.idle": "2021-11-13T23:09:07.044368Z",
     "shell.execute_reply": "2021-11-13T23:09:07.044919Z",
     "shell.execute_reply.started": "2021-11-13T22:42:42.421170Z"
    },
    "papermill": {
     "duration": 0.136821,
     "end_time": "2021-11-13T23:09:07.045098",
     "exception": false,
     "start_time": "2021-11-13T23:09:06.908277",
     "status": "completed"
    },
    "tags": []
   },
   "outputs": [],
   "source": [
    "df[['education_level' , 'major_discipline' , 'experience' ]] = df[['education_level' , 'major_discipline' , 'experience' ]].apply(LabelEncoder().fit_transform)"
   ]
  },
  {
   "cell_type": "code",
   "execution_count": 101,
   "id": "15730e9e",
   "metadata": {
    "execution": {
     "iopub.execute_input": "2021-11-13T23:09:07.282896Z",
     "iopub.status.busy": "2021-11-13T23:09:07.282088Z",
     "iopub.status.idle": "2021-11-13T23:09:07.285103Z",
     "shell.execute_reply": "2021-11-13T23:09:07.285546Z",
     "shell.execute_reply.started": "2021-11-13T22:42:42.896492Z"
    },
    "papermill": {
     "duration": 0.126573,
     "end_time": "2021-11-13T23:09:07.285742",
     "exception": false,
     "start_time": "2021-11-13T23:09:07.159169",
     "status": "completed"
    },
    "tags": []
   },
   "outputs": [
    {
     "data": {
      "text/plain": [
       "50-99        8246\n",
       "100-500      2365\n",
       "10000+       1849\n",
       "10/49        1336\n",
       "1000-4999    1223\n",
       "<10          1198\n",
       "500-999       796\n",
       "5000-9999     512\n",
       "Name: company_size, dtype: int64"
      ]
     },
     "execution_count": 101,
     "metadata": {},
     "output_type": "execute_result"
    }
   ],
   "source": [
    "df['company_size'].value_counts()"
   ]
  },
  {
   "cell_type": "code",
   "execution_count": 102,
   "id": "25f6db8a",
   "metadata": {
    "execution": {
     "iopub.execute_input": "2021-11-13T23:09:07.515215Z",
     "iopub.status.busy": "2021-11-13T23:09:07.514629Z",
     "iopub.status.idle": "2021-11-13T23:09:07.529167Z",
     "shell.execute_reply": "2021-11-13T23:09:07.528705Z",
     "shell.execute_reply.started": "2021-11-13T22:42:43.307597Z"
    },
    "papermill": {
     "duration": 0.130356,
     "end_time": "2021-11-13T23:09:07.529305",
     "exception": false,
     "start_time": "2021-11-13T23:09:07.398949",
     "status": "completed"
    },
    "tags": []
   },
   "outputs": [
    {
     "data": {
      "text/html": [
       "<div>\n",
       "<style scoped>\n",
       "    .dataframe tbody tr th:only-of-type {\n",
       "        vertical-align: middle;\n",
       "    }\n",
       "\n",
       "    .dataframe tbody tr th {\n",
       "        vertical-align: top;\n",
       "    }\n",
       "\n",
       "    .dataframe thead th {\n",
       "        text-align: right;\n",
       "    }\n",
       "</style>\n",
       "<table border=\"1\" class=\"dataframe\">\n",
       "  <thead>\n",
       "    <tr style=\"text-align: right;\">\n",
       "      <th></th>\n",
       "      <th>city</th>\n",
       "      <th>city_development_index</th>\n",
       "      <th>gender</th>\n",
       "      <th>relevent_experience</th>\n",
       "      <th>enrolled_university</th>\n",
       "      <th>education_level</th>\n",
       "      <th>major_discipline</th>\n",
       "      <th>experience</th>\n",
       "      <th>company_size</th>\n",
       "      <th>company_type</th>\n",
       "      <th>last_new_job</th>\n",
       "      <th>training_hours</th>\n",
       "      <th>target</th>\n",
       "    </tr>\n",
       "  </thead>\n",
       "  <tbody>\n",
       "    <tr>\n",
       "      <th>0</th>\n",
       "      <td>5</td>\n",
       "      <td>0.920</td>\n",
       "      <td>1</td>\n",
       "      <td>0</td>\n",
       "      <td>no_enrollment</td>\n",
       "      <td>0</td>\n",
       "      <td>5</td>\n",
       "      <td>21</td>\n",
       "      <td>50-99</td>\n",
       "      <td>Pvt Ltd</td>\n",
       "      <td>1</td>\n",
       "      <td>36.0</td>\n",
       "      <td>1</td>\n",
       "    </tr>\n",
       "    <tr>\n",
       "      <th>1</th>\n",
       "      <td>73</td>\n",
       "      <td>0.776</td>\n",
       "      <td>1</td>\n",
       "      <td>1</td>\n",
       "      <td>no_enrollment</td>\n",
       "      <td>0</td>\n",
       "      <td>5</td>\n",
       "      <td>6</td>\n",
       "      <td>50-99</td>\n",
       "      <td>Pvt Ltd</td>\n",
       "      <td>&gt;4</td>\n",
       "      <td>47.0</td>\n",
       "      <td>0</td>\n",
       "    </tr>\n",
       "    <tr>\n",
       "      <th>2</th>\n",
       "      <td>61</td>\n",
       "      <td>0.624</td>\n",
       "      <td>1</td>\n",
       "      <td>1</td>\n",
       "      <td>Full time course</td>\n",
       "      <td>0</td>\n",
       "      <td>5</td>\n",
       "      <td>15</td>\n",
       "      <td>50-99</td>\n",
       "      <td>Pvt Ltd</td>\n",
       "      <td>never</td>\n",
       "      <td>83.0</td>\n",
       "      <td>0</td>\n",
       "    </tr>\n",
       "    <tr>\n",
       "      <th>3</th>\n",
       "      <td>14</td>\n",
       "      <td>0.789</td>\n",
       "      <td>1</td>\n",
       "      <td>1</td>\n",
       "      <td>no_enrollment</td>\n",
       "      <td>0</td>\n",
       "      <td>1</td>\n",
       "      <td>20</td>\n",
       "      <td>50-99</td>\n",
       "      <td>Pvt Ltd</td>\n",
       "      <td>never</td>\n",
       "      <td>52.0</td>\n",
       "      <td>1</td>\n",
       "    </tr>\n",
       "    <tr>\n",
       "      <th>4</th>\n",
       "      <td>48</td>\n",
       "      <td>0.767</td>\n",
       "      <td>1</td>\n",
       "      <td>0</td>\n",
       "      <td>no_enrollment</td>\n",
       "      <td>2</td>\n",
       "      <td>5</td>\n",
       "      <td>21</td>\n",
       "      <td>50-99</td>\n",
       "      <td>Funded Startup</td>\n",
       "      <td>4</td>\n",
       "      <td>8.0</td>\n",
       "      <td>0</td>\n",
       "    </tr>\n",
       "  </tbody>\n",
       "</table>\n",
       "</div>"
      ],
      "text/plain": [
       "   city  city_development_index  gender  relevent_experience  \\\n",
       "0     5                   0.920       1                    0   \n",
       "1    73                   0.776       1                    1   \n",
       "2    61                   0.624       1                    1   \n",
       "3    14                   0.789       1                    1   \n",
       "4    48                   0.767       1                    0   \n",
       "\n",
       "  enrolled_university  education_level  major_discipline  experience  \\\n",
       "0       no_enrollment                0                 5          21   \n",
       "1       no_enrollment                0                 5           6   \n",
       "2    Full time course                0                 5          15   \n",
       "3       no_enrollment                0                 1          20   \n",
       "4       no_enrollment                2                 5          21   \n",
       "\n",
       "  company_size    company_type last_new_job  training_hours target  \n",
       "0        50-99         Pvt Ltd            1            36.0      1  \n",
       "1        50-99         Pvt Ltd           >4            47.0      0  \n",
       "2        50-99         Pvt Ltd        never            83.0      0  \n",
       "3        50-99         Pvt Ltd        never            52.0      1  \n",
       "4        50-99  Funded Startup            4             8.0      0  "
      ]
     },
     "execution_count": 102,
     "metadata": {},
     "output_type": "execute_result"
    }
   ],
   "source": [
    "df.head()"
   ]
  },
  {
   "cell_type": "code",
   "execution_count": 103,
   "id": "933d8864",
   "metadata": {
    "execution": {
     "iopub.execute_input": "2021-11-13T23:09:07.764544Z",
     "iopub.status.busy": "2021-11-13T23:09:07.763944Z",
     "iopub.status.idle": "2021-11-13T23:09:07.770270Z",
     "shell.execute_reply": "2021-11-13T23:09:07.770715Z",
     "shell.execute_reply.started": "2021-11-13T22:42:43.626312Z"
    },
    "papermill": {
     "duration": 0.126711,
     "end_time": "2021-11-13T23:09:07.770890",
     "exception": false,
     "start_time": "2021-11-13T23:09:07.644179",
     "status": "completed"
    },
    "tags": []
   },
   "outputs": [
    {
     "data": {
      "text/plain": [
       "company_size    object\n",
       "last_new_job    object\n",
       "dtype: object"
      ]
     },
     "execution_count": 103,
     "metadata": {},
     "output_type": "execute_result"
    }
   ],
   "source": [
    "df[['company_size' , 'last_new_job']].dtypes"
   ]
  },
  {
   "cell_type": "code",
   "execution_count": 104,
   "id": "6ae9e136",
   "metadata": {
    "execution": {
     "iopub.execute_input": "2021-11-13T23:09:08.008124Z",
     "iopub.status.busy": "2021-11-13T23:09:08.007443Z",
     "iopub.status.idle": "2021-11-13T23:09:08.013374Z",
     "shell.execute_reply": "2021-11-13T23:09:08.013882Z",
     "shell.execute_reply.started": "2021-11-13T22:42:43.834012Z"
    },
    "papermill": {
     "duration": 0.12892,
     "end_time": "2021-11-13T23:09:08.014071",
     "exception": false,
     "start_time": "2021-11-13T23:09:07.885151",
     "status": "completed"
    },
    "tags": []
   },
   "outputs": [],
   "source": [
    "df['company_size'] = le.fit_transform(df.company_size.values)\n",
    "df['enrolled_university'] = le.fit_transform(df.company_size.values)\n",
    "df['company_type'] = le.fit_transform(df.company_size.values)"
   ]
  },
  {
   "cell_type": "code",
   "execution_count": 105,
   "id": "ff9bbc34",
   "metadata": {
    "execution": {
     "iopub.execute_input": "2021-11-13T23:09:08.254620Z",
     "iopub.status.busy": "2021-11-13T23:09:08.253978Z",
     "iopub.status.idle": "2021-11-13T23:09:08.262093Z",
     "shell.execute_reply": "2021-11-13T23:09:08.262552Z",
     "shell.execute_reply.started": "2021-11-13T22:42:44.178084Z"
    },
    "papermill": {
     "duration": 0.128218,
     "end_time": "2021-11-13T23:09:08.262756",
     "exception": false,
     "start_time": "2021-11-13T23:09:08.134538",
     "status": "completed"
    },
    "tags": []
   },
   "outputs": [],
   "source": [
    "df['last_new_job'] = le.fit_transform(df['last_new_job'].astype(str))"
   ]
  },
  {
   "cell_type": "code",
   "execution_count": 106,
   "id": "eeeb0404",
   "metadata": {
    "execution": {
     "iopub.execute_input": "2021-11-13T23:09:08.496840Z",
     "iopub.status.busy": "2021-11-13T23:09:08.496143Z",
     "iopub.status.idle": "2021-11-13T23:09:08.501301Z",
     "shell.execute_reply": "2021-11-13T23:09:08.501800Z",
     "shell.execute_reply.started": "2021-11-13T22:42:44.442840Z"
    },
    "papermill": {
     "duration": 0.123647,
     "end_time": "2021-11-13T23:09:08.501969",
     "exception": false,
     "start_time": "2021-11-13T23:09:08.378322",
     "status": "completed"
    },
    "tags": []
   },
   "outputs": [
    {
     "data": {
      "text/plain": [
       "0    0\n",
       "1    4\n",
       "2    5\n",
       "3    5\n",
       "4    3\n",
       "Name: last_new_job, dtype: int64"
      ]
     },
     "execution_count": 106,
     "metadata": {},
     "output_type": "execute_result"
    }
   ],
   "source": [
    "df['last_new_job'].head()"
   ]
  },
  {
   "cell_type": "code",
   "execution_count": 107,
   "id": "87f648c1",
   "metadata": {
    "execution": {
     "iopub.execute_input": "2021-11-13T23:09:08.734726Z",
     "iopub.status.busy": "2021-11-13T23:09:08.734086Z",
     "iopub.status.idle": "2021-11-13T23:09:08.739991Z",
     "shell.execute_reply": "2021-11-13T23:09:08.740421Z",
     "shell.execute_reply.started": "2021-11-13T22:42:44.665099Z"
    },
    "papermill": {
     "duration": 0.123094,
     "end_time": "2021-11-13T23:09:08.740598",
     "exception": false,
     "start_time": "2021-11-13T23:09:08.617504",
     "status": "completed"
    },
    "tags": []
   },
   "outputs": [
    {
     "data": {
      "text/plain": [
       "0    7740\n",
       "4    3029\n",
       "1    2651\n",
       "5    2228\n",
       "3     943\n",
       "2     934\n",
       "Name: last_new_job, dtype: int64"
      ]
     },
     "execution_count": 107,
     "metadata": {},
     "output_type": "execute_result"
    }
   ],
   "source": [
    "df['last_new_job'].value_counts()"
   ]
  },
  {
   "cell_type": "code",
   "execution_count": 108,
   "id": "31dc1507",
   "metadata": {
    "execution": {
     "iopub.execute_input": "2021-11-13T23:09:08.976531Z",
     "iopub.status.busy": "2021-11-13T23:09:08.975816Z",
     "iopub.status.idle": "2021-11-13T23:09:08.988144Z",
     "shell.execute_reply": "2021-11-13T23:09:08.988658Z",
     "shell.execute_reply.started": "2021-11-13T22:42:44.860783Z"
    },
    "papermill": {
     "duration": 0.132944,
     "end_time": "2021-11-13T23:09:08.988842",
     "exception": false,
     "start_time": "2021-11-13T23:09:08.855898",
     "status": "completed"
    },
    "tags": []
   },
   "outputs": [
    {
     "data": {
      "text/html": [
       "<div>\n",
       "<style scoped>\n",
       "    .dataframe tbody tr th:only-of-type {\n",
       "        vertical-align: middle;\n",
       "    }\n",
       "\n",
       "    .dataframe tbody tr th {\n",
       "        vertical-align: top;\n",
       "    }\n",
       "\n",
       "    .dataframe thead th {\n",
       "        text-align: right;\n",
       "    }\n",
       "</style>\n",
       "<table border=\"1\" class=\"dataframe\">\n",
       "  <thead>\n",
       "    <tr style=\"text-align: right;\">\n",
       "      <th></th>\n",
       "      <th>city</th>\n",
       "      <th>city_development_index</th>\n",
       "      <th>gender</th>\n",
       "      <th>relevent_experience</th>\n",
       "      <th>enrolled_university</th>\n",
       "      <th>education_level</th>\n",
       "      <th>major_discipline</th>\n",
       "      <th>experience</th>\n",
       "      <th>company_size</th>\n",
       "      <th>company_type</th>\n",
       "      <th>last_new_job</th>\n",
       "      <th>training_hours</th>\n",
       "      <th>target</th>\n",
       "    </tr>\n",
       "  </thead>\n",
       "  <tbody>\n",
       "    <tr>\n",
       "      <th>0</th>\n",
       "      <td>5</td>\n",
       "      <td>0.920</td>\n",
       "      <td>1</td>\n",
       "      <td>0</td>\n",
       "      <td>4</td>\n",
       "      <td>0</td>\n",
       "      <td>5</td>\n",
       "      <td>21</td>\n",
       "      <td>4</td>\n",
       "      <td>4</td>\n",
       "      <td>0</td>\n",
       "      <td>36.0</td>\n",
       "      <td>1</td>\n",
       "    </tr>\n",
       "    <tr>\n",
       "      <th>1</th>\n",
       "      <td>73</td>\n",
       "      <td>0.776</td>\n",
       "      <td>1</td>\n",
       "      <td>1</td>\n",
       "      <td>4</td>\n",
       "      <td>0</td>\n",
       "      <td>5</td>\n",
       "      <td>6</td>\n",
       "      <td>4</td>\n",
       "      <td>4</td>\n",
       "      <td>4</td>\n",
       "      <td>47.0</td>\n",
       "      <td>0</td>\n",
       "    </tr>\n",
       "    <tr>\n",
       "      <th>2</th>\n",
       "      <td>61</td>\n",
       "      <td>0.624</td>\n",
       "      <td>1</td>\n",
       "      <td>1</td>\n",
       "      <td>4</td>\n",
       "      <td>0</td>\n",
       "      <td>5</td>\n",
       "      <td>15</td>\n",
       "      <td>4</td>\n",
       "      <td>4</td>\n",
       "      <td>5</td>\n",
       "      <td>83.0</td>\n",
       "      <td>0</td>\n",
       "    </tr>\n",
       "    <tr>\n",
       "      <th>3</th>\n",
       "      <td>14</td>\n",
       "      <td>0.789</td>\n",
       "      <td>1</td>\n",
       "      <td>1</td>\n",
       "      <td>4</td>\n",
       "      <td>0</td>\n",
       "      <td>1</td>\n",
       "      <td>20</td>\n",
       "      <td>4</td>\n",
       "      <td>4</td>\n",
       "      <td>5</td>\n",
       "      <td>52.0</td>\n",
       "      <td>1</td>\n",
       "    </tr>\n",
       "    <tr>\n",
       "      <th>4</th>\n",
       "      <td>48</td>\n",
       "      <td>0.767</td>\n",
       "      <td>1</td>\n",
       "      <td>0</td>\n",
       "      <td>4</td>\n",
       "      <td>2</td>\n",
       "      <td>5</td>\n",
       "      <td>21</td>\n",
       "      <td>4</td>\n",
       "      <td>4</td>\n",
       "      <td>3</td>\n",
       "      <td>8.0</td>\n",
       "      <td>0</td>\n",
       "    </tr>\n",
       "  </tbody>\n",
       "</table>\n",
       "</div>"
      ],
      "text/plain": [
       "   city  city_development_index  gender  relevent_experience  \\\n",
       "0     5                   0.920       1                    0   \n",
       "1    73                   0.776       1                    1   \n",
       "2    61                   0.624       1                    1   \n",
       "3    14                   0.789       1                    1   \n",
       "4    48                   0.767       1                    0   \n",
       "\n",
       "   enrolled_university  education_level  major_discipline  experience  \\\n",
       "0                    4                0                 5          21   \n",
       "1                    4                0                 5           6   \n",
       "2                    4                0                 5          15   \n",
       "3                    4                0                 1          20   \n",
       "4                    4                2                 5          21   \n",
       "\n",
       "   company_size  company_type  last_new_job  training_hours target  \n",
       "0             4             4             0            36.0      1  \n",
       "1             4             4             4            47.0      0  \n",
       "2             4             4             5            83.0      0  \n",
       "3             4             4             5            52.0      1  \n",
       "4             4             4             3             8.0      0  "
      ]
     },
     "execution_count": 108,
     "metadata": {},
     "output_type": "execute_result"
    }
   ],
   "source": [
    "df.head()"
   ]
  },
  {
   "cell_type": "markdown",
   "id": "87f1c8db",
   "metadata": {
    "papermill": {
     "duration": 0.114906,
     "end_time": "2021-11-13T23:09:09.220988",
     "exception": false,
     "start_time": "2021-11-13T23:09:09.106082",
     "status": "completed"
    },
    "tags": []
   },
   "source": [
    "## Normalization"
   ]
  },
  {
   "cell_type": "code",
   "execution_count": 109,
   "id": "c95c49ce",
   "metadata": {
    "execution": {
     "iopub.execute_input": "2021-11-13T23:09:09.457068Z",
     "iopub.status.busy": "2021-11-13T23:09:09.456408Z",
     "iopub.status.idle": "2021-11-13T23:09:09.474281Z",
     "shell.execute_reply": "2021-11-13T23:09:09.474772Z",
     "shell.execute_reply.started": "2021-11-13T22:42:45.562433Z"
    },
    "papermill": {
     "duration": 0.136863,
     "end_time": "2021-11-13T23:09:09.474947",
     "exception": false,
     "start_time": "2021-11-13T23:09:09.338084",
     "status": "completed"
    },
    "tags": []
   },
   "outputs": [
    {
     "data": {
      "text/html": [
       "<div>\n",
       "<style scoped>\n",
       "    .dataframe tbody tr th:only-of-type {\n",
       "        vertical-align: middle;\n",
       "    }\n",
       "\n",
       "    .dataframe tbody tr th {\n",
       "        vertical-align: top;\n",
       "    }\n",
       "\n",
       "    .dataframe thead th {\n",
       "        text-align: right;\n",
       "    }\n",
       "</style>\n",
       "<table border=\"1\" class=\"dataframe\">\n",
       "  <thead>\n",
       "    <tr style=\"text-align: right;\">\n",
       "      <th></th>\n",
       "      <th>city_development_index</th>\n",
       "      <th>training_hours</th>\n",
       "    </tr>\n",
       "  </thead>\n",
       "  <tbody>\n",
       "    <tr>\n",
       "      <th>count</th>\n",
       "      <td>17525.000000</td>\n",
       "      <td>17525.000000</td>\n",
       "    </tr>\n",
       "    <tr>\n",
       "      <th>mean</th>\n",
       "      <td>0.830111</td>\n",
       "      <td>51.733752</td>\n",
       "    </tr>\n",
       "    <tr>\n",
       "      <th>std</th>\n",
       "      <td>0.121786</td>\n",
       "      <td>37.520617</td>\n",
       "    </tr>\n",
       "    <tr>\n",
       "      <th>min</th>\n",
       "      <td>0.512000</td>\n",
       "      <td>1.000000</td>\n",
       "    </tr>\n",
       "    <tr>\n",
       "      <th>25%</th>\n",
       "      <td>0.742000</td>\n",
       "      <td>22.000000</td>\n",
       "    </tr>\n",
       "    <tr>\n",
       "      <th>50%</th>\n",
       "      <td>0.910000</td>\n",
       "      <td>43.000000</td>\n",
       "    </tr>\n",
       "    <tr>\n",
       "      <th>75%</th>\n",
       "      <td>0.920000</td>\n",
       "      <td>76.000000</td>\n",
       "    </tr>\n",
       "    <tr>\n",
       "      <th>max</th>\n",
       "      <td>0.949000</td>\n",
       "      <td>156.000000</td>\n",
       "    </tr>\n",
       "  </tbody>\n",
       "</table>\n",
       "</div>"
      ],
      "text/plain": [
       "       city_development_index  training_hours\n",
       "count            17525.000000    17525.000000\n",
       "mean                 0.830111       51.733752\n",
       "std                  0.121786       37.520617\n",
       "min                  0.512000        1.000000\n",
       "25%                  0.742000       22.000000\n",
       "50%                  0.910000       43.000000\n",
       "75%                  0.920000       76.000000\n",
       "max                  0.949000      156.000000"
      ]
     },
     "execution_count": 109,
     "metadata": {},
     "output_type": "execute_result"
    }
   ],
   "source": [
    "df[['city_development_index' , 'training_hours']].describe()"
   ]
  },
  {
   "cell_type": "code",
   "execution_count": 110,
   "id": "8237ffa5",
   "metadata": {
    "execution": {
     "iopub.execute_input": "2021-11-13T23:09:09.714041Z",
     "iopub.status.busy": "2021-11-13T23:09:09.713400Z",
     "iopub.status.idle": "2021-11-13T23:09:09.720649Z",
     "shell.execute_reply": "2021-11-13T23:09:09.721080Z",
     "shell.execute_reply.started": "2021-11-13T22:42:45.719128Z"
    },
    "papermill": {
     "duration": 0.127184,
     "end_time": "2021-11-13T23:09:09.721253",
     "exception": false,
     "start_time": "2021-11-13T23:09:09.594069",
     "status": "completed"
    },
    "tags": []
   },
   "outputs": [],
   "source": [
    "cols_to_norm = ['city_development_index' , 'training_hours']\n",
    "df[cols_to_norm] = df[cols_to_norm].apply(lambda x: (x - x.min()) / (x.max() - x.min()))"
   ]
  },
  {
   "cell_type": "markdown",
   "id": "7ace226a",
   "metadata": {
    "papermill": {
     "duration": 0.114441,
     "end_time": "2021-11-13T23:09:09.950819",
     "exception": false,
     "start_time": "2021-11-13T23:09:09.836378",
     "status": "completed"
    },
    "tags": []
   },
   "source": [
    "## Modeling (Before Balance Data)"
   ]
  },
  {
   "cell_type": "code",
   "execution_count": 111,
   "id": "bcbd66fe",
   "metadata": {
    "execution": {
     "iopub.execute_input": "2021-11-13T23:09:10.188886Z",
     "iopub.status.busy": "2021-11-13T23:09:10.188243Z",
     "iopub.status.idle": "2021-11-13T23:09:10.211480Z",
     "shell.execute_reply": "2021-11-13T23:09:10.212074Z",
     "shell.execute_reply.started": "2021-11-13T22:47:25.067111Z"
    },
    "papermill": {
     "duration": 0.145271,
     "end_time": "2021-11-13T23:09:10.212258",
     "exception": false,
     "start_time": "2021-11-13T23:09:10.066987",
     "status": "completed"
    },
    "tags": []
   },
   "outputs": [],
   "source": [
    "df_test = pd.read_csv(\"../input/hr-analytics-job-change-of-data-scientists/aug_test.csv\")"
   ]
  },
  {
   "cell_type": "code",
   "execution_count": 112,
   "id": "ed4096fe",
   "metadata": {
    "execution": {
     "iopub.execute_input": "2021-11-13T23:09:10.485298Z",
     "iopub.status.busy": "2021-11-13T23:09:10.484605Z",
     "iopub.status.idle": "2021-11-13T23:09:10.638176Z",
     "shell.execute_reply": "2021-11-13T23:09:10.637662Z",
     "shell.execute_reply.started": "2021-11-13T23:05:12.990057Z"
    },
    "papermill": {
     "duration": 0.309295,
     "end_time": "2021-11-13T23:09:10.638313",
     "exception": false,
     "start_time": "2021-11-13T23:09:10.329018",
     "status": "completed"
    },
    "tags": []
   },
   "outputs": [
    {
     "data": {
      "image/png": "[encoded data removed]",
      "text/plain": [
       "<Figure size 360x360 with 1 Axes>"
      ]
     },
     "metadata": {
      "needs_background": "light"
     },
     "output_type": "display_data"
    }
   ],
   "source": [
    "countplt, ax = plt.subplots(figsize = (5,5))\n",
    "ax =sns.countplot(x='target',data=df,  palette='pastel')"
   ]
  },
  {
   "cell_type": "code",
   "execution_count": 113,
   "id": "83dd1e9d",
   "metadata": {
    "execution": {
     "iopub.execute_input": "2021-11-13T23:09:10.877067Z",
     "iopub.status.busy": "2021-11-13T23:09:10.876401Z",
     "iopub.status.idle": "2021-11-13T23:09:10.880173Z",
     "shell.execute_reply": "2021-11-13T23:09:10.880757Z",
     "shell.execute_reply.started": "2021-11-13T22:44:52.098879Z"
    },
    "papermill": {
     "duration": 0.125468,
     "end_time": "2021-11-13T23:09:10.880922",
     "exception": false,
     "start_time": "2021-11-13T23:09:10.755454",
     "status": "completed"
    },
    "tags": []
   },
   "outputs": [],
   "source": [
    "X1 = df.drop(columns=['target'] , axis=1 )\n",
    "y1 = df['target']"
   ]
  },
  {
   "cell_type": "code",
   "execution_count": 114,
   "id": "299cd90a",
   "metadata": {
    "execution": {
     "iopub.execute_input": "2021-11-13T23:09:11.119684Z",
     "iopub.status.busy": "2021-11-13T23:09:11.119036Z",
     "iopub.status.idle": "2021-11-13T23:09:11.129015Z",
     "shell.execute_reply": "2021-11-13T23:09:11.129543Z",
     "shell.execute_reply.started": "2021-11-13T22:45:04.077192Z"
    },
    "papermill": {
     "duration": 0.131032,
     "end_time": "2021-11-13T23:09:11.129728",
     "exception": false,
     "start_time": "2021-11-13T23:09:10.998696",
     "status": "completed"
    },
    "tags": []
   },
   "outputs": [],
   "source": [
    "X_train,X_test,y_train,y_test = train_test_split(X1,y1,test_size=0.25,random_state=0)"
   ]
  },
  {
   "cell_type": "code",
   "execution_count": 115,
   "id": "e654534e",
   "metadata": {
    "execution": {
     "iopub.execute_input": "2021-11-13T23:09:11.364793Z",
     "iopub.status.busy": "2021-11-13T23:09:11.364130Z",
     "iopub.status.idle": "2021-11-13T23:09:11.369128Z",
     "shell.execute_reply": "2021-11-13T23:09:11.369712Z",
     "shell.execute_reply.started": "2021-11-13T22:52:16.555031Z"
    },
    "papermill": {
     "duration": 0.124081,
     "end_time": "2021-11-13T23:09:11.369881",
     "exception": false,
     "start_time": "2021-11-13T23:09:11.245800",
     "status": "completed"
    },
    "tags": []
   },
   "outputs": [],
   "source": [
    "from sklearn.neighbors import KNeighborsClassifier\n",
    "from sklearn.ensemble import GradientBoostingClassifier\n",
    "classifiers = ['LinearSVM', 'RadialSVM', \n",
    "               'Logistic',  'RandomForest', \n",
    "               'KNeighbors','DecisionTree', \n",
    "               'GradientBoosting']\n",
    "\n",
    "models = [svm.SVC(kernel='linear'),\n",
    "          svm.SVC(kernel='rbf'),\n",
    "          LogisticRegression(max_iter = 1000),\n",
    "          RandomForestClassifier(n_estimators=200, random_state=0),\n",
    "          DecisionTreeClassifier(random_state=0),\n",
    "          KNeighborsClassifier(),\n",
    "          GradientBoostingClassifier(random_state=0)]"
   ]
  },
  {
   "cell_type": "code",
   "execution_count": 116,
   "id": "4d707b1b",
   "metadata": {
    "execution": {
     "iopub.execute_input": "2021-11-13T23:09:11.609833Z",
     "iopub.status.busy": "2021-11-13T23:09:11.608802Z",
     "iopub.status.idle": "2021-11-13T23:09:11.614708Z",
     "shell.execute_reply": "2021-11-13T23:09:11.615390Z",
     "shell.execute_reply.started": "2021-11-13T22:52:43.470852Z"
    },
    "papermill": {
     "duration": 0.129105,
     "end_time": "2021-11-13T23:09:11.615645",
     "exception": false,
     "start_time": "2021-11-13T23:09:11.486540",
     "status": "completed"
    },
    "tags": []
   },
   "outputs": [],
   "source": [
    "from sklearn.model_selection import train_test_split\n",
    "def split(df,label):\n",
    "    X_tr, X_te, Y_tr, Y_te = train_test_split(df, label, test_size=0.25, random_state=42)\n",
    "    return X_tr, X_te, Y_tr, Y_te\n",
    "\n",
    "def acc_score(df,label):\n",
    "    Score = pd.DataFrame({\"Classifier\":classifiers})\n",
    "    j = 0\n",
    "    acc = []\n",
    "    X_train,X_test,Y_train,Y_test = split(df,label)\n",
    "    for i in models:\n",
    "        model = i\n",
    "        model.fit(X_train,Y_train)\n",
    "        predictions = model.predict(X_test)\n",
    "        acc.append(accuracy_score(Y_test,predictions))\n",
    "        j = j+1     \n",
    "    Score[\"Accuracy\"] = acc\n",
    "    Score.sort_values(by=\"Accuracy\", ascending=False,inplace = True)\n",
    "    Score.reset_index(drop=True, inplace=True)\n",
    "    return Score"
   ]
  },
  {
   "cell_type": "code",
   "execution_count": 117,
   "id": "5cb99c70",
   "metadata": {
    "execution": {
     "iopub.execute_input": "2021-11-13T23:09:11.855446Z",
     "iopub.status.busy": "2021-11-13T23:09:11.854834Z",
     "iopub.status.idle": "2021-11-13T23:09:11.859056Z",
     "shell.execute_reply": "2021-11-13T23:09:11.859669Z",
     "shell.execute_reply.started": "2021-11-13T22:53:08.180310Z"
    },
    "papermill": {
     "duration": 0.124138,
     "end_time": "2021-11-13T23:09:11.859842",
     "exception": false,
     "start_time": "2021-11-13T23:09:11.735704",
     "status": "completed"
    },
    "tags": []
   },
   "outputs": [],
   "source": [
    "new_data = df[[\"training_hours\",\"city_development_index\"]]"
   ]
  },
  {
   "cell_type": "code",
   "execution_count": 118,
   "id": "eb7a7a48",
   "metadata": {
    "execution": {
     "iopub.execute_input": "2021-11-13T23:09:12.097371Z",
     "iopub.status.busy": "2021-11-13T23:09:12.096728Z",
     "iopub.status.idle": "2021-11-13T23:09:24.111834Z",
     "shell.execute_reply": "2021-11-13T23:09:24.112285Z",
     "shell.execute_reply.started": "2021-11-13T22:53:42.079400Z"
    },
    "papermill": {
     "duration": 12.135626,
     "end_time": "2021-11-13T23:09:24.112455",
     "exception": false,
     "start_time": "2021-11-13T23:09:11.976829",
     "status": "completed"
    },
    "tags": []
   },
   "outputs": [
    {
     "data": {
      "text/html": [
       "<div>\n",
       "<style scoped>\n",
       "    .dataframe tbody tr th:only-of-type {\n",
       "        vertical-align: middle;\n",
       "    }\n",
       "\n",
       "    .dataframe tbody tr th {\n",
       "        vertical-align: top;\n",
       "    }\n",
       "\n",
       "    .dataframe thead th {\n",
       "        text-align: right;\n",
       "    }\n",
       "</style>\n",
       "<table border=\"1\" class=\"dataframe\">\n",
       "  <thead>\n",
       "    <tr style=\"text-align: right;\">\n",
       "      <th></th>\n",
       "      <th>Classifier</th>\n",
       "      <th>Accuracy</th>\n",
       "    </tr>\n",
       "  </thead>\n",
       "  <tbody>\n",
       "    <tr>\n",
       "      <th>0</th>\n",
       "      <td>Logistic</td>\n",
       "      <td>0.784117</td>\n",
       "    </tr>\n",
       "    <tr>\n",
       "      <th>1</th>\n",
       "      <td>GradientBoosting</td>\n",
       "      <td>0.781607</td>\n",
       "    </tr>\n",
       "    <tr>\n",
       "      <th>2</th>\n",
       "      <td>RadialSVM</td>\n",
       "      <td>0.780922</td>\n",
       "    </tr>\n",
       "    <tr>\n",
       "      <th>3</th>\n",
       "      <td>LinearSVM</td>\n",
       "      <td>0.753994</td>\n",
       "    </tr>\n",
       "    <tr>\n",
       "      <th>4</th>\n",
       "      <td>RandomForest</td>\n",
       "      <td>0.744637</td>\n",
       "    </tr>\n",
       "    <tr>\n",
       "      <th>5</th>\n",
       "      <td>DecisionTree</td>\n",
       "      <td>0.743953</td>\n",
       "    </tr>\n",
       "    <tr>\n",
       "      <th>6</th>\n",
       "      <td>KNeighbors</td>\n",
       "      <td>0.741442</td>\n",
       "    </tr>\n",
       "  </tbody>\n",
       "</table>\n",
       "</div>"
      ],
      "text/plain": [
       "         Classifier  Accuracy\n",
       "0          Logistic  0.784117\n",
       "1  GradientBoosting  0.781607\n",
       "2         RadialSVM  0.780922\n",
       "3         LinearSVM  0.753994\n",
       "4      RandomForest  0.744637\n",
       "5      DecisionTree  0.743953\n",
       "6        KNeighbors  0.741442"
      ]
     },
     "execution_count": 118,
     "metadata": {},
     "output_type": "execute_result"
    }
   ],
   "source": [
    "pred = df['target']\n",
    "acc_score(new_data,pred)"
   ]
  },
  {
   "cell_type": "markdown",
   "id": "702fee8e",
   "metadata": {
    "papermill": {
     "duration": 0.115602,
     "end_time": "2021-11-13T23:09:24.346283",
     "exception": false,
     "start_time": "2021-11-13T23:09:24.230681",
     "status": "completed"
    },
    "tags": []
   },
   "source": [
    "## Modeling (After Balance Data)"
   ]
  },
  {
   "cell_type": "code",
   "execution_count": 119,
   "id": "e3efaead",
   "metadata": {
    "execution": {
     "iopub.execute_input": "2021-11-13T23:09:24.584685Z",
     "iopub.status.busy": "2021-11-13T23:09:24.583884Z",
     "iopub.status.idle": "2021-11-13T23:09:24.586496Z",
     "shell.execute_reply": "2021-11-13T23:09:24.587108Z",
     "shell.execute_reply.started": "2021-11-13T23:02:25.128816Z"
    },
    "papermill": {
     "duration": 0.124982,
     "end_time": "2021-11-13T23:09:24.587279",
     "exception": false,
     "start_time": "2021-11-13T23:09:24.462297",
     "status": "completed"
    },
    "tags": []
   },
   "outputs": [],
   "source": [
    "X2 = df.drop(columns=['target'] , axis=1 )\n",
    "y2 = df['target']"
   ]
  },
  {
   "cell_type": "code",
   "execution_count": 120,
   "id": "07cae168",
   "metadata": {
    "execution": {
     "iopub.execute_input": "2021-11-13T23:09:24.823125Z",
     "iopub.status.busy": "2021-11-13T23:09:24.822218Z",
     "iopub.status.idle": "2021-11-13T23:09:24.830286Z",
     "shell.execute_reply": "2021-11-13T23:09:24.830736Z",
     "shell.execute_reply.started": "2021-11-13T23:02:25.794032Z"
    },
    "papermill": {
     "duration": 0.12789,
     "end_time": "2021-11-13T23:09:24.830914",
     "exception": false,
     "start_time": "2021-11-13T23:09:24.703024",
     "status": "completed"
    },
    "tags": []
   },
   "outputs": [],
   "source": [
    "X2_train,X2_test,y2_train,y2_test = train_test_split(X2,y2,test_size=0.25,random_state=0)"
   ]
  },
  {
   "cell_type": "code",
   "execution_count": 121,
   "id": "196b7f2c",
   "metadata": {
    "execution": {
     "iopub.execute_input": "2021-11-13T23:09:25.069676Z",
     "iopub.status.busy": "2021-11-13T23:09:25.068994Z",
     "iopub.status.idle": "2021-11-13T23:09:25.370864Z",
     "shell.execute_reply": "2021-11-13T23:09:25.370358Z",
     "shell.execute_reply.started": "2021-11-13T23:03:38.599807Z"
    },
    "papermill": {
     "duration": 0.424141,
     "end_time": "2021-11-13T23:09:25.371007",
     "exception": false,
     "start_time": "2021-11-13T23:09:24.946866",
     "status": "completed"
    },
    "tags": []
   },
   "outputs": [
    {
     "name": "stdout",
     "output_type": "stream",
     "text": [
      "Counter({'0': 13123, '1': 4402})\n",
      "Counter({'1': 13123, '0': 13123})\n"
     ]
    }
   ],
   "source": [
    "from collections import Counter\n",
    "from sklearn.datasets import make_classification\n",
    "from imblearn.over_sampling import SMOTE\n",
    "\n",
    "X2 = df.drop(columns=['target'] , axis=1 )\n",
    "y2 = df['target']\n",
    "\n",
    "# summarize class distribution\n",
    "counter = Counter(y2)\n",
    "print(counter)\n",
    "\n",
    "\n",
    "# transform the dataset\n",
    "oversample = SMOTE()\n",
    "X2, y2 = oversample.fit_resample(X2, y2)\n",
    "\n",
    "# summarize the new class distribution\n",
    "counter = Counter(y2)\n",
    "print(counter)"
   ]
  },
  {
   "cell_type": "code",
   "execution_count": 122,
   "id": "c3d616be",
   "metadata": {
    "execution": {
     "iopub.execute_input": "2021-11-13T23:09:25.615843Z",
     "iopub.status.busy": "2021-11-13T23:09:25.615172Z",
     "iopub.status.idle": "2021-11-13T23:09:25.617436Z",
     "shell.execute_reply": "2021-11-13T23:09:25.616901Z",
     "shell.execute_reply.started": "2021-11-13T23:04:16.975080Z"
    },
    "papermill": {
     "duration": 0.129191,
     "end_time": "2021-11-13T23:09:25.617587",
     "exception": false,
     "start_time": "2021-11-13T23:09:25.488396",
     "status": "completed"
    },
    "tags": []
   },
   "outputs": [],
   "source": [
    "df_New = pd.concat([X2, y2], axis=1)"
   ]
  },
  {
   "cell_type": "code",
   "execution_count": 123,
   "id": "ebdd1b40",
   "metadata": {
    "execution": {
     "iopub.execute_input": "2021-11-13T23:09:25.858951Z",
     "iopub.status.busy": "2021-11-13T23:09:25.858257Z",
     "iopub.status.idle": "2021-11-13T23:09:26.043680Z",
     "shell.execute_reply": "2021-11-13T23:09:26.044230Z",
     "shell.execute_reply.started": "2021-11-13T23:04:56.628595Z"
    },
    "papermill": {
     "duration": 0.309064,
     "end_time": "2021-11-13T23:09:26.044409",
     "exception": false,
     "start_time": "2021-11-13T23:09:25.735345",
     "status": "completed"
    },
    "tags": []
   },
   "outputs": [
    {
     "data": {
      "image/png": "[encoded data removed]",
      "text/plain": [
       "<Figure size 360x360 with 1 Axes>"
      ]
     },
     "metadata": {
      "needs_background": "light"
     },
     "output_type": "display_data"
    }
   ],
   "source": [
    "countplt, ax = plt.subplots(figsize = (5,5))\n",
    "ax =sns.countplot(x='target',data=df_New,  palette='pastel')"
   ]
  },
  {
   "cell_type": "code",
   "execution_count": 124,
   "id": "34601a05",
   "metadata": {
    "execution": {
     "iopub.execute_input": "2021-11-13T23:09:26.284037Z",
     "iopub.status.busy": "2021-11-13T23:09:26.283333Z",
     "iopub.status.idle": "2021-11-13T23:09:26.290109Z",
     "shell.execute_reply": "2021-11-13T23:09:26.290701Z",
     "shell.execute_reply.started": "2021-11-13T23:06:01.638010Z"
    },
    "papermill": {
     "duration": 0.12848,
     "end_time": "2021-11-13T23:09:26.290874",
     "exception": false,
     "start_time": "2021-11-13T23:09:26.162394",
     "status": "completed"
    },
    "tags": []
   },
   "outputs": [],
   "source": [
    "from sklearn.model_selection import train_test_split\n",
    "def split(df_New,label):\n",
    "    X_tr, X_te, Y_tr, Y_te = train_test_split(df_New, label, test_size=0.25, random_state=42)\n",
    "    return X_tr, X_te, Y_tr, Y_te\n",
    "\n",
    "def acc_score(df,label):\n",
    "    Score = pd.DataFrame({\"Classifier\":classifiers})\n",
    "    j = 0\n",
    "    acc = []\n",
    "    X_train,X_test,Y_train,Y_test = split(df_New,label)\n",
    "    for i in models:\n",
    "        model = i\n",
    "        model.fit(X_train,Y_train)\n",
    "        predictions = model.predict(X_test)\n",
    "        acc.append(accuracy_score(Y_test,predictions))\n",
    "        j = j+1     \n",
    "    Score[\"Accuracy\"] = acc\n",
    "    Score.sort_values(by=\"Accuracy\", ascending=False,inplace = True)\n",
    "    Score.reset_index(drop=True, inplace=True)\n",
    "    return Score"
   ]
  },
  {
   "cell_type": "code",
   "execution_count": 125,
   "id": "e6213c6a",
   "metadata": {
    "execution": {
     "iopub.execute_input": "2021-11-13T23:09:26.529776Z",
     "iopub.status.busy": "2021-11-13T23:09:26.529127Z",
     "iopub.status.idle": "2021-11-13T23:09:53.155215Z",
     "shell.execute_reply": "2021-11-13T23:09:53.155758Z",
     "shell.execute_reply.started": "2021-11-13T23:06:25.560240Z"
    },
    "papermill": {
     "duration": 26.747451,
     "end_time": "2021-11-13T23:09:53.155948",
     "exception": false,
     "start_time": "2021-11-13T23:09:26.408497",
     "status": "completed"
    },
    "tags": []
   },
   "outputs": [
    {
     "data": {
      "text/html": [
       "<div>\n",
       "<style scoped>\n",
       "    .dataframe tbody tr th:only-of-type {\n",
       "        vertical-align: middle;\n",
       "    }\n",
       "\n",
       "    .dataframe tbody tr th {\n",
       "        vertical-align: top;\n",
       "    }\n",
       "\n",
       "    .dataframe thead th {\n",
       "        text-align: right;\n",
       "    }\n",
       "</style>\n",
       "<table border=\"1\" class=\"dataframe\">\n",
       "  <thead>\n",
       "    <tr style=\"text-align: right;\">\n",
       "      <th></th>\n",
       "      <th>Classifier</th>\n",
       "      <th>Accuracy</th>\n",
       "    </tr>\n",
       "  </thead>\n",
       "  <tbody>\n",
       "    <tr>\n",
       "      <th>0</th>\n",
       "      <td>LinearSVM</td>\n",
       "      <td>1.000000</td>\n",
       "    </tr>\n",
       "    <tr>\n",
       "      <th>1</th>\n",
       "      <td>RadialSVM</td>\n",
       "      <td>1.000000</td>\n",
       "    </tr>\n",
       "    <tr>\n",
       "      <th>2</th>\n",
       "      <td>Logistic</td>\n",
       "      <td>1.000000</td>\n",
       "    </tr>\n",
       "    <tr>\n",
       "      <th>3</th>\n",
       "      <td>RandomForest</td>\n",
       "      <td>1.000000</td>\n",
       "    </tr>\n",
       "    <tr>\n",
       "      <th>4</th>\n",
       "      <td>KNeighbors</td>\n",
       "      <td>1.000000</td>\n",
       "    </tr>\n",
       "    <tr>\n",
       "      <th>5</th>\n",
       "      <td>GradientBoosting</td>\n",
       "      <td>1.000000</td>\n",
       "    </tr>\n",
       "    <tr>\n",
       "      <th>6</th>\n",
       "      <td>DecisionTree</td>\n",
       "      <td>0.891801</td>\n",
       "    </tr>\n",
       "  </tbody>\n",
       "</table>\n",
       "</div>"
      ],
      "text/plain": [
       "         Classifier  Accuracy\n",
       "0         LinearSVM  1.000000\n",
       "1         RadialSVM  1.000000\n",
       "2          Logistic  1.000000\n",
       "3      RandomForest  1.000000\n",
       "4        KNeighbors  1.000000\n",
       "5  GradientBoosting  1.000000\n",
       "6      DecisionTree  0.891801"
      ]
     },
     "execution_count": 125,
     "metadata": {},
     "output_type": "execute_result"
    }
   ],
   "source": [
    "pred = df_New['target']\n",
    "acc_score(new_data,pred)"
   ]
  }
 ],
 "metadata": {
  "kernelspec": {
   "display_name": "Python 3",
   "language": "python",
   "name": "python3"
  },
  "language_info": {
   "codemirror_mode": {
    "name": "ipython",
    "version": 3
   },
   "file_extension": ".py",
   "mimetype": "text/x-python",
   "name": "python",
   "nbconvert_exporter": "python",
   "pygments_lexer": "ipython3",
   "version": "3.7.10"
  },
  "papermill": {
   "default_parameters": {},
   "duration": 90.551525,
   "end_time": "2021-11-13T23:09:54.187381",
   "environment_variables": {},
   "exception": null,
   "input_path": "__notebook__.ipynb",
   "output_path": "__notebook__.ipynb",
   "parameters": {},
   "start_time": "2021-11-13T23:08:23.635856",
   "version": "2.3.3"
  }
 },
 "nbformat": 4,
 "nbformat_minor": 5
}
